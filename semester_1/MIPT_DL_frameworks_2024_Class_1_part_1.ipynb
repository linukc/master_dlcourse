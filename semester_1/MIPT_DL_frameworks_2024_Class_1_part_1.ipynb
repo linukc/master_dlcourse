{
  "nbformat": 4,
  "nbformat_minor": 0,
  "metadata": {
    "colab": {
      "provenance": []
    },
    "kernelspec": {
      "name": "python3",
      "display_name": "Python 3"
    },
    "language_info": {
      "name": "python"
    }
  },
  "cells": [
    {
      "cell_type": "markdown",
      "source": [
        "<p align=\"center\" width=\"100%\">\n",
        "    <img width=\"66%\" src=\"https://raw.githubusercontent.com/linukc/master_dlcourse/main/images/logo.png\">\n",
        "</p>"
      ],
      "metadata": {
        "id": "94yOfIhNxqC1"
      }
    },
    {
      "cell_type": "markdown",
      "source": [
        " # **[MIPT DL frameworks Spring 2024](https://wiki.cogmodel.mipt.ru/s/mtai/doc/2024-nejrosetevye-frejmvorki-glubokogo-obucheniya-ZBGd69bxLd). Class 1: MLP p.1**"
      ],
      "metadata": {
        "id": "0CM7HWT-yED9"
      }
    },
    {
      "cell_type": "markdown",
      "source": [
        "This colab notebook provides code for the first part of the Multilayer Perceptron (MLP) talk."
      ],
      "metadata": {
        "id": "ISPCPAFP0EH6"
      }
    },
    {
      "cell_type": "markdown",
      "source": [
        "## **Goals**"
      ],
      "metadata": {
        "id": "hChikhXS0JjZ"
      }
    },
    {
      "cell_type": "markdown",
      "source": [
        "In this assignment, you will practice coding a backend of every deep learning framework. The goals of this assignment are as follows:\n",
        "- create a custom autograd library for simple mathematical operators\n",
        "- apply it to a MLP to backpropogate signals with a chain rule"
      ],
      "metadata": {
        "id": "jugZpocy0jrJ"
      }
    },
    {
      "cell_type": "markdown",
      "source": [
        "## **Contents**"
      ],
      "metadata": {
        "id": "b-Qr1UPd0dcd"
      }
    },
    {
      "cell_type": "markdown",
      "source": [
        "There are two main sections in this lab: **Toying with a basic neurons** and **Custom autograd library**.\n",
        "\n",
        "There are 4 questions in total:\n",
        "- for *Toying with a basic neurons*, there are **4** questions (Question 1-4)\n",
        "- for *Autograd library*, there are no additional questions"
      ],
      "metadata": {
        "id": "CKm7cyVo0lPa"
      }
    },
    {
      "cell_type": "markdown",
      "source": [
        "### **Setup**"
      ],
      "metadata": {
        "id": "L5w8HI2m00HT"
      }
    },
    {
      "cell_type": "code",
      "source": [
        "!python3 --version"
      ],
      "metadata": {
        "colab": {
          "base_uri": "https://localhost:8080/"
        },
        "id": "FWeZOR7JCc-y",
        "outputId": "14c70c67-8869-4f3c-8358-d01da5541e12"
      },
      "execution_count": 27,
      "outputs": [
        {
          "output_type": "stream",
          "name": "stdout",
          "text": [
            "Python 3.10.12\n"
          ]
        }
      ]
    },
    {
      "cell_type": "code",
      "source": [
        "!python -m pip list | grep numpy"
      ],
      "metadata": {
        "colab": {
          "base_uri": "https://localhost:8080/"
        },
        "id": "MgVikxY2Btgy",
        "outputId": "59bf2f70-7d34-4324-dac5-b0d7d3b4e184"
      },
      "execution_count": 28,
      "outputs": [
        {
          "output_type": "stream",
          "name": "stdout",
          "text": [
            "numpy                            1.23.5\n"
          ]
        }
      ]
    },
    {
      "cell_type": "code",
      "source": [
        "!python -m pip list | grep torch"
      ],
      "metadata": {
        "colab": {
          "base_uri": "https://localhost:8080/"
        },
        "id": "GBUjHOrKCqWy",
        "outputId": "22bed144-83b3-455b-c9ff-fd19ab197ff8"
      },
      "execution_count": 29,
      "outputs": [
        {
          "output_type": "stream",
          "name": "stdout",
          "text": [
            "torch                            2.1.0+cu121\n",
            "torchaudio                       2.1.0+cu121\n",
            "torchdata                        0.7.0\n",
            "torchsummary                     1.5.1\n",
            "torchtext                        0.16.0\n",
            "torchvision                      0.16.0+cu121\n"
          ]
        }
      ]
    },
    {
      "cell_type": "code",
      "source": [
        "import random\n",
        "\n",
        "import torch\n",
        "import numpy as np\n",
        "import matplotlib.pyplot as plt\n",
        "%matplotlib inline\n",
        "from sklearn.datasets import make_moons, make_blobs"
      ],
      "metadata": {
        "id": "5YbhGJF9HgAS"
      },
      "execution_count": 30,
      "outputs": []
    },
    {
      "cell_type": "markdown",
      "source": [
        "### **Toying with a basic neurons**"
      ],
      "metadata": {
        "id": "9mbQjrvrDHxC"
      }
    },
    {
      "cell_type": "code",
      "source": [
        "def heaviside(value):\n",
        "  return 0 if value <= 0 else 1\n",
        "\n",
        "class SimpleNeuron:\n",
        "  def __init__(self, weights, bias=0,\n",
        "               activation=lambda value: value):\n",
        "    self.weights = weights\n",
        "    self.bias = bias\n",
        "    self.activation = activation\n",
        "\n",
        "  def __call__(self, inputs):\n",
        "    return self.activation(\n",
        "        sum([i * j for i, j in zip(self.weights, inputs)]) + self.bias)"
      ],
      "metadata": {
        "id": "vXkDnKg6HK5R"
      },
      "execution_count": 31,
      "outputs": []
    },
    {
      "cell_type": "code",
      "source": [
        "SimpleNeuron(weights=[2, 5])(inputs=[4, 5])"
      ],
      "metadata": {
        "colab": {
          "base_uri": "https://localhost:8080/"
        },
        "id": "87-Z6qEiLsIs",
        "outputId": "743fdaae-eaa8-482c-d952-44bca09e45ae"
      },
      "execution_count": 32,
      "outputs": [
        {
          "output_type": "execute_result",
          "data": {
            "text/plain": [
              "33"
            ]
          },
          "metadata": {},
          "execution_count": 32
        }
      ]
    },
    {
      "cell_type": "code",
      "source": [
        "SimpleNeuron(weights=[2, 5], bias=-1, activation=heaviside)(inputs=[0, 0])"
      ],
      "metadata": {
        "colab": {
          "base_uri": "https://localhost:8080/"
        },
        "id": "6RH7rw0FMtIs",
        "outputId": "363fd5ee-b300-41fa-f3e7-0db6ffeda520"
      },
      "execution_count": 33,
      "outputs": [
        {
          "output_type": "execute_result",
          "data": {
            "text/plain": [
              "0"
            ]
          },
          "metadata": {},
          "execution_count": 33
        }
      ]
    },
    {
      "cell_type": "markdown",
      "source": [
        "#### *Question 1*"
      ],
      "metadata": {
        "id": "AAAkvfOsQfhd"
      }
    },
    {
      "cell_type": "markdown",
      "source": [
        "Create SimpleNeuron that can act as a boolean NOT operator.\n",
        "\n",
        "Hint: solve an equation system."
      ],
      "metadata": {
        "id": "loJ5ZaeKQ2cm"
      }
    },
    {
      "cell_type": "code",
      "source": [
        "neuron = SimpleNeuron(weights=[-1], bias=1, activation=heaviside)"
      ],
      "metadata": {
        "id": "M59X16hMQmZ4"
      },
      "execution_count": 34,
      "outputs": []
    },
    {
      "cell_type": "code",
      "source": [
        "assert neuron(inputs=[0]) == 1, f\"{neuron(inputs=[0])} is not equal to {1}\"\n",
        "assert neuron(inputs=[1]) == 0, f\"{neuron(inputs=[1])} is not equal to {0}\"\n",
        "\n",
        "print(\"passed all tests\")"
      ],
      "metadata": {
        "colab": {
          "base_uri": "https://localhost:8080/"
        },
        "id": "CRwvbBnYRSF-",
        "outputId": "ee071a5f-ec64-46a7-fc04-432acd873b11"
      },
      "execution_count": 35,
      "outputs": [
        {
          "output_type": "stream",
          "name": "stdout",
          "text": [
            "passed all tests\n"
          ]
        }
      ]
    },
    {
      "cell_type": "markdown",
      "source": [
        "#### *Question 2*"
      ],
      "metadata": {
        "id": "PCKGvUYmSYSx"
      }
    },
    {
      "cell_type": "markdown",
      "source": [
        "Create SimpleNeuron that can act as a boolean AND operator.\n",
        "\n",
        "Hint: solve an equation system."
      ],
      "metadata": {
        "id": "oVkG5oP7SZw0"
      }
    },
    {
      "cell_type": "code",
      "source": [
        "neuron = SimpleNeuron(weights=[1, 1], bias=-1, activation=heaviside)"
      ],
      "metadata": {
        "id": "Z-g1yBBCSri0"
      },
      "execution_count": 36,
      "outputs": []
    },
    {
      "cell_type": "code",
      "source": [
        "assert neuron(inputs=[0, 0]) == 0, f\"{neuron(inputs=[0, 0])} is not equal to {0}\"\n",
        "assert neuron(inputs=[0, 1]) == 0, f\"{neuron(inputs=[0, 1])} is not equal to {0}\"\n",
        "assert neuron(inputs=[1, 0]) == 0, f\"{neuron(inputs=[1, 0])} is not equal to {0}\"\n",
        "assert neuron(inputs=[1, 1]) == 1, f\"{neuron(inputs=[1, 1])} is not equal to {1}\"\n",
        "\n",
        "print(\"passed all tests\")"
      ],
      "metadata": {
        "colab": {
          "base_uri": "https://localhost:8080/"
        },
        "id": "Ji2QxQ3nStU7",
        "outputId": "87506b7c-8cd3-42a2-8fef-d68c79030d28"
      },
      "execution_count": 37,
      "outputs": [
        {
          "output_type": "stream",
          "name": "stdout",
          "text": [
            "passed all tests\n"
          ]
        }
      ]
    },
    {
      "cell_type": "markdown",
      "source": [
        "#### *Question 3*"
      ],
      "metadata": {
        "id": "cXQ5NJzyXyJ3"
      }
    },
    {
      "cell_type": "markdown",
      "source": [
        "Create SimpleNeuron that can act as a boolean OR operator.\n",
        "\n",
        "Hint: solve an equation system."
      ],
      "metadata": {
        "id": "SNGv3eZ4Xzyy"
      }
    },
    {
      "cell_type": "code",
      "source": [
        "neuron = SimpleNeuron(weights=[1, 1], bias=0, activation=heaviside)"
      ],
      "metadata": {
        "id": "eCup2ELGX2By"
      },
      "execution_count": 38,
      "outputs": []
    },
    {
      "cell_type": "code",
      "source": [
        "assert neuron(inputs=[0, 0]) == 0, f\"{neuron(inputs=[0, 0])} is not equal to {0}\"\n",
        "assert neuron(inputs=[0, 1]) == 1, f\"{neuron(inputs=[0, 1])} is not equal to {1}\"\n",
        "assert neuron(inputs=[1, 0]) == 1, f\"{neuron(inputs=[1, 0])} is not equal to {1}\"\n",
        "assert neuron(inputs=[1, 1]) == 1, f\"{neuron(inputs=[1, 1])} is not equal to {1}\"\n",
        "\n",
        "print(\"passed all tests\")"
      ],
      "metadata": {
        "colab": {
          "base_uri": "https://localhost:8080/"
        },
        "id": "ZL_lbeu2X21U",
        "outputId": "0afddffa-12fe-47c0-81d0-9a564c841a6c"
      },
      "execution_count": 39,
      "outputs": [
        {
          "output_type": "stream",
          "name": "stdout",
          "text": [
            "passed all tests\n"
          ]
        }
      ]
    },
    {
      "cell_type": "markdown",
      "source": [
        "#### *Question 4*"
      ],
      "metadata": {
        "id": "AS_2-jAxbJwK"
      }
    },
    {
      "cell_type": "markdown",
      "source": [
        "Create SimpleNeuron that can act as a boolean XOR operator."
      ],
      "metadata": {
        "id": "j__YFNlrbPPf"
      }
    },
    {
      "cell_type": "code",
      "source": [
        "class NeuronXOR:\n",
        "  def __call__(self, inputs):\n",
        "    not_x = SimpleNeuron(weights=[-1], bias=1, activation=heaviside)([inputs[0]])\n",
        "    x = inputs[0]\n",
        "\n",
        "    not_y = SimpleNeuron(weights=[-1], bias=1, activation=heaviside)([inputs[1]])\n",
        "    y = inputs[1]\n",
        "\n",
        "    not_x_and_y = SimpleNeuron(weights=[1, 1], bias=-1, activation=heaviside)(inputs=[not_x, y])\n",
        "    not_y_and_x = SimpleNeuron(weights=[1, 1], bias=-1, activation=heaviside)(inputs=[not_y, x])\n",
        "\n",
        "    return SimpleNeuron(weights=[1, 1], bias=0, activation=heaviside)(\n",
        "        inputs=[not_x_and_y, not_y_and_x])\n",
        "\n",
        "neuron = NeuronXOR()"
      ],
      "metadata": {
        "id": "PvFOcfmobWQn"
      },
      "execution_count": 40,
      "outputs": []
    },
    {
      "cell_type": "code",
      "source": [
        "assert neuron(inputs=[0, 0]) == 0, f\"{neuron(inputs=[0, 0])} is not equal to {0}\"\n",
        "assert neuron(inputs=[0, 1]) == 1, f\"{neuron(inputs=[0, 1])} is not equal to {1}\"\n",
        "assert neuron(inputs=[1, 0]) == 1, f\"{neuron(inputs=[1, 0])} is not equal to {1}\"\n",
        "assert neuron(inputs=[1, 1]) == 0, f\"{neuron(inputs=[1, 1])} is not equal to {0}\"\n",
        "\n",
        "print(\"passed all tests\")"
      ],
      "metadata": {
        "colab": {
          "base_uri": "https://localhost:8080/"
        },
        "id": "GobJuWIrbYZr",
        "outputId": "c743dba3-b7e3-4b12-e184-51a21068cdc8"
      },
      "execution_count": 41,
      "outputs": [
        {
          "output_type": "stream",
          "name": "stdout",
          "text": [
            "passed all tests\n"
          ]
        }
      ]
    },
    {
      "cell_type": "markdown",
      "source": [
        "### **Custom autograd library**"
      ],
      "metadata": {
        "id": "gN_GiJZiDQBN"
      }
    },
    {
      "cell_type": "markdown",
      "source": [
        "https://github.com/karpathy/micrograd"
      ],
      "metadata": {
        "id": "Wral5KVlHbe2"
      }
    },
    {
      "cell_type": "markdown",
      "source": [
        "<p align=\"center\" width=\"100%\">\n",
        "    <img width=\"66%\" src=\"https://raw.githubusercontent.com/karpathy/micrograd/master/puppy.jpg\">\n",
        "</p>"
      ],
      "metadata": {
        "id": "WxxmCPpwzsc9"
      }
    },
    {
      "cell_type": "code",
      "source": [
        "class Value:\n",
        "    \"\"\" stores a single scalar value and its gradient \"\"\"\n",
        "\n",
        "    def __init__(self, data, _children=(), _op=''):\n",
        "        self.data = data\n",
        "        self.grad = 0\n",
        "        # internal variables used for autograd graph construction\n",
        "        self._backward = lambda: None\n",
        "        self._prev = set(_children)\n",
        "        self._op = _op # the op that produced this node, for graphviz / debugging / etc\n",
        "\n",
        "    def __add__(self, other):\n",
        "        other = other if isinstance(other, Value) else Value(other)\n",
        "        out = Value(self.data + other.data, (self, other), '+')\n",
        "\n",
        "        def _backward():\n",
        "            self.grad += out.grad\n",
        "            other.grad += out.grad\n",
        "        out._backward = _backward\n",
        "\n",
        "        return out\n",
        "\n",
        "    def __mul__(self, other):\n",
        "        other = other if isinstance(other, Value) else Value(other)\n",
        "        out = Value(self.data * other.data, (self, other), '*')\n",
        "\n",
        "        def _backward():\n",
        "            self.grad += other.data * out.grad\n",
        "            other.grad += self.data * out.grad\n",
        "        out._backward = _backward\n",
        "\n",
        "        return out\n",
        "\n",
        "    def __pow__(self, other):\n",
        "        assert isinstance(other, (int, float)), \"only supporting int/float powers for now\"\n",
        "        out = Value(self.data**other, (self,), f'**{other}')\n",
        "\n",
        "        def _backward():\n",
        "            self.grad += (other * self.data**(other-1)) * out.grad\n",
        "        out._backward = _backward\n",
        "\n",
        "        return out\n",
        "\n",
        "    def relu(self):\n",
        "        out = Value(0 if self.data < 0 else self.data, (self,), 'ReLU')\n",
        "\n",
        "        def _backward():\n",
        "            self.grad += (out.data > 0) * out.grad\n",
        "        out._backward = _backward\n",
        "\n",
        "        return out\n",
        "\n",
        "    def backward(self):\n",
        "\n",
        "        # topological order all of the children in the graph\n",
        "        topo = []\n",
        "        visited = set()\n",
        "        def build_topo(v):\n",
        "            if v not in visited:\n",
        "                visited.add(v)\n",
        "                for child in v._prev:\n",
        "                    build_topo(child)\n",
        "                topo.append(v)\n",
        "        build_topo(self)\n",
        "\n",
        "        # go one variable at a time and apply the chain rule to get its gradient\n",
        "        self.grad = 1\n",
        "        for v in reversed(topo):\n",
        "            v._backward()\n",
        "\n",
        "    def __neg__(self): # -self\n",
        "        return self * -1\n",
        "\n",
        "    def __radd__(self, other): # other + self\n",
        "        return self + other\n",
        "\n",
        "    def __sub__(self, other): # self - other\n",
        "        return self + (-other)\n",
        "\n",
        "    def __rsub__(self, other): # other - self\n",
        "        return other + (-self)\n",
        "\n",
        "    def __rmul__(self, other): # other * self\n",
        "        return self * other\n",
        "\n",
        "    def __truediv__(self, other): # self / other\n",
        "        return self * other**-1\n",
        "\n",
        "    def __rtruediv__(self, other): # other / self\n",
        "        return other * self**-1\n",
        "\n",
        "    def __repr__(self):\n",
        "        return f\"Value(data={self.data}, grad={self.grad})\""
      ],
      "metadata": {
        "id": "hBfqVvSrUHD_"
      },
      "execution_count": 42,
      "outputs": []
    },
    {
      "cell_type": "code",
      "source": [
        "a = Value(2.0)\n",
        "b = Value(3.0)\n",
        "c = a * b\n",
        "d = Value(5.0)\n",
        "e = d * c\n",
        "e.backward()"
      ],
      "metadata": {
        "id": "zQHuXf8STgJv"
      },
      "execution_count": 43,
      "outputs": []
    },
    {
      "cell_type": "code",
      "source": [
        "x = Value(-4.0)\n",
        "z = 2 * x + 2 + x\n",
        "q = z.relu() + z * x\n",
        "h = (z * z).relu()\n",
        "y = h + q + q * x\n",
        "y.backward()\n",
        "xmg, ymg = x, y\n",
        "\n",
        "x = torch.Tensor([-4.0]).double()\n",
        "x.requires_grad = True\n",
        "z = 2 * x + 2 + x\n",
        "q = z.relu() + z * x\n",
        "h = (z * z).relu()\n",
        "y = h + q + q * x\n",
        "y.backward()\n",
        "xpt, ypt = x, y\n",
        "\n",
        "# forward pass went well\n",
        "assert ymg.data == ypt.data.item()\n",
        "# backward pass went well\n",
        "assert xmg.grad == xpt.grad.item()\n",
        "\n",
        "print(\"passed all tests\")"
      ],
      "metadata": {
        "colab": {
          "base_uri": "https://localhost:8080/"
        },
        "id": "lshBBtQR1GrX",
        "outputId": "f75f4216-f1b4-43bb-f70f-468fa0cfda79"
      },
      "execution_count": 44,
      "outputs": [
        {
          "output_type": "stream",
          "name": "stdout",
          "text": [
            "passed all tests\n"
          ]
        }
      ]
    },
    {
      "cell_type": "code",
      "source": [
        "a = Value(-4.0)\n",
        "b = Value(2.0)\n",
        "c = a + b\n",
        "d = a * b + b**3\n",
        "c += c + 1\n",
        "c += 1 + c + (-a)\n",
        "d += d * 2 + (b + a).relu()\n",
        "d += 3 * d + (b - a).relu()\n",
        "e = c - d\n",
        "f = e**2\n",
        "g = f / 2.0\n",
        "g += 10.0 / f\n",
        "g.backward()\n",
        "amg, bmg, gmg = a, b, g\n",
        "\n",
        "a = torch.Tensor([-4.0]).double()\n",
        "b = torch.Tensor([2.0]).double()\n",
        "a.requires_grad = True\n",
        "b.requires_grad = True\n",
        "c = a + b\n",
        "d = a * b + b**3\n",
        "c = c + c + 1\n",
        "c = c + 1 + c + (-a)\n",
        "d = d + d * 2 + (b + a).relu()\n",
        "d = d + 3 * d + (b - a).relu()\n",
        "e = c - d\n",
        "f = e**2\n",
        "g = f / 2.0\n",
        "g = g + 10.0 / f\n",
        "g.backward()\n",
        "apt, bpt, gpt = a, b, g\n",
        "\n",
        "tol = 1e-6\n",
        "# forward pass went well\n",
        "assert abs(gmg.data - gpt.data.item()) < tol\n",
        "# backward pass went well\n",
        "assert abs(amg.grad - apt.grad.item()) < tol\n",
        "assert abs(bmg.grad - bpt.grad.item()) < tol\n",
        "\n",
        "print(\"passed all tests\")"
      ],
      "metadata": {
        "colab": {
          "base_uri": "https://localhost:8080/"
        },
        "id": "weCKQVbN1TfA",
        "outputId": "8842f46b-f3e7-4fdc-835c-273a2fa88962"
      },
      "execution_count": 45,
      "outputs": [
        {
          "output_type": "stream",
          "name": "stdout",
          "text": [
            "passed all tests\n"
          ]
        }
      ]
    },
    {
      "cell_type": "code",
      "source": [
        "class Module:\n",
        "    def zero_grad(self):\n",
        "        for p in self.parameters():\n",
        "            p.grad = 0\n",
        "\n",
        "    def parameters(self):\n",
        "        return []\n",
        "\n",
        "class Neuron(Module):\n",
        "    def __init__(self, nin, nonlin=True):\n",
        "        self.w = [Value(random.uniform(-1,1)) for _ in range(nin)]\n",
        "        self.b = Value(0)\n",
        "        self.nonlin = nonlin\n",
        "\n",
        "    def __call__(self, x):\n",
        "        act = sum((wi*xi for wi,xi in zip(self.w, x)), self.b)\n",
        "        return act.relu() if self.nonlin else act\n",
        "\n",
        "    def parameters(self):\n",
        "        return self.w + [self.b]\n",
        "\n",
        "    def __repr__(self):\n",
        "        return f\"{'ReLU' if self.nonlin else 'Linear'}Neuron({len(self.w)})\"\n",
        "\n",
        "class Layer(Module):\n",
        "    def __init__(self, nin, nout, **kwargs):\n",
        "        self.neurons = [Neuron(nin, **kwargs) for _ in range(nout)]\n",
        "\n",
        "    def __call__(self, x):\n",
        "        out = [n(x) for n in self.neurons]\n",
        "        return out[0] if len(out) == 1 else out\n",
        "\n",
        "    def parameters(self):\n",
        "        return [p for n in self.neurons for p in n.parameters()]\n",
        "\n",
        "    def __repr__(self):\n",
        "        return f\"Layer of [{', '.join(str(n) for n in self.neurons)}]\"\n",
        "\n",
        "class MLP(Module):\n",
        "    def __init__(self, nin, nouts):\n",
        "        sz = [nin] + nouts\n",
        "        self.layers = [Layer(sz[i], sz[i+1], nonlin=i!=len(nouts)-1) for i in range(len(nouts))]\n",
        "\n",
        "    def __call__(self, x):\n",
        "        for layer in self.layers:\n",
        "            x = layer(x)\n",
        "        return x\n",
        "\n",
        "    def parameters(self):\n",
        "        return [p for layer in self.layers for p in layer.parameters()]\n",
        "\n",
        "    def __repr__(self):\n",
        "        return f\"MLP of [{', '.join(str(layer) for layer in self.layers)}]\""
      ],
      "metadata": {
        "id": "XBtxVGKL1iDs"
      },
      "execution_count": 46,
      "outputs": []
    },
    {
      "cell_type": "code",
      "source": [
        "seed = 2024\n",
        "np.random.seed(seed)\n",
        "random.seed(seed)"
      ],
      "metadata": {
        "id": "rUQpTwNU19cZ"
      },
      "execution_count": 47,
      "outputs": []
    },
    {
      "cell_type": "code",
      "source": [
        "X, y = make_moons(n_samples=100, noise=0.1)\n",
        "\n",
        "y = y*2 - 1 # make y be -1 or 1\n",
        "# visualize in 2D\n",
        "plt.figure(figsize=(5,5))\n",
        "plt.scatter(X[:,0], X[:,1], c=y, s=20, cmap='jet')"
      ],
      "metadata": {
        "colab": {
          "base_uri": "https://localhost:8080/",
          "height": 462
        },
        "id": "3uCRYxxo2e7n",
        "outputId": "e1050059-20a1-4057-96d5-9b25b90d8e8f"
      },
      "execution_count": 48,
      "outputs": [
        {
          "output_type": "execute_result",
          "data": {
            "text/plain": [
              "<matplotlib.collections.PathCollection at 0x7ae3401d05e0>"
            ]
          },
          "metadata": {},
          "execution_count": 48
        },
        {
          "output_type": "display_data",
          "data": {
            "text/plain": [
              "<Figure size 500x500 with 1 Axes>"
            ],
            "image/png": "[encoded data removed]"
          },
          "metadata": {}
        }
      ]
    },
    {
      "cell_type": "code",
      "source": [
        "model = MLP(2, [16, 16, 1]) # 2-layer neural network\n",
        "print(model)\n",
        "print(\"number of parameters\", len(model.parameters()))"
      ],
      "metadata": {
        "colab": {
          "base_uri": "https://localhost:8080/"
        },
        "id": "UiYor0_K2jP3",
        "outputId": "227f8489-4faf-45c0-fdc0-ea46a7b50525"
      },
      "execution_count": 49,
      "outputs": [
        {
          "output_type": "stream",
          "name": "stdout",
          "text": [
            "MLP of [Layer of [ReLUNeuron(2), ReLUNeuron(2), ReLUNeuron(2), ReLUNeuron(2), ReLUNeuron(2), ReLUNeuron(2), ReLUNeuron(2), ReLUNeuron(2), ReLUNeuron(2), ReLUNeuron(2), ReLUNeuron(2), ReLUNeuron(2), ReLUNeuron(2), ReLUNeuron(2), ReLUNeuron(2), ReLUNeuron(2)], Layer of [ReLUNeuron(16), ReLUNeuron(16), ReLUNeuron(16), ReLUNeuron(16), ReLUNeuron(16), ReLUNeuron(16), ReLUNeuron(16), ReLUNeuron(16), ReLUNeuron(16), ReLUNeuron(16), ReLUNeuron(16), ReLUNeuron(16), ReLUNeuron(16), ReLUNeuron(16), ReLUNeuron(16), ReLUNeuron(16)], Layer of [LinearNeuron(16)]]\n",
            "number of parameters 337\n"
          ]
        }
      ]
    },
    {
      "cell_type": "code",
      "source": [
        "# loss function\n",
        "def loss(batch_size=None):\n",
        "\n",
        "    # inline DataLoader :)\n",
        "    if batch_size is None:\n",
        "        Xb, yb = X, y\n",
        "    else:\n",
        "        ri = np.random.permutation(X.shape[0])[:batch_size]\n",
        "        Xb, yb = X[ri], y[ri]\n",
        "    inputs = [list(map(Value, xrow)) for xrow in Xb]\n",
        "\n",
        "    # forward the model to get scores\n",
        "    scores = list(map(model, inputs))\n",
        "\n",
        "    # svm \"max-margin\" loss\n",
        "    losses = [(1 + -yi*scorei).relu() for yi, scorei in zip(yb, scores)]\n",
        "    data_loss = sum(losses) * (1.0 / len(losses))\n",
        "    # L2 regularization\n",
        "    alpha = 1e-4\n",
        "    reg_loss = alpha * sum((p*p for p in model.parameters()))\n",
        "    total_loss = data_loss + reg_loss\n",
        "\n",
        "    # also get accuracy\n",
        "    accuracy = [(yi > 0) == (scorei.data > 0) for yi, scorei in zip(yb, scores)]\n",
        "    return total_loss, sum(accuracy) / len(accuracy)\n",
        "\n",
        "total_loss, acc = loss()\n",
        "print(total_loss, acc)"
      ],
      "metadata": {
        "colab": {
          "base_uri": "https://localhost:8080/"
        },
        "id": "hZixSNGy2hep",
        "outputId": "82d9c4ad-4f2f-410f-9305-b9beb2b4f57e"
      },
      "execution_count": 50,
      "outputs": [
        {
          "output_type": "stream",
          "name": "stdout",
          "text": [
            "Value(data=0.9572657927863953, grad=0) 0.54\n"
          ]
        }
      ]
    },
    {
      "cell_type": "code",
      "source": [
        "# optimization\n",
        "for k in range(25):\n",
        "\n",
        "    # forward\n",
        "    total_loss, acc = loss()\n",
        "\n",
        "    # backward\n",
        "    model.zero_grad()\n",
        "    total_loss.backward()\n",
        "\n",
        "    # update (sgd)\n",
        "    learning_rate = 1.0 - 0.9*k/100\n",
        "    for p in model.parameters():\n",
        "        p.data -= learning_rate * p.grad\n",
        "\n",
        "    if k % 1 == 0:\n",
        "        print(f\"step {k} loss {total_loss.data}, accuracy {acc*100}%\")"
      ],
      "metadata": {
        "colab": {
          "base_uri": "https://localhost:8080/"
        },
        "id": "5K4p3d1-2pM2",
        "outputId": "6ed30968-f085-4da7-86a3-05cc54339f9f"
      },
      "execution_count": 51,
      "outputs": [
        {
          "output_type": "stream",
          "name": "stdout",
          "text": [
            "step 0 loss 0.9572657927863953, accuracy 54.0%\n",
            "step 1 loss 0.5395986641441692, accuracy 79.0%\n",
            "step 2 loss 0.3797997096884869, accuracy 87.0%\n",
            "step 3 loss 0.513783837173646, accuracy 82.0%\n",
            "step 4 loss 0.2981954725635459, accuracy 84.0%\n",
            "step 5 loss 0.3298985257023972, accuracy 86.0%\n",
            "step 6 loss 0.2843190510095551, accuracy 85.0%\n",
            "step 7 loss 0.3751707301900976, accuracy 87.0%\n",
            "step 8 loss 0.2523566136319422, accuracy 88.0%\n",
            "step 9 loss 0.28408330694866707, accuracy 91.0%\n",
            "step 10 loss 0.23813563082520003, accuracy 88.0%\n",
            "step 11 loss 0.32297722794105455, accuracy 88.0%\n",
            "step 12 loss 0.19985689362034909, accuracy 91.0%\n",
            "step 13 loss 0.22143319671611308, accuracy 92.0%\n",
            "step 14 loss 0.22946878090675263, accuracy 90.0%\n",
            "step 15 loss 0.4343065590980976, accuracy 86.0%\n",
            "step 16 loss 0.2536587550170382, accuracy 89.0%\n",
            "step 17 loss 0.23018470497501922, accuracy 93.0%\n",
            "step 18 loss 0.14469586250667457, accuracy 94.0%\n",
            "step 19 loss 0.127215314722356, accuracy 95.0%\n",
            "step 20 loss 0.1322928403578637, accuracy 97.0%\n",
            "step 21 loss 0.1615591912816095, accuracy 94.0%\n",
            "step 22 loss 0.15234323612449438, accuracy 97.0%\n",
            "step 23 loss 0.28608647713218116, accuracy 91.0%\n",
            "step 24 loss 0.18018837986210873, accuracy 94.0%\n"
          ]
        }
      ]
    },
    {
      "cell_type": "code",
      "source": [
        "# visualize decision boundary\n",
        "\n",
        "h = 0.25\n",
        "x_min, x_max = X[:, 0].min() - 1, X[:, 0].max() + 1\n",
        "y_min, y_max = X[:, 1].min() - 1, X[:, 1].max() + 1\n",
        "xx, yy = np.meshgrid(np.arange(x_min, x_max, h),\n",
        "                     np.arange(y_min, y_max, h))\n",
        "Xmesh = np.c_[xx.ravel(), yy.ravel()]\n",
        "inputs = [list(map(Value, xrow)) for xrow in Xmesh]\n",
        "scores = list(map(model, inputs))\n",
        "Z = np.array([s.data > 0 for s in scores])\n",
        "Z = Z.reshape(xx.shape)\n",
        "\n",
        "fig = plt.figure()\n",
        "plt.contourf(xx, yy, Z, cmap=plt.cm.Spectral, alpha=0.8)\n",
        "plt.scatter(X[:, 0], X[:, 1], c=y, s=40, cmap=plt.cm.Spectral)\n",
        "plt.xlim(xx.min(), xx.max())\n",
        "plt.ylim(yy.min(), yy.max())"
      ],
      "metadata": {
        "colab": {
          "base_uri": "https://localhost:8080/",
          "height": 448
        },
        "id": "bgrXdbw24MuN",
        "outputId": "af13af6a-45b6-479c-c890-4974f2d4b29b"
      },
      "execution_count": 52,
      "outputs": [
        {
          "output_type": "execute_result",
          "data": {
            "text/plain": [
              "(-1.7023042238416939, 2.047695776158306)"
            ]
          },
          "metadata": {},
          "execution_count": 52
        },
        {
          "output_type": "display_data",
          "data": {
            "text/plain": [
              "<Figure size 640x480 with 1 Axes>"
            ],
            "image/png": "[encoded data removed]"
          },
          "metadata": {}
        }
      ]
    }
  ]
}