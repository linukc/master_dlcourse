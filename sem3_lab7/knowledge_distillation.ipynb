{
  "cells": [
    {
      "cell_type": "code",
      "execution_count": null,
      "metadata": {
        "id": "YKpVYR6P9a0n"
      },
      "outputs": [],
      "source": [
        "# For tips on running notebooks in Google Colab, see\n",
        "# https://pytorch.org/tutorials/beginner/colab\n",
        "%matplotlib inline"
      ]
    },
    {
      "cell_type": "markdown",
      "metadata": {
        "id": "s1g5Kr7W9a0p"
      },
      "source": [
        "\n",
        "# Knowledge Distillation Tutorial\n",
        "**Author**: [Alexandros Chariton](https://github.com/AlexandrosChrtn)\n"
      ]
    },
    {
      "cell_type": "markdown",
      "metadata": {
        "id": "N3qiPdt79a0q"
      },
      "source": [
        "Knowledge distillation is a technique that enables knowledge transfer from large, computationally expensive\n",
        "models to smaller ones without losing validity. This allows for deployment on less powerful\n",
        "hardware, making evaluation faster and more efficient.\n",
        "\n",
        "In this tutorial, we will run a number of experiments focused at improving the accuracy of a\n",
        "lightweight neural network, using a more powerful network as a teacher.\n",
        "The computational cost and the speed of the lightweight network will remain unaffected,\n",
        "our intervention only focuses on its weights, not on its forward pass.\n",
        "Applications of this technology can be found in devices such as drones or mobile phones.\n",
        "In this tutorial, we do not use any external packages as everything we need is available in ``torch`` and\n",
        "``torchvision``.\n",
        "\n",
        "In this tutorial, you will learn:\n",
        "\n",
        "- How to modify model classes to extract hidden representations and use them for further calculations\n",
        "- How to modify regular train loops in PyTorch to include additional losses on top of, for example, cross-entropy for classification\n",
        "- How to improve the performance of lightweight models by using more complex models as teachers\n",
        "\n",
        "## Prerequisites\n",
        "\n",
        "* 1 GPU, 4GB of memory\n",
        "* PyTorch v2.0 or later\n",
        "* CIFAR-10 dataset (downloaded by the script and saved in a directory called ``/data``)\n",
        "\n"
      ]
    },
    {
      "cell_type": "code",
      "execution_count": null,
      "metadata": {
        "id": "tpwV2JSp9a0q"
      },
      "outputs": [],
      "source": [
        "import torch\n",
        "import torch.nn as nn\n",
        "import torch.optim as optim\n",
        "import torchvision.transforms as transforms\n",
        "import torchvision.datasets as datasets\n",
        "\n",
        "# Check if GPU is available, and if not, use the CPU\n",
        "device = torch.device(\"cuda\" if torch.cuda.is_available() else \"cpu\")"
      ]
    },
    {
      "cell_type": "markdown",
      "metadata": {
        "id": "8MlxkrGI9a0q"
      },
      "source": [
        "### Loading CIFAR-10\n",
        "CIFAR-10 is a popular image dataset with ten classes. Our objective is to predict one of the following classes for each input image.\n",
        "\n",
        ".. figure:: /../_static/img/cifar10.png\n",
        "   :align: center\n",
        "\n",
        "   Example of CIFAR-10 images\n",
        "\n",
        "The input images are RGB, so they have 3 channels and are 32x32 pixels. Basically, each image is described by 3 x 32 x 32 = 3072 numbers ranging from 0 to 255.\n",
        "A common practice in neural networks is to normalize the input, which is done for multiple reasons,\n",
        "including avoiding saturation in commonly used activation functions and increasing numerical stability.\n",
        "Our normalization process consists of subtracting the mean and dividing by the standard deviation along each channel.\n",
        "The tensors \"mean=[0.485, 0.456, 0.406]\" and \"std=[0.229, 0.224, 0.225]\" were already computed,\n",
        "and they represent the mean and standard deviation of each channel in the\n",
        "predefined subset of CIFAR-10 intended to be the training set.\n",
        "Notice how we use these values for the test set as well, without recomputing the mean and standard deviation from scratch.\n",
        "This is because the network was trained on features produced by subtracting and dividing the numbers above, and we want to maintain consistency.\n",
        "Furthermore, in real life, we would not be able to compute the mean and standard deviation of the test set since,\n",
        "under our assumptions, this data would not be accessible at that point.\n",
        "\n",
        "As a closing point, we often refer to this held-out set as the validation set, and we use a separate set,\n",
        "called the test set, after optimizing a model's performance on the validation set.\n",
        "This is done to avoid selecting a model based on the greedy and biased optimization of a single metric.\n",
        "\n"
      ]
    },
    {
      "cell_type": "code",
      "execution_count": null,
      "metadata": {
        "id": "5tE3Xf0p9a0r"
      },
      "outputs": [],
      "source": [
        "# Below we are preprocessing data for CIFAR-10. We use an arbitrary batch size of 128.\n",
        "transforms_cifar = transforms.Compose([\n",
        "    transforms.ToTensor(),\n",
        "    transforms.Normalize(mean=[0.485, 0.456, 0.406], std=[0.229, 0.224, 0.225]),\n",
        "])\n",
        "\n",
        "# Loading the CIFAR-10 dataset:\n",
        "train_dataset = datasets.CIFAR10(root='./data', train=True, download=True, transform=transforms_cifar)\n",
        "test_dataset = datasets.CIFAR10(root='./data', train=False, download=True, transform=transforms_cifar)"
      ]
    },
    {
      "cell_type": "markdown",
      "metadata": {
        "id": "sC1FdeLl9a0r"
      },
      "source": [
        "<div class=\"alert alert-info\"><h4>Note</h4><p>This section is for CPU users only who are interested in quick results. Use this option only if you're interested in a small scale experiment. Keep in mind the code should run fairly quickly using any GPU. Select only the first ``num_images_to_keep`` images from the train/test dataset\n",
        "\n",
        "```python\n",
        "#from torch.utils.data import Subset\n",
        "#num_images_to_keep = 2000\n",
        "#train_dataset = Subset(train_dataset, range(min(num_images_to_keep, 50_000)))\n",
        "#test_dataset = Subset(test_dataset, range(min(num_images_to_keep, 10_000)))</p></div>\n",
        "```\n"
      ]
    },
    {
      "cell_type": "code",
      "execution_count": null,
      "metadata": {
        "id": "KG9kq3WR9a0r"
      },
      "outputs": [],
      "source": [
        "#Dataloaders\n",
        "train_loader = torch.utils.data.DataLoader(train_dataset, batch_size=128, shuffle=True, num_workers=2)\n",
        "test_loader = torch.utils.data.DataLoader(test_dataset, batch_size=128, shuffle=False, num_workers=2)"
      ]
    },
    {
      "cell_type": "markdown",
      "metadata": {
        "id": "-xqcKWRr9a0r"
      },
      "source": [
        "### Defining model classes and utility functions\n",
        "Next, we need to define our model classes. Several user-defined parameters need to be set here. We use two different architectures, keeping the number of filters fixed across our experiments to ensure fair comparisons.\n",
        "Both architectures are Convolutional Neural Networks (CNNs) with a different number of convolutional layers that serve as feature extractors, followed by a classifier with 10 classes.\n",
        "The number of filters and neurons is smaller for the students.\n",
        "\n"
      ]
    },
    {
      "cell_type": "code",
      "execution_count": null,
      "metadata": {
        "id": "2O1kNZNZ9a0s"
      },
      "outputs": [],
      "source": [
        "# Deeper neural network class to be used as teacher:\n",
        "class DeepNN(nn.Module):\n",
        "    def __init__(self, num_classes=10):\n",
        "        super(DeepNN, self).__init__()\n",
        "        self.features = nn.Sequential(\n",
        "            nn.Conv2d(3, 128, kernel_size=3, padding=1),\n",
        "            nn.ReLU(),\n",
        "            nn.Conv2d(128, 64, kernel_size=3, padding=1),\n",
        "            nn.ReLU(),\n",
        "            nn.MaxPool2d(kernel_size=2, stride=2),\n",
        "            nn.Conv2d(64, 64, kernel_size=3, padding=1),\n",
        "            nn.ReLU(),\n",
        "            nn.Conv2d(64, 32, kernel_size=3, padding=1),\n",
        "            nn.ReLU(),\n",
        "            nn.MaxPool2d(kernel_size=2, stride=2),\n",
        "        )\n",
        "        self.classifier = nn.Sequential(\n",
        "            nn.Linear(2048, 512),\n",
        "            nn.ReLU(),\n",
        "            nn.Dropout(0.1),\n",
        "            nn.Linear(512, num_classes)\n",
        "        )\n",
        "\n",
        "    def forward(self, x):\n",
        "        x = self.features(x)\n",
        "        x = torch.flatten(x, 1)\n",
        "        x = self.classifier(x)\n",
        "        return x\n",
        "\n",
        "# Lightweight neural network class to be used as student:\n",
        "class LightNN(nn.Module):\n",
        "    def __init__(self, num_classes=10):\n",
        "        super(LightNN, self).__init__()\n",
        "        self.features = nn.Sequential(\n",
        "            nn.Conv2d(3, 16, kernel_size=3, padding=1),\n",
        "            nn.ReLU(),\n",
        "            nn.MaxPool2d(kernel_size=2, stride=2),\n",
        "            nn.Conv2d(16, 16, kernel_size=3, padding=1),\n",
        "            nn.ReLU(),\n",
        "            nn.MaxPool2d(kernel_size=2, stride=2),\n",
        "        )\n",
        "        self.classifier = nn.Sequential(\n",
        "            nn.Linear(1024, 256),\n",
        "            nn.ReLU(),\n",
        "            nn.Dropout(0.1),\n",
        "            nn.Linear(256, num_classes)\n",
        "        )\n",
        "\n",
        "    def forward(self, x):\n",
        "        x = self.features(x)\n",
        "        x = torch.flatten(x, 1)\n",
        "        x = self.classifier(x)\n",
        "        return x"
      ]
    },
    {
      "cell_type": "markdown",
      "metadata": {
        "id": "Qwues5dv9a0s"
      },
      "source": [
        "We employ 2 functions to help us produce and evaluate the results on our original classification task.\n",
        "One function is called ``train`` and takes the following arguments:\n",
        "\n",
        "- ``model``: A model instance to train (update its weights) via this function.\n",
        "- ``train_loader``: We defined our ``train_loader`` above, and its job is to feed the data into the model.\n",
        "- ``epochs``: How many times we loop over the dataset.\n",
        "- ``learning_rate``: The learning rate determines how large our steps towards convergence should be. Too large or too small steps can be detrimental.\n",
        "- ``device``: Determines the device to run the workload on. Can be either CPU or GPU depending on availability.\n",
        "\n",
        "Our test function is similar, but it will be invoked with ``test_loader`` to load images from the test set.\n",
        "\n",
        ".. figure:: /../_static/img/knowledge_distillation/ce_only.png\n",
        "   :align: center\n",
        "\n",
        "   Train both networks with Cross-Entropy. The student will be used as a baseline:\n",
        "\n",
        "\n"
      ]
    },
    {
      "cell_type": "code",
      "execution_count": null,
      "metadata": {
        "id": "UZb460419a0s"
      },
      "outputs": [],
      "source": [
        "def train(model, train_loader, epochs, learning_rate, device):\n",
        "    criterion = nn.CrossEntropyLoss()\n",
        "    optimizer = optim.Adam(model.parameters(), lr=learning_rate)\n",
        "\n",
        "    model.train()\n",
        "\n",
        "    for epoch in range(epochs):\n",
        "        running_loss = 0.0\n",
        "        for inputs, labels in train_loader:\n",
        "            # inputs: A collection of batch_size images\n",
        "            # labels: A vector of dimensionality batch_size with integers denoting class of each image\n",
        "            inputs, labels = inputs.to(device), labels.to(device)\n",
        "\n",
        "            optimizer.zero_grad()\n",
        "            outputs = model(inputs)\n",
        "\n",
        "            # outputs: Output of the network for the collection of images. A tensor of dimensionality batch_size x num_classes\n",
        "            # labels: The actual labels of the images. Vector of dimensionality batch_size\n",
        "            loss = criterion(outputs, labels)\n",
        "            loss.backward()\n",
        "            optimizer.step()\n",
        "\n",
        "            running_loss += loss.item()\n",
        "\n",
        "        print(f\"Epoch {epoch+1}/{epochs}, Loss: {running_loss / len(train_loader)}\")\n",
        "\n",
        "def test(model, test_loader, device):\n",
        "    model.to(device)\n",
        "    model.eval()\n",
        "\n",
        "    correct = 0\n",
        "    total = 0\n",
        "\n",
        "    with torch.no_grad():\n",
        "        for inputs, labels in test_loader:\n",
        "            inputs, labels = inputs.to(device), labels.to(device)\n",
        "\n",
        "            outputs = model(inputs)\n",
        "            _, predicted = torch.max(outputs.data, 1)\n",
        "\n",
        "            total += labels.size(0)\n",
        "            correct += (predicted == labels).sum().item()\n",
        "\n",
        "    accuracy = 100 * correct / total\n",
        "    print(f\"Test Accuracy: {accuracy:.2f}%\")\n",
        "    return accuracy"
      ]
    },
    {
      "cell_type": "markdown",
      "metadata": {
        "id": "v8wZmUqf9a0s"
      },
      "source": [
        "### Cross-entropy runs\n",
        "For reproducibility, we need to set the torch manual seed. We train networks using different methods, so to compare them fairly,\n",
        "it makes sense to initialize the networks with the same weights.\n",
        "Start by training the teacher network using cross-entropy:\n",
        "\n"
      ]
    },
    {
      "cell_type": "code",
      "execution_count": null,
      "metadata": {
        "id": "ojAYRHMz9a0t"
      },
      "outputs": [],
      "source": [
        "torch.manual_seed(42)\n",
        "nn_deep = DeepNN(num_classes=10).to(device)\n",
        "train(nn_deep, train_loader, epochs=10, learning_rate=0.001, device=device)\n",
        "test_accuracy_deep = test(nn_deep, test_loader, device)\n",
        "\n",
        "# Instantiate the lightweight network:\n",
        "torch.manual_seed(42)\n",
        "nn_light = LightNN(num_classes=10).to(device)"
      ]
    },
    {
      "cell_type": "markdown",
      "metadata": {
        "id": "47DwTHu49a0t"
      },
      "source": [
        "We instantiate one more lightweight network model to compare their performances.\n",
        "Back propagation is sensitive to weight initialization,\n",
        "so we need to make sure these two networks have the exact same initialization.\n",
        "\n"
      ]
    },
    {
      "cell_type": "code",
      "execution_count": null,
      "metadata": {
        "id": "kkHEL08M9a0t"
      },
      "outputs": [],
      "source": [
        "torch.manual_seed(42)\n",
        "new_nn_light = LightNN(num_classes=10).to(device)"
      ]
    },
    {
      "cell_type": "markdown",
      "metadata": {
        "id": "Pp9tgf8Y9a0t"
      },
      "source": [
        "To ensure we have created a copy of the first network, we inspect the norm of its first layer.\n",
        "If it matches, then we are safe to conclude that the networks are indeed the same.\n",
        "\n"
      ]
    },
    {
      "cell_type": "code",
      "execution_count": null,
      "metadata": {
        "id": "kB0QjIVU9a0t"
      },
      "outputs": [],
      "source": [
        "# Print the norm of the first layer of the initial lightweight model\n",
        "print(\"Norm of 1st layer of nn_light:\", torch.norm(nn_light.features[0].weight).item())\n",
        "# Print the norm of the first layer of the new lightweight model\n",
        "print(\"Norm of 1st layer of new_nn_light:\", torch.norm(new_nn_light.features[0].weight).item())"
      ]
    },
    {
      "cell_type": "markdown",
      "metadata": {
        "id": "Wymr9-vO9a0u"
      },
      "source": [
        "Print the total number of parameters in each model:\n",
        "\n"
      ]
    },
    {
      "cell_type": "code",
      "execution_count": null,
      "metadata": {
        "id": "cdyE1jTQ9a0u"
      },
      "outputs": [],
      "source": [
        "total_params_deep = \"{:,}\".format(sum(p.numel() for p in nn_deep.parameters()))\n",
        "print(f\"DeepNN parameters: {total_params_deep}\")\n",
        "total_params_light = \"{:,}\".format(sum(p.numel() for p in nn_light.parameters()))\n",
        "print(f\"LightNN parameters: {total_params_light}\")"
      ]
    },
    {
      "cell_type": "markdown",
      "metadata": {
        "id": "9rP_klWS9a0u"
      },
      "source": [
        "Train and test the lightweight network with cross entropy loss:\n",
        "\n"
      ]
    },
    {
      "cell_type": "code",
      "execution_count": null,
      "metadata": {
        "id": "wcP-2FaT9a0u"
      },
      "outputs": [],
      "source": [
        "train(nn_light, train_loader, epochs=10, learning_rate=0.001, device=device)\n",
        "test_accuracy_light_ce = test(nn_light, test_loader, device)"
      ]
    },
    {
      "cell_type": "markdown",
      "metadata": {
        "id": "zAwh6sVV9a0v"
      },
      "source": [
        "As we can see, based on test accuracy, we can now compare the deeper network that is to be used as a teacher with the lightweight network that is our supposed student. So far, our student has not intervened with the teacher, therefore this performance is achieved by the student itself.\n",
        "The metrics so far can be seen with the following lines:\n",
        "\n"
      ]
    },
    {
      "cell_type": "code",
      "execution_count": null,
      "metadata": {
        "id": "WjsXeG9-9a0v"
      },
      "outputs": [],
      "source": [
        "print(f\"Teacher accuracy: {test_accuracy_deep:.2f}%\")\n",
        "print(f\"Student accuracy: {test_accuracy_light_ce:.2f}%\")"
      ]
    },
    {
      "cell_type": "markdown",
      "metadata": {
        "id": "pJPizECi9a0v"
      },
      "source": [
        "### Knowledge distillation run\n",
        "Now let's try to improve the test accuracy of the student network by incorporating the teacher.\n",
        "Knowledge distillation is a straightforward technique to achieve this,\n",
        "based on the fact that both networks output a probability distribution over our classes.\n",
        "Therefore, the two networks share the same number of output neurons.\n",
        "The method works by incorporating an additional loss into the traditional cross entropy loss,\n",
        "which is based on the softmax output of the teacher network.\n",
        "The assumption is that the output activations of a properly trained teacher network carry additional information that can be leveraged by a student network during training.\n",
        "The original work suggests that utilizing ratios of smaller probabilities in the soft targets can help achieve the underlying objective of deep neural networks,\n",
        "which is to create a similarity structure over the data where similar objects are mapped closer together.\n",
        "For example, in CIFAR-10, a truck could be mistaken for an automobile or airplane,\n",
        "if its wheels are present, but it is less likely to be mistaken for a dog.\n",
        "Therefore, it makes sense to assume that valuable information resides not only in the top prediction of a properly trained model but in the entire output distribution.\n",
        "However, cross entropy alone does not sufficiently exploit this information as the activations for non-predicted classes\n",
        "tend to be so small that propagated gradients do not meaningfully change the weights to construct this desirable vector space.\n",
        "\n",
        "As we continue defining our first helper function that introduces a teacher-student dynamic, we need to include a few extra parameters:\n",
        "\n",
        "- ``T``: Temperature controls the smoothness of the output distributions. Larger ``T`` leads to smoother distributions, thus smaller probabilities get a larger boost.\n",
        "- ``soft_target_loss_weight``: A weight assigned to the extra objective we're about to include.\n",
        "- ``ce_loss_weight``: A weight assigned to cross-entropy. Tuning these weights pushes the network towards optimizing for either objective.\n",
        "\n",
        ".. figure:: /../_static/img/knowledge_distillation/distillation_output_loss.png\n",
        "   :align: center\n",
        "\n",
        "   Distillation loss is calculated from the logits of the networks. It only returns gradients to the student:\n",
        "\n",
        "\n"
      ]
    },
    {
      "cell_type": "code",
      "execution_count": null,
      "metadata": {
        "id": "MJ5dwTao9a0v"
      },
      "outputs": [],
      "source": [
        "def train_knowledge_distillation(teacher, student, train_loader, epochs, learning_rate, T, soft_target_loss_weight, ce_loss_weight, device):\n",
        "    ce_loss = nn.CrossEntropyLoss()\n",
        "    optimizer = optim.Adam(student.parameters(), lr=learning_rate)\n",
        "\n",
        "    teacher.eval()  # Teacher set to evaluation mode\n",
        "    student.train() # Student to train mode\n",
        "\n",
        "    for epoch in range(epochs):\n",
        "        running_loss = 0.0\n",
        "        for inputs, labels in train_loader:\n",
        "            inputs, labels = inputs.to(device), labels.to(device)\n",
        "\n",
        "            optimizer.zero_grad()\n",
        "\n",
        "            # Forward pass with the teacher model - do not save gradients here as we do not change the teacher's weights\n",
        "            with torch.no_grad():\n",
        "                teacher_logits = teacher(inputs)\n",
        "\n",
        "            # Forward pass with the student model\n",
        "            student_logits = student(inputs)\n",
        "\n",
        "            #Soften the student logits by applying softmax first and log() second\n",
        "            soft_targets = nn.functional.softmax(teacher_logits / T, dim=-1)\n",
        "            soft_prob = nn.functional.log_softmax(student_logits / T, dim=-1)\n",
        "\n",
        "            # Calculate the soft targets loss. Scaled by T**2 as suggested by the authors of the paper \"Distilling the knowledge in a neural network\"\n",
        "            soft_targets_loss = -torch.sum(soft_targets * soft_prob) / soft_prob.size()[0] * (T**2)\n",
        "\n",
        "            # Calculate the true label loss\n",
        "            label_loss = ce_loss(student_logits, labels)\n",
        "\n",
        "            # Weighted sum of the two losses\n",
        "            loss = soft_target_loss_weight * soft_targets_loss + ce_loss_weight * label_loss\n",
        "\n",
        "            loss.backward()\n",
        "            optimizer.step()\n",
        "\n",
        "            running_loss += loss.item()\n",
        "\n",
        "        print(f\"Epoch {epoch+1}/{epochs}, Loss: {running_loss / len(train_loader)}\")\n",
        "\n",
        "# Apply ``train_knowledge_distillation`` with a temperature of 2. Arbitrarily set the weights to 0.75 for CE and 0.25 for distillation loss.\n",
        "train_knowledge_distillation(teacher=nn_deep, student=new_nn_light, train_loader=train_loader, epochs=10, learning_rate=0.001, T=2, soft_target_loss_weight=0.25, ce_loss_weight=0.75, device=device)\n",
        "test_accuracy_light_ce_and_kd = test(new_nn_light, test_loader, device)\n",
        "\n",
        "# Compare the student test accuracy with and without the teacher, after distillation\n",
        "print(f\"Teacher accuracy: {test_accuracy_deep:.2f}%\")\n",
        "print(f\"Student accuracy without teacher: {test_accuracy_light_ce:.2f}%\")\n",
        "print(f\"Student accuracy with CE + KD: {test_accuracy_light_ce_and_kd:.2f}%\")"
      ]
    },
    {
      "cell_type": "markdown",
      "metadata": {
        "id": "knIy88ur9a0v"
      },
      "source": [
        "### Cosine loss minimization run\n",
        "Feel free to play around with the temperature parameter that controls the softness of the softmax function and the loss coefficients.\n",
        "In neural networks, it is easy to include to include additional loss functions to the main objectives to achieve goals like better generalization.\n",
        "Let's try including an objective for the student, but now let's focus on their hidden states rather than their output layers.\n",
        "Our goal is to convey information from the teacher's representation to the student by including a naive loss function,\n",
        "whose minimization implies that the flattened vectors that are subsequently passed to the classifiers have become more *similar* as the loss decreases.\n",
        "Of course, the teacher does not update its weights, so the minimization depends only on the student's weights.\n",
        "The rationale behind this method is that we are operating under the assumption that the teacher model has a better internal representation that is\n",
        "unlikely to be achieved by the student without external intervention, therefore we artificially push the student to mimic the internal representation of the teacher.\n",
        "Whether or not this will end up helping the student is not straightforward, though, because pushing the lightweight network\n",
        "to reach this point could be a good thing, assuming that we have found an internal representation that leads to better test accuracy,\n",
        "but it could also be harmful because the networks have different architectures and the student does not have the same learning capacity as the teacher.\n",
        "In other words, there is no reason for these two vectors, the student's and the teacher's to match per component.\n",
        "The student could reach an internal representation that is a permutation of the teacher's and it would be just as efficient.\n",
        "Nonetheless, we can still run a quick experiment to figure out the impact of this method.\n",
        "We will be using the ``CosineEmbeddingLoss`` which is given by the following formula:\n",
        "\n",
        ".. figure:: /../_static/img/knowledge_distillation/cosine_embedding_loss.png\n",
        "   :align: center\n",
        "   :width: 450px\n",
        "\n",
        "   Formula for CosineEmbeddingLoss\n",
        "\n",
        "Obviously, there is one thing that we need to resolve first.\n",
        "When we applied distillation to the output layer we mentioned that both networks have the same number of neurons, equal to the number of classes.\n",
        "However, this is not the case for the layer following our convolutional layers. Here, the teacher has more neurons than the student\n",
        "after the flattening of the final convolutional layer. Our loss function accepts two vectors of equal dimensionality as inputs,\n",
        "therefore we need to somehow match them. We will solve this by including an average pooling layer after the teacher's convolutional layer to reduce its dimensionality to match that of the student.\n",
        "\n",
        "To proceed, we will modify our model classes, or create new ones.\n",
        "Now, the forward function returns not only the logits of the network but also the flattened hidden representation after the convolutional layer. We include the aforementioned pooling for the modified teacher.\n",
        "\n"
      ]
    },
    {
      "cell_type": "code",
      "execution_count": null,
      "metadata": {
        "id": "bt14lYwl9a0w"
      },
      "outputs": [],
      "source": [
        "class ModifiedDeepNNCosine(nn.Module):\n",
        "    def __init__(self, num_classes=10):\n",
        "        super(ModifiedDeepNNCosine, self).__init__()\n",
        "        self.features = nn.Sequential(\n",
        "            nn.Conv2d(3, 128, kernel_size=3, padding=1),\n",
        "            nn.ReLU(),\n",
        "            nn.Conv2d(128, 64, kernel_size=3, padding=1),\n",
        "            nn.ReLU(),\n",
        "            nn.MaxPool2d(kernel_size=2, stride=2),\n",
        "            nn.Conv2d(64, 64, kernel_size=3, padding=1),\n",
        "            nn.ReLU(),\n",
        "            nn.Conv2d(64, 32, kernel_size=3, padding=1),\n",
        "            nn.ReLU(),\n",
        "            nn.MaxPool2d(kernel_size=2, stride=2),\n",
        "        )\n",
        "        self.classifier = nn.Sequential(\n",
        "            nn.Linear(2048, 512),\n",
        "            nn.ReLU(),\n",
        "            nn.Dropout(0.1),\n",
        "            nn.Linear(512, num_classes)\n",
        "        )\n",
        "\n",
        "    def forward(self, x):\n",
        "        x = self.features(x)\n",
        "        flattened_conv_output = torch.flatten(x, 1)\n",
        "        x = self.classifier(flattened_conv_output)\n",
        "        flattened_conv_output_after_pooling = torch.nn.functional.avg_pool1d(flattened_conv_output, 2)\n",
        "        return x, flattened_conv_output_after_pooling\n",
        "\n",
        "# Create a similar student class where we return a tuple. We do not apply pooling after flattening.\n",
        "class ModifiedLightNNCosine(nn.Module):\n",
        "    def __init__(self, num_classes=10):\n",
        "        super(ModifiedLightNNCosine, self).__init__()\n",
        "        self.features = nn.Sequential(\n",
        "            nn.Conv2d(3, 16, kernel_size=3, padding=1),\n",
        "            nn.ReLU(),\n",
        "            nn.MaxPool2d(kernel_size=2, stride=2),\n",
        "            nn.Conv2d(16, 16, kernel_size=3, padding=1),\n",
        "            nn.ReLU(),\n",
        "            nn.MaxPool2d(kernel_size=2, stride=2),\n",
        "        )\n",
        "        self.classifier = nn.Sequential(\n",
        "            nn.Linear(1024, 256),\n",
        "            nn.ReLU(),\n",
        "            nn.Dropout(0.1),\n",
        "            nn.Linear(256, num_classes)\n",
        "        )\n",
        "\n",
        "    def forward(self, x):\n",
        "        x = self.features(x)\n",
        "        flattened_conv_output = torch.flatten(x, 1)\n",
        "        x = self.classifier(flattened_conv_output)\n",
        "        return x, flattened_conv_output\n",
        "\n",
        "# We do not have to train the modified deep network from scratch of course, we just load its weights from the trained instance\n",
        "modified_nn_deep = ModifiedDeepNNCosine(num_classes=10).to(device)\n",
        "modified_nn_deep.load_state_dict(nn_deep.state_dict())\n",
        "\n",
        "# Once again ensure the norm of the first layer is the same for both networks\n",
        "print(\"Norm of 1st layer for deep_nn:\", torch.norm(nn_deep.features[0].weight).item())\n",
        "print(\"Norm of 1st layer for modified_deep_nn:\", torch.norm(modified_nn_deep.features[0].weight).item())\n",
        "\n",
        "# Initialize a modified lightweight network with the same seed as our other lightweight instances. This will be trained from scratch to examine the effectiveness of cosine loss minimization.\n",
        "torch.manual_seed(42)\n",
        "modified_nn_light = ModifiedLightNNCosine(num_classes=10).to(device)\n",
        "print(\"Norm of 1st layer:\", torch.norm(modified_nn_light.features[0].weight).item())"
      ]
    },
    {
      "cell_type": "markdown",
      "metadata": {
        "id": "Vv8dL2cg9a0w"
      },
      "source": [
        "Naturally, we need to change the train loop because now the model returns a tuple ``(logits, hidden_representation)``. Using a sample input tensor\n",
        "we can print their shapes.\n",
        "\n"
      ]
    },
    {
      "cell_type": "code",
      "execution_count": null,
      "metadata": {
        "id": "i25pRr819a0w"
      },
      "outputs": [],
      "source": [
        "# Create a sample input tensor\n",
        "sample_input = torch.randn(128, 3, 32, 32).to(device) # Batch size: 128, Filters: 3, Image size: 32x32\n",
        "\n",
        "# Pass the input through the student\n",
        "logits, hidden_representation = modified_nn_light(sample_input)\n",
        "\n",
        "# Print the shapes of the tensors\n",
        "print(\"Student logits shape:\", logits.shape) # batch_size x total_classes\n",
        "print(\"Student hidden representation shape:\", hidden_representation.shape) # batch_size x hidden_representation_size\n",
        "\n",
        "# Pass the input through the teacher\n",
        "logits, hidden_representation = modified_nn_deep(sample_input)\n",
        "\n",
        "# Print the shapes of the tensors\n",
        "print(\"Teacher logits shape:\", logits.shape) # batch_size x total_classes\n",
        "print(\"Teacher hidden representation shape:\", hidden_representation.shape) # batch_size x hidden_representation_size"
      ]
    },
    {
      "cell_type": "markdown",
      "metadata": {
        "id": "l_K1aAhs9a0w"
      },
      "source": [
        "In our case, ``hidden_representation_size`` is ``1024``. This is the flattened feature map of the final convolutional layer of the student and as you can see,\n",
        "it is the input for its classifier. It is ``1024`` for the teacher too, because we made it so with ``avg_pool1d`` from ``2048``.\n",
        "The loss applied here only affects the weights of the student prior to the loss calculation. In other words, it does not affect the classifier of the student.\n",
        "The modified training loop is the following:\n",
        "\n",
        ".. figure:: /../_static/img/knowledge_distillation/cosine_loss_distillation.png\n",
        "   :align: center\n",
        "\n",
        "   In Cosine Loss minimization, we want to maximize the cosine similarity of the two representations by returning gradients to the student:\n",
        "\n",
        "\n"
      ]
    },
    {
      "cell_type": "code",
      "execution_count": null,
      "metadata": {
        "id": "JM4a02699a0x"
      },
      "outputs": [],
      "source": [
        "def train_cosine_loss(teacher, student, train_loader, epochs, learning_rate, hidden_rep_loss_weight, ce_loss_weight, device):\n",
        "    ce_loss = nn.CrossEntropyLoss()\n",
        "    cosine_loss = nn.CosineEmbeddingLoss()\n",
        "    optimizer = optim.Adam(student.parameters(), lr=learning_rate)\n",
        "\n",
        "    teacher.to(device)\n",
        "    student.to(device)\n",
        "    teacher.eval()  # Teacher set to evaluation mode\n",
        "    student.train() # Student to train mode\n",
        "\n",
        "    for epoch in range(epochs):\n",
        "        running_loss = 0.0\n",
        "        for inputs, labels in train_loader:\n",
        "            inputs, labels = inputs.to(device), labels.to(device)\n",
        "\n",
        "            optimizer.zero_grad()\n",
        "\n",
        "            # Forward pass with the teacher model and keep only the hidden representation\n",
        "            with torch.no_grad():\n",
        "                _, teacher_hidden_representation = teacher(inputs)\n",
        "\n",
        "            # Forward pass with the student model\n",
        "            student_logits, student_hidden_representation = student(inputs)\n",
        "\n",
        "            # Calculate the cosine loss. Target is a vector of ones. From the loss formula above we can see that is the case where loss minimization leads to cosine similarity increase.\n",
        "            hidden_rep_loss = cosine_loss(student_hidden_representation, teacher_hidden_representation, target=torch.ones(inputs.size(0)).to(device))\n",
        "\n",
        "            # Calculate the true label loss\n",
        "            label_loss = ce_loss(student_logits, labels)\n",
        "\n",
        "            # Weighted sum of the two losses\n",
        "            loss = hidden_rep_loss_weight * hidden_rep_loss + ce_loss_weight * label_loss\n",
        "\n",
        "            loss.backward()\n",
        "            optimizer.step()\n",
        "\n",
        "            running_loss += loss.item()\n",
        "\n",
        "        print(f\"Epoch {epoch+1}/{epochs}, Loss: {running_loss / len(train_loader)}\")"
      ]
    },
    {
      "cell_type": "markdown",
      "metadata": {
        "id": "H702cdXv9a0x"
      },
      "source": [
        "We need to modify our test function for the same reason. Here we ignore the hidden representation returned by the model.\n",
        "\n"
      ]
    },
    {
      "cell_type": "code",
      "execution_count": null,
      "metadata": {
        "id": "PJmY41sR9a0x"
      },
      "outputs": [],
      "source": [
        "def test_multiple_outputs(model, test_loader, device):\n",
        "    model.to(device)\n",
        "    model.eval()\n",
        "\n",
        "    correct = 0\n",
        "    total = 0\n",
        "\n",
        "    with torch.no_grad():\n",
        "        for inputs, labels in test_loader:\n",
        "            inputs, labels = inputs.to(device), labels.to(device)\n",
        "\n",
        "            outputs, _ = model(inputs) # Disregard the second tensor of the tuple\n",
        "            _, predicted = torch.max(outputs.data, 1)\n",
        "\n",
        "            total += labels.size(0)\n",
        "            correct += (predicted == labels).sum().item()\n",
        "\n",
        "    accuracy = 100 * correct / total\n",
        "    print(f\"Test Accuracy: {accuracy:.2f}%\")\n",
        "    return accuracy"
      ]
    },
    {
      "cell_type": "markdown",
      "metadata": {
        "id": "LK6xAAaF9a0x"
      },
      "source": [
        "In this case, we could easily include both knowledge distillation and cosine loss minimization in the same function. It is common to combine methods to achieve better performance in teacher-student paradigms.\n",
        "For now, we can run a simple train-test session.\n",
        "\n"
      ]
    },
    {
      "cell_type": "code",
      "execution_count": null,
      "metadata": {
        "id": "mDiTPzZl9a0x"
      },
      "outputs": [],
      "source": [
        "# Train and test the lightweight network with cross entropy loss\n",
        "train_cosine_loss(teacher=modified_nn_deep, student=modified_nn_light, train_loader=train_loader, epochs=10, learning_rate=0.001, hidden_rep_loss_weight=0.25, ce_loss_weight=0.75, device=device)\n",
        "test_accuracy_light_ce_and_cosine_loss = test_multiple_outputs(modified_nn_light, test_loader, device)"
      ]
    },
    {
      "cell_type": "markdown",
      "metadata": {
        "id": "bCGis1kW9a0x"
      },
      "source": [
        "### Intermediate regressor run\n",
        "Our naive minimization does not guarantee better results for several reasons, one being the dimensionality of the vectors.\n",
        "Cosine similarity generally works better than Euclidean distance for vectors of higher dimensionality,\n",
        "but we were dealing with vectors with 1024 components each, so it is much harder to extract meaningful similarities.\n",
        "Furthermore, as we mentioned, pushing towards a match of the hidden representation of the teacher and the student is not supported by theory.\n",
        "There are no good reasons why we should be aiming for a 1:1 match of these vectors.\n",
        "We will provide a final example of training intervention by including an extra network called regressor.\n",
        "The objective is to first extract the feature map of the teacher after a convolutional layer,\n",
        "then extract a feature map of the student after a convolutional layer, and finally try to match these maps.\n",
        "However, this time, we will introduce a regressor between the networks to facilitate the matching process.\n",
        "The regressor will be trainable and ideally will do a better job than our naive cosine loss minimization scheme.\n",
        "Its main job is to match the dimensionality of these feature maps so that we can properly define a loss function between the teacher and the student.\n",
        "Defining such a loss function provides a teaching \"path,\" which is basically a flow to back-propagate gradients that will change the student's weights.\n",
        "Focusing on the output of the convolutional layers right before each classifier for our original networks, we have the following shapes:\n",
        "\n",
        "\n"
      ]
    },
    {
      "cell_type": "code",
      "execution_count": null,
      "metadata": {
        "id": "-2sQ6rn99a0x"
      },
      "outputs": [],
      "source": [
        "# Pass the sample input only from the convolutional feature extractor\n",
        "convolutional_fe_output_student = nn_light.features(sample_input)\n",
        "convolutional_fe_output_teacher = nn_deep.features(sample_input)\n",
        "\n",
        "# Print their shapes\n",
        "print(\"Student's feature extractor output shape: \", convolutional_fe_output_student.shape)\n",
        "print(\"Teacher's feature extractor output shape: \", convolutional_fe_output_teacher.shape)"
      ]
    },
    {
      "cell_type": "markdown",
      "metadata": {
        "id": "IdYh_ilY9a02"
      },
      "source": [
        "We have 32 filters for the teacher and 16 filters for the student.\n",
        "We will include a trainable layer that converts the feature map of the student to the shape of the feature map of the teacher.\n",
        "In practice, we modify the lightweight class to return the hidden state after an intermediate regressor that matches the sizes of the convolutional\n",
        "feature maps and the teacher class to return the output of the final convolutional layer without pooling or flattening.\n",
        "\n",
        ".. figure:: /../_static/img/knowledge_distillation/fitnets_knowledge_distill.png\n",
        "   :align: center\n",
        "\n",
        "   The trainable layer matches the shapes of the intermediate tensors and Mean Squared Error (MSE) is properly defined:\n",
        "\n",
        "\n"
      ]
    },
    {
      "cell_type": "code",
      "execution_count": null,
      "metadata": {
        "id": "xEyDOrwN9a03"
      },
      "outputs": [],
      "source": [
        "class ModifiedDeepNNRegressor(nn.Module):\n",
        "    def __init__(self, num_classes=10):\n",
        "        super(ModifiedDeepNNRegressor, self).__init__()\n",
        "        self.features = nn.Sequential(\n",
        "            nn.Conv2d(3, 128, kernel_size=3, padding=1),\n",
        "            nn.ReLU(),\n",
        "            nn.Conv2d(128, 64, kernel_size=3, padding=1),\n",
        "            nn.ReLU(),\n",
        "            nn.MaxPool2d(kernel_size=2, stride=2),\n",
        "            nn.Conv2d(64, 64, kernel_size=3, padding=1),\n",
        "            nn.ReLU(),\n",
        "            nn.Conv2d(64, 32, kernel_size=3, padding=1),\n",
        "            nn.ReLU(),\n",
        "            nn.MaxPool2d(kernel_size=2, stride=2),\n",
        "        )\n",
        "        self.classifier = nn.Sequential(\n",
        "            nn.Linear(2048, 512),\n",
        "            nn.ReLU(),\n",
        "            nn.Dropout(0.1),\n",
        "            nn.Linear(512, num_classes)\n",
        "        )\n",
        "\n",
        "    def forward(self, x):\n",
        "        x = self.features(x)\n",
        "        conv_feature_map = x\n",
        "        x = torch.flatten(x, 1)\n",
        "        x = self.classifier(x)\n",
        "        return x, conv_feature_map\n",
        "\n",
        "class ModifiedLightNNRegressor(nn.Module):\n",
        "    def __init__(self, num_classes=10):\n",
        "        super(ModifiedLightNNRegressor, self).__init__()\n",
        "        self.features = nn.Sequential(\n",
        "            nn.Conv2d(3, 16, kernel_size=3, padding=1),\n",
        "            nn.ReLU(),\n",
        "            nn.MaxPool2d(kernel_size=2, stride=2),\n",
        "            nn.Conv2d(16, 16, kernel_size=3, padding=1),\n",
        "            nn.ReLU(),\n",
        "            nn.MaxPool2d(kernel_size=2, stride=2),\n",
        "        )\n",
        "        # Include an extra regressor (in our case linear)\n",
        "        self.regressor = nn.Sequential(\n",
        "            nn.Conv2d(16, 32, kernel_size=3, padding=1)\n",
        "        )\n",
        "        self.classifier = nn.Sequential(\n",
        "            nn.Linear(1024, 256),\n",
        "            nn.ReLU(),\n",
        "            nn.Dropout(0.1),\n",
        "            nn.Linear(256, num_classes)\n",
        "        )\n",
        "\n",
        "    def forward(self, x):\n",
        "        x = self.features(x)\n",
        "        regressor_output = self.regressor(x)\n",
        "        x = torch.flatten(x, 1)\n",
        "        x = self.classifier(x)\n",
        "        return x, regressor_output"
      ]
    },
    {
      "cell_type": "markdown",
      "metadata": {
        "id": "gAE5Nt6e9a03"
      },
      "source": [
        "After that, we have to update our train loop again. This time, we extract the regressor output of the student, the feature map of the teacher,\n",
        "we calculate the ``MSE`` on these tensors (they have the exact same shape so it's properly defined) and we back propagate gradients based on that loss,\n",
        "in addition to the regular cross entropy loss of the classification task.\n",
        "\n"
      ]
    },
    {
      "cell_type": "code",
      "execution_count": null,
      "metadata": {
        "id": "iH98fRFU9a03"
      },
      "outputs": [],
      "source": [
        "def train_mse_loss(teacher, student, train_loader, epochs, learning_rate, feature_map_weight, ce_loss_weight, device):\n",
        "    ce_loss = nn.CrossEntropyLoss()\n",
        "    mse_loss = nn.MSELoss()\n",
        "    optimizer = optim.Adam(student.parameters(), lr=learning_rate)\n",
        "\n",
        "    teacher.to(device)\n",
        "    student.to(device)\n",
        "    teacher.eval()  # Teacher set to evaluation mode\n",
        "    student.train() # Student to train mode\n",
        "\n",
        "    for epoch in range(epochs):\n",
        "        running_loss = 0.0\n",
        "        for inputs, labels in train_loader:\n",
        "            inputs, labels = inputs.to(device), labels.to(device)\n",
        "\n",
        "            optimizer.zero_grad()\n",
        "\n",
        "            # Again ignore teacher logits\n",
        "            with torch.no_grad():\n",
        "                _, teacher_feature_map = teacher(inputs)\n",
        "\n",
        "            # Forward pass with the student model\n",
        "            student_logits, regressor_feature_map = student(inputs)\n",
        "\n",
        "            # Calculate the loss\n",
        "            hidden_rep_loss = mse_loss(regressor_feature_map, teacher_feature_map)\n",
        "\n",
        "            # Calculate the true label loss\n",
        "            label_loss = ce_loss(student_logits, labels)\n",
        "\n",
        "            # Weighted sum of the two losses\n",
        "            loss = feature_map_weight * hidden_rep_loss + ce_loss_weight * label_loss\n",
        "\n",
        "            loss.backward()\n",
        "            optimizer.step()\n",
        "\n",
        "            running_loss += loss.item()\n",
        "\n",
        "        print(f\"Epoch {epoch+1}/{epochs}, Loss: {running_loss / len(train_loader)}\")\n",
        "\n",
        "# Notice how our test function remains the same here with the one we used in our previous case. We only care about the actual outputs because we measure accuracy.\n",
        "\n",
        "# Initialize a ModifiedLightNNRegressor\n",
        "torch.manual_seed(42)\n",
        "modified_nn_light_reg = ModifiedLightNNRegressor(num_classes=10).to(device)\n",
        "\n",
        "# We do not have to train the modified deep network from scratch of course, we just load its weights from the trained instance\n",
        "modified_nn_deep_reg = ModifiedDeepNNRegressor(num_classes=10).to(device)\n",
        "modified_nn_deep_reg.load_state_dict(nn_deep.state_dict())\n",
        "\n",
        "# Train and test once again\n",
        "train_mse_loss(teacher=modified_nn_deep_reg, student=modified_nn_light_reg, train_loader=train_loader, epochs=10, learning_rate=0.001, feature_map_weight=0.25, ce_loss_weight=0.75, device=device)\n",
        "test_accuracy_light_ce_and_mse_loss = test_multiple_outputs(modified_nn_light_reg, test_loader, device)"
      ]
    },
    {
      "cell_type": "markdown",
      "metadata": {
        "id": "y-NVAuxt9a03"
      },
      "source": [
        "It is expected that the final method will work better than ``CosineLoss`` because now we have allowed a trainable layer between the teacher and the student,\n",
        "which gives the student some wiggle room when it comes to learning, rather than pushing the student to copy the teacher's representation.\n",
        "Including the extra network is the idea behind hint-based distillation.\n",
        "\n"
      ]
    },
    {
      "cell_type": "code",
      "execution_count": null,
      "metadata": {
        "id": "VSnuAzK79a04"
      },
      "outputs": [],
      "source": [
        "print(f\"Teacher accuracy: {test_accuracy_deep:.2f}%\")\n",
        "print(f\"Student accuracy without teacher: {test_accuracy_light_ce:.2f}%\")\n",
        "print(f\"Student accuracy with CE + KD: {test_accuracy_light_ce_and_kd:.2f}%\")\n",
        "print(f\"Student accuracy with CE + CosineLoss: {test_accuracy_light_ce_and_cosine_loss:.2f}%\")\n",
        "print(f\"Student accuracy with CE + RegressorMSE: {test_accuracy_light_ce_and_mse_loss:.2f}%\")"
      ]
    },
    {
      "cell_type": "markdown",
      "metadata": {
        "id": "n-6VO5cy9a04"
      },
      "source": [
        "### Conclusion\n",
        "None of the methods above increases the number of parameters for the network or inference time,\n",
        "so the performance increase comes at the little cost of calculating gradients during training.\n",
        "In ML applications, we mostly care about inference time because training happens before the model deployment.\n",
        "If our lightweight model is still too heavy for deployment, we can apply different ideas, such as post-training quantization.\n",
        "Additional losses can be applied in many tasks, not just classification, and you can experiment with quantities like coefficients,\n",
        "temperature, or number of neurons. Feel free to tune any numbers in the tutorial above,\n",
        "but keep in mind, if you change the number of neurons / filters chances are a shape mismatch might occur.\n",
        "\n",
        "For more information, see:\n",
        "\n",
        "* [Hinton, G., Vinyals, O., Dean, J.: Distilling the knowledge in a neural network. In: Neural Information Processing System Deep Learning Workshop (2015)](https://arxiv.org/abs/1503.02531)\n",
        "\n",
        "* [Romero, A., Ballas, N., Kahou, S.E., Chassang, A., Gatta, C., Bengio, Y.: Fitnets: Hints for thin deep nets. In: Proceedings of the International Conference on Learning Representations (2015)](https://arxiv.org/abs/1412.6550)\n",
        "\n"
      ]
    }
  ],
  "metadata": {
    "kernelspec": {
      "display_name": "Python 3",
      "language": "python",
      "name": "python3"
    },
    "language_info": {
      "codemirror_mode": {
        "name": "ipython",
        "version": 3
      },
      "file_extension": ".py",
      "mimetype": "text/x-python",
      "name": "python",
      "nbconvert_exporter": "python",
      "pygments_lexer": "ipython3",
      "version": "3.10.13"
    },
    "colab": {
      "provenance": []
    }
  },
  "nbformat": 4,
  "nbformat_minor": 0
}