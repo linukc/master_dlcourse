{
  "nbformat": 4,
  "nbformat_minor": 0,
  "metadata": {
    "colab": {
      "provenance": []
    },
    "kernelspec": {
      "name": "python3",
      "display_name": "Python 3"
    },
    "language_info": {
      "name": "python"
    }
  },
  "cells": [
    {
      "cell_type": "code",
      "source": [
        "!pip3 install git+https://github.com/arogozhnikov/einops"
      ],
      "metadata": {
        "colab": {
          "base_uri": "https://localhost:8080/"
        },
        "id": "N0jR6XuUHJ8U",
        "outputId": "423cf80c-3416-4688-a148-d6e38e0b3927"
      },
      "execution_count": null,
      "outputs": [
        {
          "output_type": "stream",
          "name": "stdout",
          "text": [
            "Looking in indexes: https://pypi.org/simple, https://us-python.pkg.dev/colab-wheels/public/simple/\n",
            "Collecting git+https://github.com/arogozhnikov/einops\n",
            "  Cloning https://github.com/arogozhnikov/einops to /tmp/pip-req-build-lyqht2l7\n",
            "  Running command git clone -q https://github.com/arogozhnikov/einops /tmp/pip-req-build-lyqht2l7\n",
            "  Installing build dependencies ... \u001b[?25l\u001b[?25hdone\n",
            "  Getting requirements to build wheel ... \u001b[?25l\u001b[?25hdone\n",
            "    Preparing wheel metadata ... \u001b[?25l\u001b[?25hdone\n"
          ]
        }
      ]
    },
    {
      "cell_type": "markdown",
      "source": [
        "# R(2+1) conv"
      ],
      "metadata": {
        "id": "yWVO-ilt9Kez"
      }
    },
    {
      "cell_type": "markdown",
      "source": [
        "https://www.tensorflow.org/tutorials/video/video_classification\n",
        "\n",
        "https://paperswithcode.com/method/2-1-d-convolution"
      ],
      "metadata": {
        "id": "YS4XxtqE7x-D"
      }
    },
    {
      "cell_type": "markdown",
      "source": [
        "![alt text](https://drive.google.com/uc?export=view&id=1DDI_5xclb7wb1V2vtDzgoAKm2psjd1qb)"
      ],
      "metadata": {
        "id": "DpIH07bvtYlB"
      }
    },
    {
      "cell_type": "code",
      "execution_count": null,
      "metadata": {
        "id": "9u0zA_J97Z2c"
      },
      "outputs": [],
      "source": [
        "import torch\n",
        "from torch import nn as nn"
      ]
    },
    {
      "cell_type": "code",
      "source": [
        "class R2_and1_conv(torch.nn.Module):\n",
        "  def __init__(self, in_channels, out_channels, kernel_size):\n",
        "    super().__init__()\n",
        "    self.in_channels = in_channels\n",
        "    self.out_channels = out_channels\n",
        "    self.kernel_size = kernel_size\n",
        "\n",
        "    # first step: [c, t, h, w] -> [c, t, h1, w1]\n",
        "    # second step: [c, t, h1, w1] -> [c, t2, h1, w1]\n",
        "\n",
        "  def forward(self, x):\n",
        "    # [c, t, h, w]\n",
        "    pass"
      ],
      "metadata": {
        "id": "UL_sMr0n9sUn"
      },
      "execution_count": null,
      "outputs": []
    },
    {
      "cell_type": "code",
      "source": [
        "# [c, t, h, w]\n",
        "x = torch.rand((1, 10, 5, 5))\n",
        "conv3d = nn.Conv3d(in_channels=1, out_channels=1, kernel_size=3)"
      ],
      "metadata": {
        "id": "vBTuhVLV-CqV"
      },
      "execution_count": null,
      "outputs": []
    },
    {
      "cell_type": "code",
      "source": [
        "out_x = conv3d(x)\n",
        "out_x.shape"
      ],
      "metadata": {
        "colab": {
          "base_uri": "https://localhost:8080/"
        },
        "id": "VPeBWw0u-rwo",
        "outputId": "ea98e62a-fc91-47a5-d965-99c97d7d9e3e"
      },
      "execution_count": null,
      "outputs": [
        {
          "output_type": "execute_result",
          "data": {
            "text/plain": [
              "torch.Size([1, 8, 3, 3])"
            ]
          },
          "metadata": {},
          "execution_count": 64
        }
      ]
    },
    {
      "cell_type": "code",
      "source": [
        "out_x2 = R2_and1_conv(1, 1, [3, 3, 3])(x)\n",
        "out_x2.shape"
      ],
      "metadata": {
        "colab": {
          "base_uri": "https://localhost:8080/"
        },
        "id": "6IY1rj1FAhWu",
        "outputId": "3591b3e7-6ba1-4463-962f-452ac0d470e6"
      },
      "execution_count": null,
      "outputs": [
        {
          "output_type": "execute_result",
          "data": {
            "text/plain": [
              "torch.Size([1, 8, 3, 3])"
            ]
          },
          "metadata": {},
          "execution_count": 65
        }
      ]
    },
    {
      "cell_type": "code",
      "source": [],
      "metadata": {
        "id": "-iD_OB5TBw6O"
      },
      "execution_count": null,
      "outputs": []
    },
    {
      "cell_type": "markdown",
      "source": [
        "#Temporal attention"
      ],
      "metadata": {
        "id": "P1OeNvLnJH6O"
      }
    },
    {
      "cell_type": "markdown",
      "source": [
        "[GLTR](https://openaccess.thecvf.com/content_ICCV_2019/papers/Li_Global-Local_Temporal_Representations_for_Video_Person_Re-Identification_ICCV_2019_paper.pdf)"
      ],
      "metadata": {
        "id": "_ZkTeAuGL3-5"
      }
    },
    {
      "cell_type": "markdown",
      "source": [
        "![alt text](https://drive.google.com/uc?export=view&id=1k2G22YyTg_bmY9HBlYFkfyaHcapEQYeN)\n"
      ],
      "metadata": {
        "id": "JOicBcvEnFK2"
      }
    },
    {
      "cell_type": "code",
      "source": [
        "T = 100 #10frames\n",
        "d = 20 #inner dim size\n",
        "input_features = torch.rand((d, T))"
      ],
      "metadata": {
        "id": "2rECnjuOL3ih"
      },
      "execution_count": null,
      "outputs": []
    },
    {
      "cell_type": "code",
      "source": [
        "from einops import rearrange\n",
        "from einops.layers.torch import Rearrange\n",
        "\n",
        "class MDP(nn.Module):\n",
        "  def __init__(self):\n",
        "    super().__init__()\n",
        "\n",
        "  def forward(self, x):\n",
        "\n",
        "    pass"
      ],
      "metadata": {
        "id": "8-k6pmXtVzxa"
      },
      "execution_count": null,
      "outputs": []
    },
    {
      "cell_type": "code",
      "source": [
        "MDP()(input_features).shape"
      ],
      "metadata": {
        "colab": {
          "base_uri": "https://localhost:8080/"
        },
        "id": "rsnhLNZTVg7d",
        "outputId": "7cb83396-8cf2-42a0-8db2-b5842498fc39"
      },
      "execution_count": null,
      "outputs": [
        {
          "output_type": "execute_result",
          "data": {
            "text/plain": [
              "torch.Size([60, 100])"
            ]
          },
          "metadata": {},
          "execution_count": 166
        }
      ]
    },
    {
      "cell_type": "code",
      "source": [
        "class GLRT(nn.Module):\n",
        "  def __init__(self):\n",
        "    super().__init__()\n",
        "\n",
        "  def forward(self, f):\n",
        "    pass"
      ],
      "metadata": {
        "id": "SfhKFfQsVmLN"
      },
      "execution_count": null,
      "outputs": []
    },
    {
      "cell_type": "code",
      "source": [
        "GLRT()(input_features).shape"
      ],
      "metadata": {
        "colab": {
          "base_uri": "https://localhost:8080/"
        },
        "id": "tz3urow5Z-dT",
        "outputId": "74d87090-e7aa-4ce4-b886-b9d293ecd7b1"
      },
      "execution_count": null,
      "outputs": [
        {
          "output_type": "execute_result",
          "data": {
            "text/plain": [
              "torch.Size([60, 1])"
            ]
          },
          "metadata": {},
          "execution_count": 214
        }
      ]
    },
    {
      "cell_type": "markdown",
      "source": [
        "# Spartial-temporal attention"
      ],
      "metadata": {
        "id": "IS8ck8j5nBbS"
      }
    },
    {
      "cell_type": "markdown",
      "source": [
        "![alt text](https://drive.google.com/uc?export=view&id=1ehQclFDue6eG50OkywOOErMVkca5hzDw)"
      ],
      "metadata": {
        "id": "tULkWsCbuHCa"
      }
    },
    {
      "cell_type": "markdown",
      "source": [
        "![alt text](https://drive.google.com/uc?export=view&id=1vW6rAKoF37rjPAylhZEOANk2L0EMc_dL)"
      ],
      "metadata": {
        "id": "ggoszkW7uBgR"
      }
    },
    {
      "cell_type": "code",
      "source": [],
      "metadata": {
        "id": "FZEJtx13sXaP"
      },
      "execution_count": null,
      "outputs": []
    },
    {
      "cell_type": "code",
      "source": [],
      "metadata": {
        "id": "SgGI8-LqmfqQ"
      },
      "execution_count": null,
      "outputs": []
    }
  ]
}