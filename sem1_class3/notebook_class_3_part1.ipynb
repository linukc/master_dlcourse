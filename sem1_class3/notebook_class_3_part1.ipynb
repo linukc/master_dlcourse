{
  "nbformat": 4,
  "nbformat_minor": 0,
  "metadata": {
    "colab": {
      "provenance": [],
      "collapsed_sections": []
    },
    "kernelspec": {
      "name": "python3",
      "display_name": "Python 3"
    },
    "language_info": {
      "name": "python"
    }
  },
  "cells": [
    {
      "cell_type": "markdown",
      "source": [
        "План семинара **\"Реализация собственных операторов на языке Python в фреймворке Pytorch\"**\n",
        "1. [Squeeze-and-Excitation (SE) Block](https://arxiv.org/abs/1709.01507)\n",
        "2. [Selective Kernel (SK) Convolution](https://arxiv.org/abs/1903.06586)"
      ],
      "metadata": {
        "id": "vtKLj3EjRVAT"
      }
    },
    {
      "cell_type": "markdown",
      "source": [
        "# Squeeze-and-Excitation (SE) Block"
      ],
      "metadata": {
        "id": "w_AuOxMxTb-5"
      }
    },
    {
      "cell_type": "markdown",
      "source": [
        "“Squeeze-and-Excitation” (SE) block can adaptively recalibrates\n",
        "channel-wise feature responses by explicitly modelling interdependencies between channels. "
      ],
      "metadata": {
        "id": "WtU5GEDETgWF"
      }
    },
    {
      "cell_type": "code",
      "source": [
        "import torch\n",
        "from torch import nn\n",
        "\n",
        "class SEBlock(nn.Module):\n",
        "    \"\"\"\n",
        "    Implementation of the Squeeze-and-Excitation (SE) block proposed in [1].\n",
        "    Parameters\n",
        "    ----------\n",
        "    in_channels : int\n",
        "        Number of channels in the input tensor.\n",
        "    reduction : int, optional, default=16\n",
        "        Reduction ratio to control the intermediate channel dimension.\n",
        "    References\n",
        "    ----------\n",
        "    1. \"`Squeeze-and-Excitation Networks. <https://arxiv.org/abs/1709.01507>`_\" Jie Hu, et al. CVPR 2018.\n",
        "    \"\"\"\n",
        "\n",
        "    def __init__(\n",
        "        self,\n",
        "        in_channels: int,\n",
        "        reduction: int = 16\n",
        "    ) -> None:\n",
        "        super(SEBlock, self).__init__()\n",
        "\n",
        "        out_channels = ...\n",
        "        self.squeeze = ...\n",
        "        self.excitation = nn.Sequential(\n",
        "            ...)\n",
        "\n",
        "    def forward(self, x: torch.Tensor) -> torch.Tensor:\n",
        "        \"\"\"\n",
        "        Parameters\n",
        "        ----------\n",
        "        x : torch.Tensor (batch_size, in_channels, height, width)\n",
        "            Input tensor.\n",
        "        Returns\n",
        "        -------\n",
        "        out : torch.Tensor (batch_size, in_channels, height, width)\n",
        "            Output of the SK convolution layer.\n",
        "        \"\"\"\n",
        "        # x: [b, c, h, w]\n",
        "\n",
        "        z = ... # eq.2 [b, c, 1, 1]\n",
        "        s = ... # eq.3 [b, c, 1, 1]\n",
        "        out =  ... # eq. 4 [b, c, h, w]\n",
        "        return out"
      ],
      "metadata": {
        "id": "X_mydDHhTfmE"
      },
      "execution_count": null,
      "outputs": []
    },
    {
      "cell_type": "code",
      "source": [
        "features = torch.rand(1, 32, 25, 25)\n",
        "out = SEBlock(32)\n",
        "out(features).shape"
      ],
      "metadata": {
        "colab": {
          "base_uri": "https://localhost:8080/"
        },
        "id": "aOHbgJ_HVDnT",
        "outputId": "ff01bee2-484c-410e-cf5e-809832fa3c66"
      },
      "execution_count": null,
      "outputs": [
        {
          "output_type": "execute_result",
          "data": {
            "text/plain": [
              "torch.Size([1, 32, 25, 25])"
            ]
          },
          "metadata": {},
          "execution_count": 10
        }
      ]
    },
    {
      "cell_type": "markdown",
      "source": [
        "# Selective Kernel (SK) Convolution"
      ],
      "metadata": {
        "id": "pn6zgoRbTeHv"
      }
    },
    {
      "cell_type": "markdown",
      "source": [
        "To enable the neurons to adaptively adjust their RF sizes,\n",
        "we propose an automatic selection operation, “Selective\n",
        "Kernel” (SK) convolution, among multiple kernels with different kernel sizes"
      ],
      "metadata": {
        "id": "q9n-ayyPeikO"
      }
    },
    {
      "cell_type": "code",
      "source": [
        "import torch\n",
        "from torch import nn\n",
        "from typing import List, Optional\n",
        "\n",
        "class SKConv(nn.Module):\n",
        "    \"\"\"\n",
        "    Implementation of the Selective Kernel (SK) Convolution proposed in [1].\n",
        "    Parameters\n",
        "    ----------\n",
        "    in_channels : int\n",
        "        Number of channels in the input tensor.\n",
        "    out_channels : int\n",
        "        Number of channels produced by the convolution.\n",
        "    kernels : List[int], optional, default=[3, 5]\n",
        "        List of kernel sizes for each branch.\n",
        "    reduction : int, optional, default=16\n",
        "        Reduction ratio to control the dimension of \"compact feature\" ``z`` (see eq.4).\n",
        "    L : int, optional, default=32\n",
        "        Minimal value of the dimension of \"compact feature\" ``z`` (see eq.4).\n",
        "    groups : int, optional, default=32\n",
        "        Hyperparameter for ``torch.nn.Conv2d``.\n",
        "    References\n",
        "    ----------\n",
        "    1. \"`Selective Kernel Networks. <https://arxiv.org/abs/1903.06586>`_\" Xiang Li, et al. CVPR 2019.\n",
        "    \"\"\"\n",
        "\n",
        "    def __init__(\n",
        "        self,\n",
        "        in_channels: int,\n",
        "        out_channels: Optional[int] = None,\n",
        "        kernels: List[int] = [3, 5],\n",
        "        reduction: int = 16,\n",
        "        L: int = 32,\n",
        "        groups: int = 32\n",
        "    ) -> None:\n",
        "        super(SKConv, self).__init__()\n",
        "\n",
        "        if out_channels is None:\n",
        "            out_channels = in_channels\n",
        "        self.out_channels = out_channels\n",
        "\n",
        "        d = ... # eq.4\n",
        "\n",
        "        self.M = len(kernels)\n",
        "\n",
        "        self.convs = nn.ModuleList([\n",
        "                nn.Sequential(\n",
        "                  ...\n",
        "            )\n",
        "            for k in kernels\n",
        "        ])\n",
        "\n",
        "        self.pool = ...\n",
        "\n",
        "        self.fc_z = nn.Sequential(\n",
        "            ...)\n",
        "        self.fc_attn = nn.Linear(...)\n",
        "        self.softmax = nn.Softmax(...)\n",
        "\n",
        "    def forward(self, x: torch.Tensor) -> torch.Tensor:\n",
        "        \"\"\"\n",
        "        Parameters\n",
        "        ----------\n",
        "        x : torch.Tensor (batch_size, in_channels, height, width)\n",
        "            Input tensor.\n",
        "        Returns\n",
        "        -------\n",
        "        out : torch.Tensor (batch_size, out_channels, height, width)\n",
        "            Output of the SK convolution layer.\n",
        "        \"\"\"\n",
        "        #Conv2d , AvgPoll, softmax, ReLU, BatchNorm, Linear\n",
        "\n",
        "        # ----- split -----\n",
        "        # x: [b, c, h, w]\n",
        "        feats = ...  # [b, M, c, h, w]\n",
        "\n",
        "        # ----- fuse -----\n",
        "        # eq.1\n",
        "        U = ...\n",
        "        # channel-wise statistics, eq.2\n",
        "        s = ... #s: [b, c]\n",
        "        # compact feature, eq.3\n",
        "        z = ... # z [b, d]\n",
        "\n",
        "        # ----- select -----\n",
        "        batch_size, out_channels = s.shape\n",
        "\n",
        "        # attention map, eq.5\n",
        "        score = ...  # (batch_size, M * out_channels)\n",
        "        score = ...)  # (batch_size, M, out_channels, 1, 1)\n",
        "        att = ...\n",
        "\n",
        "\n",
        "        # fuse multiple branches, eq.6\n",
        "        out = ...  # (batch_size, out_channels, height, width)\n",
        "        return out"
      ],
      "metadata": {
        "id": "q73b0ujBVC6Q"
      },
      "execution_count": null,
      "outputs": []
    },
    {
      "cell_type": "code",
      "source": [
        "features = torch.rand(1, 34*16, 25, 25)\n",
        "out = SKConv(34*16).eval()\n",
        "out(features).shape"
      ],
      "metadata": {
        "id": "cmcAyPakUdoA",
        "colab": {
          "base_uri": "https://localhost:8080/"
        },
        "outputId": "9044b6b2-e4c4-499c-deda-addd61724122"
      },
      "execution_count": null,
      "outputs": [
        {
          "output_type": "execute_result",
          "data": {
            "text/plain": [
              "torch.Size([1, 544, 25, 25])"
            ]
          },
          "metadata": {},
          "execution_count": 23
        }
      ]
    },
    {
      "cell_type": "code",
      "source": [
        "n = nn.Conv2d(3, 3, kernel_size=3)\n",
        "n.weight.shape"
      ],
      "metadata": {
        "colab": {
          "base_uri": "https://localhost:8080/"
        },
        "id": "BNKG8vIKeKNg",
        "outputId": "4ef91f3f-8d8e-4b5f-c037-6bc8b3272d17"
      },
      "execution_count": null,
      "outputs": [
        {
          "output_type": "execute_result",
          "data": {
            "text/plain": [
              "torch.Size([3, 3, 3, 3])"
            ]
          },
          "metadata": {},
          "execution_count": 14
        }
      ]
    },
    {
      "cell_type": "code",
      "source": [
        "n = nn.Conv2d(3, 3, kernel_size=3, groups=3)\n",
        "n.weight.shape"
      ],
      "metadata": {
        "colab": {
          "base_uri": "https://localhost:8080/"
        },
        "id": "Ph1iTPZda_cB",
        "outputId": "20e9170b-bc34-4e27-cb63-98d450db43b0"
      },
      "execution_count": null,
      "outputs": [
        {
          "output_type": "execute_result",
          "data": {
            "text/plain": [
              "torch.Size([3, 1, 3, 3])"
            ]
          },
          "metadata": {},
          "execution_count": 13
        }
      ]
    },
    {
      "cell_type": "code",
      "source": [
        "features = torch.rand(1, 3, 25, 25)\n",
        "n(features).shape"
      ],
      "metadata": {
        "colab": {
          "base_uri": "https://localhost:8080/"
        },
        "id": "lZL-49lsbDql",
        "outputId": "7227d95c-c860-4608-dc55-c3cdfd33cfec"
      },
      "execution_count": null,
      "outputs": [
        {
          "output_type": "execute_result",
          "data": {
            "text/plain": [
              "torch.Size([1, 3, 23, 23])"
            ]
          },
          "metadata": {},
          "execution_count": 80
        }
      ]
    },
    {
      "cell_type": "code",
      "source": [],
      "metadata": {
        "id": "xH1GgjM-z3Rv"
      },
      "execution_count": null,
      "outputs": []
    }
  ]
}