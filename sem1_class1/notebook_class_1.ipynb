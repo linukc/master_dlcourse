{
  "nbformat": 4,
  "nbformat_minor": 0,
  "metadata": {
    "colab": {
      "provenance": [],
      "collapsed_sections": [
        "SE_-SpH-mtFc",
        "xJef-8rXrMR2",
        "mV8n8faxvOQO",
        "W4qhspuX3zOE",
        "Am-la7kqCDEl",
        "iCNmT3sZEgbe",
        "-B0jOvkQE4MQ"
      ],
      "toc_visible": true
    },
    "kernelspec": {
      "name": "python3",
      "display_name": "Python 3"
    },
    "language_info": {
      "name": "python"
    },
    "gpuClass": "standard"
  },
  "cells": [
    {
      "cell_type": "markdown",
      "source": [
        "**Тема семинара:** Особенности библиотек глубокого обучения\\\n",
        "**План семинара:**\n",
        "1. Получение информации об оборудовании\n",
        "2. Библиотека Pytorch\n",
        "  - установка (Windows/Linux(Google Colab); CPU/GPU)\n",
        "  - обзор возможностей и особенностей\n",
        "  - запуск простейших примеров\n",
        "3. Библиотека Mindspore\n",
        "  - установка (Windows/Linux(Google Colab); CPU/GPU)\n",
        "  - обзор взможностей и особенностей\n",
        "  - запуск простейших примеров\n",
        "4. Введение в глубокое обучение\n",
        "  - перцептрон (решение практических задач)"
      ],
      "metadata": {
        "id": "EShwaJUpigbf"
      }
    },
    {
      "cell_type": "markdown",
      "source": [
        "# Получение информации об оборудовании"
      ],
      "metadata": {
        "id": "SE_-SpH-mtFc"
      }
    },
    {
      "cell_type": "markdown",
      "source": [
        "**Windows** - GUI\\\n",
        "**Linux** (Google colab) - terminal"
      ],
      "metadata": {
        "id": "lnGz2Eopm3ag"
      }
    },
    {
      "cell_type": "code",
      "source": [
        "# версия Linux\n",
        "!cat /proc/version"
      ],
      "metadata": {
        "colab": {
          "base_uri": "https://localhost:8080/"
        },
        "id": "vPDZJB92omAL",
        "outputId": "0db3ca96-8993-41b4-ae36-edb4ec64173b"
      },
      "execution_count": null,
      "outputs": [
        {
          "output_type": "stream",
          "name": "stdout",
          "text": [
            "Linux version 5.4.188+ (builder@09ba2ac4aaef) (Chromium OS 12.0_pre408248_p20201125-r7 clang version 12.0.0 (/var/tmp/portage/sys-devel/llvm-12.0_pre408248_p20201125-r7/work/llvm-12.0_pre408248_p20201125/clang f402e682d0ef5598eeffc9a21a691b03e602ff58)) #1 SMP Sun Apr 24 10:03:06 PDT 2022\n"
          ]
        }
      ]
    },
    {
      "cell_type": "code",
      "source": [
        "# версия дистрибутива Linux\n",
        "!lsb_release -a"
      ],
      "metadata": {
        "colab": {
          "base_uri": "https://localhost:8080/"
        },
        "id": "ePuVTgneo0Rs",
        "outputId": "b47f06c7-e995-41c0-8e40-97486097e40a"
      },
      "execution_count": null,
      "outputs": [
        {
          "output_type": "stream",
          "name": "stdout",
          "text": [
            "No LSB modules are available.\n",
            "Distributor ID:\tUbuntu\n",
            "Description:\tUbuntu 18.04.6 LTS\n",
            "Release:\t18.04\n",
            "Codename:\tbionic\n"
          ]
        }
      ]
    },
    {
      "cell_type": "code",
      "execution_count": null,
      "metadata": {
        "id": "eXAC5VIPiJl7",
        "colab": {
          "base_uri": "https://localhost:8080/"
        },
        "outputId": "47b47b48-c9c9-4562-9e58-ae4fed763fd3"
      },
      "outputs": [
        {
          "output_type": "stream",
          "name": "stdout",
          "text": [
            "Thu Sep  1 10:36:16 2022       \n",
            "+-----------------------------------------------------------------------------+\n",
            "| NVIDIA-SMI 460.32.03    Driver Version: 460.32.03    CUDA Version: 11.2     |\n",
            "|-------------------------------+----------------------+----------------------+\n",
            "| GPU  Name        Persistence-M| Bus-Id        Disp.A | Volatile Uncorr. ECC |\n",
            "| Fan  Temp  Perf  Pwr:Usage/Cap|         Memory-Usage | GPU-Util  Compute M. |\n",
            "|                               |                      |               MIG M. |\n",
            "|===============================+======================+======================|\n",
            "|   0  Tesla T4            Off  | 00000000:00:04.0 Off |                    0 |\n",
            "| N/A   51C    P8     9W /  70W |      0MiB / 15109MiB |      0%      Default |\n",
            "|                               |                      |                  N/A |\n",
            "+-------------------------------+----------------------+----------------------+\n",
            "                                                                               \n",
            "+-----------------------------------------------------------------------------+\n",
            "| Processes:                                                                  |\n",
            "|  GPU   GI   CI        PID   Type   Process name                  GPU Memory |\n",
            "|        ID   ID                                                   Usage      |\n",
            "|=============================================================================|\n",
            "|  No running processes found                                                 |\n",
            "+-----------------------------------------------------------------------------+\n"
          ]
        }
      ],
      "source": [
        "# видеокарта\n",
        "!nvidia-smi"
      ]
    },
    {
      "cell_type": "markdown",
      "source": [
        "CUDA Version в nvidia-smi - это не ваша текущая версия CUDA, а [максимально поддерживаемая версия](https://docs.nvidia.com/cuda/cuda-toolkit-release-notes/index.html) для текущего драйвера видеокарты."
      ],
      "metadata": {
        "id": "CPIo9i8Tx0aX"
      }
    },
    {
      "cell_type": "code",
      "source": [
        "# cuda compiler\n",
        "!nvcc --version"
      ],
      "metadata": {
        "colab": {
          "base_uri": "https://localhost:8080/"
        },
        "id": "TF2LKwK9wsiH",
        "outputId": "7b0f2fb6-c9cc-4b6c-e900-8a98923b4e1b"
      },
      "execution_count": null,
      "outputs": [
        {
          "output_type": "stream",
          "name": "stdout",
          "text": [
            "nvcc: NVIDIA (R) Cuda compiler driver\n",
            "Copyright (c) 2005-2020 NVIDIA Corporation\n",
            "Built on Mon_Oct_12_20:09:46_PDT_2020\n",
            "Cuda compilation tools, release 11.1, V11.1.105\n",
            "Build cuda_11.1.TC455_06.29190527_0\n"
          ]
        }
      ]
    },
    {
      "cell_type": "code",
      "source": [
        "# процессор\n",
        "!cat /proc/cpuinfo"
      ],
      "metadata": {
        "colab": {
          "base_uri": "https://localhost:8080/"
        },
        "id": "W1vqoHiFnzCk",
        "outputId": "bfdc7272-4547-4498-af23-c7abdea3a93a"
      },
      "execution_count": null,
      "outputs": [
        {
          "output_type": "stream",
          "name": "stdout",
          "text": [
            "processor\t: 0\n",
            "vendor_id\t: GenuineIntel\n",
            "cpu family\t: 6\n",
            "model\t\t: 63\n",
            "model name\t: Intel(R) Xeon(R) CPU @ 2.30GHz\n",
            "stepping\t: 0\n",
            "microcode\t: 0x1\n",
            "cpu MHz\t\t: 2299.998\n",
            "cache size\t: 46080 KB\n",
            "physical id\t: 0\n",
            "siblings\t: 2\n",
            "core id\t\t: 0\n",
            "cpu cores\t: 1\n",
            "apicid\t\t: 0\n",
            "initial apicid\t: 0\n",
            "fpu\t\t: yes\n",
            "fpu_exception\t: yes\n",
            "cpuid level\t: 13\n",
            "wp\t\t: yes\n",
            "flags\t\t: fpu vme de pse tsc msr pae mce cx8 apic sep mtrr pge mca cmov pat pse36 clflush mmx fxsr sse sse2 ss ht syscall nx pdpe1gb rdtscp lm constant_tsc rep_good nopl xtopology nonstop_tsc cpuid tsc_known_freq pni pclmulqdq ssse3 fma cx16 pcid sse4_1 sse4_2 x2apic movbe popcnt aes xsave avx f16c rdrand hypervisor lahf_lm abm invpcid_single ssbd ibrs ibpb stibp fsgsbase tsc_adjust bmi1 avx2 smep bmi2 erms invpcid xsaveopt arat md_clear arch_capabilities\n",
            "bugs\t\t: cpu_meltdown spectre_v1 spectre_v2 spec_store_bypass l1tf mds swapgs\n",
            "bogomips\t: 4599.99\n",
            "clflush size\t: 64\n",
            "cache_alignment\t: 64\n",
            "address sizes\t: 46 bits physical, 48 bits virtual\n",
            "power management:\n",
            "\n",
            "processor\t: 1\n",
            "vendor_id\t: GenuineIntel\n",
            "cpu family\t: 6\n",
            "model\t\t: 63\n",
            "model name\t: Intel(R) Xeon(R) CPU @ 2.30GHz\n",
            "stepping\t: 0\n",
            "microcode\t: 0x1\n",
            "cpu MHz\t\t: 2299.998\n",
            "cache size\t: 46080 KB\n",
            "physical id\t: 0\n",
            "siblings\t: 2\n",
            "core id\t\t: 0\n",
            "cpu cores\t: 1\n",
            "apicid\t\t: 1\n",
            "initial apicid\t: 1\n",
            "fpu\t\t: yes\n",
            "fpu_exception\t: yes\n",
            "cpuid level\t: 13\n",
            "wp\t\t: yes\n",
            "flags\t\t: fpu vme de pse tsc msr pae mce cx8 apic sep mtrr pge mca cmov pat pse36 clflush mmx fxsr sse sse2 ss ht syscall nx pdpe1gb rdtscp lm constant_tsc rep_good nopl xtopology nonstop_tsc cpuid tsc_known_freq pni pclmulqdq ssse3 fma cx16 pcid sse4_1 sse4_2 x2apic movbe popcnt aes xsave avx f16c rdrand hypervisor lahf_lm abm invpcid_single ssbd ibrs ibpb stibp fsgsbase tsc_adjust bmi1 avx2 smep bmi2 erms invpcid xsaveopt arat md_clear arch_capabilities\n",
            "bugs\t\t: cpu_meltdown spectre_v1 spectre_v2 spec_store_bypass l1tf mds swapgs\n",
            "bogomips\t: 4599.99\n",
            "clflush size\t: 64\n",
            "cache_alignment\t: 64\n",
            "address sizes\t: 46 bits physical, 48 bits virtual\n",
            "power management:\n",
            "\n"
          ]
        }
      ]
    },
    {
      "cell_type": "code",
      "source": [
        "# процессор\n",
        "!lscpu"
      ],
      "metadata": {
        "colab": {
          "base_uri": "https://localhost:8080/"
        },
        "id": "_q3ACTnJoMJU",
        "outputId": "73cac93c-7e46-417b-8ed4-21516d88c0c2"
      },
      "execution_count": null,
      "outputs": [
        {
          "output_type": "stream",
          "name": "stdout",
          "text": [
            "Architecture:        x86_64\n",
            "CPU op-mode(s):      32-bit, 64-bit\n",
            "Byte Order:          Little Endian\n",
            "CPU(s):              2\n",
            "On-line CPU(s) list: 0,1\n",
            "Thread(s) per core:  2\n",
            "Core(s) per socket:  1\n",
            "Socket(s):           1\n",
            "NUMA node(s):        1\n",
            "Vendor ID:           GenuineIntel\n",
            "CPU family:          6\n",
            "Model:               63\n",
            "Model name:          Intel(R) Xeon(R) CPU @ 2.30GHz\n",
            "Stepping:            0\n",
            "CPU MHz:             2299.998\n",
            "BogoMIPS:            4599.99\n",
            "Hypervisor vendor:   KVM\n",
            "Virtualization type: full\n",
            "L1d cache:           32K\n",
            "L1i cache:           32K\n",
            "L2 cache:            256K\n",
            "L3 cache:            46080K\n",
            "NUMA node0 CPU(s):   0,1\n",
            "Flags:               fpu vme de pse tsc msr pae mce cx8 apic sep mtrr pge mca cmov pat pse36 clflush mmx fxsr sse sse2 ss ht syscall nx pdpe1gb rdtscp lm constant_tsc rep_good nopl xtopology nonstop_tsc cpuid tsc_known_freq pni pclmulqdq ssse3 fma cx16 pcid sse4_1 sse4_2 x2apic movbe popcnt aes xsave avx f16c rdrand hypervisor lahf_lm abm invpcid_single ssbd ibrs ibpb stibp fsgsbase tsc_adjust bmi1 avx2 smep bmi2 erms invpcid xsaveopt arat md_clear arch_capabilities\n"
          ]
        }
      ]
    },
    {
      "cell_type": "code",
      "source": [
        "# оперативная память\n",
        "!grep MemTotal /proc/meminfo"
      ],
      "metadata": {
        "colab": {
          "base_uri": "https://localhost:8080/"
        },
        "id": "e_AQVQQaoVFR",
        "outputId": "1c705c67-3800-42d5-d279-ad8d27474841"
      },
      "execution_count": null,
      "outputs": [
        {
          "output_type": "stream",
          "name": "stdout",
          "text": [
            "MemTotal:       13298580 kB\n"
          ]
        }
      ]
    },
    {
      "cell_type": "code",
      "source": [
        "# диск\n",
        "!df -h"
      ],
      "metadata": {
        "colab": {
          "base_uri": "https://localhost:8080/"
        },
        "id": "58uYqrEBqrqj",
        "outputId": "dfa8f959-7be6-4188-b8a3-ff4b4684f3c3"
      },
      "execution_count": null,
      "outputs": [
        {
          "output_type": "stream",
          "name": "stdout",
          "text": [
            "Filesystem      Size  Used Avail Use% Mounted on\n",
            "overlay          79G   38G   41G  48% /\n",
            "tmpfs            64M     0   64M   0% /dev\n",
            "shm             5.7G     0  5.7G   0% /dev/shm\n",
            "/dev/root       2.0G  1.2G  812M  59% /sbin/docker-init\n",
            "tmpfs           6.4G   36K  6.4G   1% /var/colab\n",
            "/dev/sda1        86G   40G   46G  47% /opt/bin/.nvidia\n",
            "tmpfs           6.4G     0  6.4G   0% /proc/acpi\n",
            "tmpfs           6.4G     0  6.4G   0% /proc/scsi\n",
            "tmpfs           6.4G     0  6.4G   0% /sys/firmware\n"
          ]
        }
      ]
    },
    {
      "cell_type": "code",
      "source": [
        "# права в Google Colab\n",
        "!whoami"
      ],
      "metadata": {
        "colab": {
          "base_uri": "https://localhost:8080/"
        },
        "id": "gBYRJ67qqMJ2",
        "outputId": "1e3a4ad3-0b49-445c-80c7-8b6364298163"
      },
      "execution_count": null,
      "outputs": [
        {
          "output_type": "stream",
          "name": "stdout",
          "text": [
            "root\n"
          ]
        }
      ]
    },
    {
      "cell_type": "markdown",
      "source": [
        "# Библиотека Pytorch"
      ],
      "metadata": {
        "id": "xJef-8rXrMR2"
      }
    },
    {
      "cell_type": "markdown",
      "source": [
        "## Установка"
      ],
      "metadata": {
        "id": "mV8n8faxvOQO"
      }
    },
    {
      "cell_type": "markdown",
      "source": [
        "Ссылки для установки под ваше оборудование можно найти [тут](https://pytorch.org/get-started/locally/)."
      ],
      "metadata": {
        "id": "ZOyzr4Vp2vgZ"
      }
    },
    {
      "cell_type": "code",
      "source": [
        "import torch"
      ],
      "metadata": {
        "id": "b_dqa87wrRMu"
      },
      "execution_count": null,
      "outputs": []
    },
    {
      "cell_type": "code",
      "source": [
        "x = torch.rand(2, 3)\n",
        "x, x.device"
      ],
      "metadata": {
        "colab": {
          "base_uri": "https://localhost:8080/"
        },
        "id": "gNbr0HEq3j90",
        "outputId": "14ca21a5-d63a-4176-f74a-f2688905874d"
      },
      "execution_count": null,
      "outputs": [
        {
          "output_type": "execute_result",
          "data": {
            "text/plain": [
              "(tensor([[0.9603, 0.3950, 0.9590],\n",
              "         [0.0844, 0.6596, 0.4156]]), device(type='cpu'))"
            ]
          },
          "metadata": {},
          "execution_count": 20
        }
      ]
    },
    {
      "cell_type": "code",
      "source": [
        "torch.cuda.is_available()"
      ],
      "metadata": {
        "colab": {
          "base_uri": "https://localhost:8080/"
        },
        "id": "2vcNoQZ4zVJG",
        "outputId": "35d3f494-1a96-4109-f3f1-880a4a029d53"
      },
      "execution_count": null,
      "outputs": [
        {
          "output_type": "execute_result",
          "data": {
            "text/plain": [
              "False"
            ]
          },
          "metadata": {},
          "execution_count": 6
        }
      ]
    },
    {
      "cell_type": "code",
      "source": [
        "!python -m pip list | grep torch"
      ],
      "metadata": {
        "colab": {
          "base_uri": "https://localhost:8080/"
        },
        "id": "Fs_NS9SKzZeH",
        "outputId": "616ad8eb-252a-45df-882f-449506634e61"
      },
      "execution_count": null,
      "outputs": [
        {
          "output_type": "stream",
          "name": "stdout",
          "text": [
            "torch                         1.12.1+cu113\n",
            "torchaudio                    0.12.1+cu113\n",
            "torchsummary                  1.5.1\n",
            "torchtext                     0.13.1\n",
            "torchvision                   0.13.1+cu113\n"
          ]
        }
      ]
    },
    {
      "cell_type": "markdown",
      "source": [
        "## Обзор возможностей и особенностей"
      ],
      "metadata": {
        "id": "W4qhspuX3zOE"
      }
    },
    {
      "cell_type": "code",
      "source": [
        "from torch import nn # модуль с базовыми слоями\n",
        "import torch.nn.functional as F # модуль с базовыми функциями"
      ],
      "metadata": {
        "id": "N5BaifEM4rVz"
      },
      "execution_count": null,
      "outputs": []
    },
    {
      "cell_type": "code",
      "source": [
        "dir(nn)[:10]"
      ],
      "metadata": {
        "colab": {
          "base_uri": "https://localhost:8080/"
        },
        "id": "UCzQK0As5BQM",
        "outputId": "2c704898-e97b-4dd0-af80-c432ed10c9c6"
      },
      "execution_count": null,
      "outputs": [
        {
          "output_type": "execute_result",
          "data": {
            "text/plain": [
              "['AdaptiveAvgPool1d',\n",
              " 'AdaptiveAvgPool2d',\n",
              " 'AdaptiveAvgPool3d',\n",
              " 'AdaptiveLogSoftmaxWithLoss',\n",
              " 'AdaptiveMaxPool1d',\n",
              " 'AdaptiveMaxPool2d',\n",
              " 'AdaptiveMaxPool3d',\n",
              " 'AlphaDropout',\n",
              " 'AvgPool1d',\n",
              " 'AvgPool2d']"
            ]
          },
          "metadata": {},
          "execution_count": 14
        }
      ]
    },
    {
      "cell_type": "markdown",
      "source": [
        "Данные нужно вручную переносить в видеопамять -- метод cuda. Перенос в оперативную память -- cpu. Альтернатива -- использование метода `.to(device)`. По умолчанию данные на cpu."
      ],
      "metadata": {
        "id": "3fTPaJAaC25o"
      }
    },
    {
      "cell_type": "code",
      "source": [
        "# проверка доступности видеокарты, выбор устройства CPU или GPU\n",
        "device = torch.device('cuda' if torch.cuda.is_available() else 'cpu')\n",
        "device"
      ],
      "metadata": {
        "colab": {
          "base_uri": "https://localhost:8080/"
        },
        "id": "dJAYuPF37kCc",
        "outputId": "8d74e862-6432-41c2-99b4-3bf7c019fdf0"
      },
      "execution_count": null,
      "outputs": [
        {
          "output_type": "execute_result",
          "data": {
            "text/plain": [
              "device(type='cpu')"
            ]
          },
          "metadata": {},
          "execution_count": 16
        }
      ]
    },
    {
      "cell_type": "markdown",
      "metadata": {
        "id": "34ox66u1jNBG"
      },
      "source": [
        "Два способа создания нейросети:\n",
        "  1. на основе готового класса `nn.Sequential` объединяющего отдельные слои\n",
        "    - данные передаются по сети в том порядке, в каком объявлены слои\n",
        "    - функции активации задаются как отдельные слои\n",
        "  2. свой класс для нейросети, на основе `nn.Module`\n",
        "    - порядок передачи данных можно менять во время обучения, переопределив forward - динамический граф вычислений\n",
        "\n",
        "Первый способ стоит использовать только как контейнер для ряда слоев. Неросеть нужно наследовать от `nn.Module`.\n"
      ]
    },
    {
      "cell_type": "code",
      "source": [
        "net_seq = nn.Sequential(\n",
        "    nn.Linear(in_features=3, out_features=5),\n",
        "    nn.Sigmoid(),\n",
        "    nn.Linear(in_features=5, out_features=2),                                                            \n",
        ")\n",
        "net_seq.to(device)\n",
        "net_seq"
      ],
      "metadata": {
        "id": "H17RdEIv7aOT"
      },
      "execution_count": null,
      "outputs": []
    },
    {
      "cell_type": "code",
      "source": [
        "net_seq(x)"
      ],
      "metadata": {
        "id": "v2xerVJ983e_"
      },
      "execution_count": null,
      "outputs": []
    },
    {
      "cell_type": "code",
      "source": [
        "class Model(nn.Module):\n",
        "    def __init__(self):\n",
        "        super().__init__()\n",
        "        self.fc1 = nn.Linear(in_features=3, out_features=5)\n",
        "        self.fc2 = nn.Linear(in_features=5, out_features=2)\n",
        "\n",
        "    def forward(self, x):\n",
        "        x = self.fc1(x)\n",
        "        return F.sigmoid(self.fc2(x))"
      ],
      "metadata": {
        "id": "Xt4BPLs3-7DT"
      },
      "execution_count": null,
      "outputs": []
    },
    {
      "cell_type": "code",
      "source": [
        "net_model = Model()\n",
        "net_model.to(device)\n",
        "net_model"
      ],
      "metadata": {
        "id": "n7csNM12_UYG"
      },
      "execution_count": null,
      "outputs": []
    },
    {
      "cell_type": "markdown",
      "source": [
        "### **Задача 1**. Посчитайте количество обучаемых параметров в сети net_seq и net_model."
      ],
      "metadata": {
        "id": "7bIrvcYJ_5jK"
      }
    },
    {
      "cell_type": "code",
      "source": [],
      "metadata": {
        "id": "rLIEW45CjrAb"
      },
      "execution_count": null,
      "outputs": []
    },
    {
      "cell_type": "markdown",
      "source": [
        "## Воспроизводимость результатов"
      ],
      "metadata": {
        "id": "Am-la7kqCDEl"
      }
    },
    {
      "cell_type": "code",
      "source": [
        "# для воспроизводимости результатов\n",
        "# не изменяйте и не удаляйте этот код\n",
        "from numpy.random import seed\n",
        "import random\n",
        "\n",
        "random.seed(0)\n",
        "seed(0)\n",
        "torch.manual_seed(0)"
      ],
      "metadata": {
        "id": "DT_4H6vQuWuk"
      },
      "execution_count": null,
      "outputs": []
    },
    {
      "cell_type": "markdown",
      "source": [
        "Подробнее можно прочитать [тут](https://pytorch.org/docs/stable/notes/randomness.html)."
      ],
      "metadata": {
        "id": "P8TfCik9DFMf"
      }
    },
    {
      "cell_type": "markdown",
      "source": [
        "# Библиотека mindspore"
      ],
      "metadata": {
        "id": "iCNmT3sZEgbe"
      }
    },
    {
      "cell_type": "markdown",
      "source": [
        "Ссылки для установки под ваше оборудование можно найти [тут](https://www.mindspore.cn/install/en)."
      ],
      "metadata": {
        "id": "G3TEFaqEE9OI"
      }
    },
    {
      "cell_type": "code",
      "source": [
        "!python --version"
      ],
      "metadata": {
        "id": "HrFiYL6tFcZE"
      },
      "execution_count": null,
      "outputs": []
    },
    {
      "cell_type": "code",
      "source": [
        "!nvcc --version"
      ],
      "metadata": {
        "id": "TTyA2VS8E9zo"
      },
      "execution_count": null,
      "outputs": []
    },
    {
      "cell_type": "code",
      "source": [
        "!python -m pip install https://ms-release.obs.cn-north-4.myhuaweicloud.com/1.8.1/MindSpore/gpu/x86_64/cuda-11.1/mindspore_gpu-1.8.1-cp37-cp37m-linux_x86_64.whl --trusted-host ms-release.obs.cn-north-4.myhuaweicloud.com -i https://pypi.tuna.tsinghua.edu.cn/simple"
      ],
      "metadata": {
        "id": "aRCqOmwbFxza"
      },
      "execution_count": null,
      "outputs": []
    },
    {
      "cell_type": "code",
      "source": [
        "!python -m pip list | grep mindspore"
      ],
      "metadata": {
        "id": "mC1rpM5oGzBl"
      },
      "execution_count": null,
      "outputs": []
    },
    {
      "cell_type": "code",
      "source": [
        "!python -c \"import mindspore;mindspore.run_check()\""
      ],
      "metadata": {
        "id": "zNp53RVOH1HW"
      },
      "execution_count": null,
      "outputs": []
    },
    {
      "cell_type": "markdown",
      "source": [
        "Библиотека стоилась на основе Pytorch и Tensorflow, поэтому имеет [документацию с сопоставлением](https://www.mindspore.cn/docs/en/r1.8/note/api_mapping/pytorch_api_mapping.html) функций и классов."
      ],
      "metadata": {
        "id": "KlIWnpxsIS39"
      }
    },
    {
      "cell_type": "code",
      "source": [
        "import numpy as np\n",
        "import mindspore as ms\n",
        "import mindspore.ops as ops\n",
        "import mindspore.nn as nn\n",
        "\n",
        "\n",
        "class Mindspore_Model(nn.Cell):\n",
        "    def __init__(self,):\n",
        "        super(Mindspore_Model, self).__init__()\n",
        "        self.fc1 = nn.Dense(in_channels=3, out_channels=5)\n",
        "        self.fc2 = nn.Dense(in_channels=5, out_channels=2)\n",
        "        self.sigmoid = ops.Sigmoid\n",
        "\n",
        "    def constract(self, x):\n",
        "        x = self.fc1(x)\n",
        "        return self.fc2(self.sigmoid(x))\n",
        "\n",
        "net_mindspore = Mindspore_Model()\n",
        "net_mindspore"
      ],
      "metadata": {
        "id": "l_1cE811INJM"
      },
      "execution_count": null,
      "outputs": []
    },
    {
      "cell_type": "code",
      "source": [
        "ms.set_seed(0)"
      ],
      "metadata": {
        "id": "9wsQVw2dMlZU"
      },
      "execution_count": null,
      "outputs": []
    },
    {
      "cell_type": "markdown",
      "source": [
        "# Введение в глубокое обучение"
      ],
      "metadata": {
        "id": "-B0jOvkQE4MQ"
      }
    },
    {
      "cell_type": "code",
      "source": [
        "import numpy as np\n",
        "import torch"
      ],
      "metadata": {
        "id": "K3qDkWpcRTWZ"
      },
      "execution_count": null,
      "outputs": []
    },
    {
      "cell_type": "markdown",
      "source": [
        "![alt text](https://drive.google.com/uc?export=view&id=1k96ch-5lAGYrfBk4xgoty93xy-GP2bhr)\n"
      ],
      "metadata": {
        "id": "-OBSxEORsEMG"
      }
    },
    {
      "cell_type": "markdown",
      "source": [
        "![alt text](https://drive.google.com/uc?export=view&id=1ORawq1pZJ7a2z7vUD2PPyLELkOHoAB51)"
      ],
      "metadata": {
        "id": "4kiuzSRBQAte"
      }
    },
    {
      "cell_type": "markdown",
      "source": [
        "![alt text](https://drive.google.com/uc?export=view&id=19I2SrQHTO4njMHwCYh8fcaX-qOcKKy2A)"
      ],
      "metadata": {
        "id": "sVIkrL0-ZjpO"
      }
    },
    {
      "cell_type": "markdown",
      "source": [
        "## **Задача 2**. Cделать нейрон, соответствующий оператору НЕ."
      ],
      "metadata": {
        "id": "9P9bWaC9QQJm"
      }
    },
    {
      "cell_type": "code",
      "source": [
        "class Neuron(torch.nn.Module):\n",
        "  def __init__(self):\n",
        "    super().__init__()\n",
        "    ...\n",
        "\n",
        "  def forward(self, x):\n",
        "    return torch.heaviside(..., torch.tensor([0.0]))"
      ],
      "metadata": {
        "id": "Hh8sSJkEWNmT"
      },
      "execution_count": null,
      "outputs": []
    },
    {
      "cell_type": "code",
      "source": [
        "neuron = Neuron()\n",
        "neuron.fc.weight, neuron.fc.bias"
      ],
      "metadata": {
        "id": "r9HoH1koVQXi"
      },
      "execution_count": null,
      "outputs": []
    },
    {
      "cell_type": "code",
      "source": [
        "neuron.fc.weight.data = torch.tensor([[0.0]])\n",
        "neuron.fc.bias.data = torch.tensor([0.0])"
      ],
      "metadata": {
        "id": "MLmGhtWFTYlV"
      },
      "execution_count": null,
      "outputs": []
    },
    {
      "cell_type": "code",
      "source": [
        "x = torch.tensor([0.0])\n",
        "neuron(x)"
      ],
      "metadata": {
        "id": "UFr5InkDTf-r"
      },
      "execution_count": null,
      "outputs": []
    },
    {
      "cell_type": "markdown",
      "source": [
        "## **Задача 3**. Cделать нейрон, соответствующий оператору И."
      ],
      "metadata": {
        "id": "TRxJxcRJQsMz"
      }
    },
    {
      "cell_type": "code",
      "source": [
        "class Neuron(torch.nn.Module):\n",
        "  def __init__(self):\n",
        "    super().__init__()\n",
        "    self.fc = torch.nn.Linear(2, 1)\n",
        "\n",
        "  def forward(self, x):\n",
        "    return torch.heaviside(self.fc(x), torch.tensor([0.0]))"
      ],
      "metadata": {
        "id": "7dvDtA7HX3V6"
      },
      "execution_count": null,
      "outputs": []
    },
    {
      "cell_type": "code",
      "source": [
        "neuron = Neuron()\n",
        "neuron.fc.weight, neuron.fc.bias"
      ],
      "metadata": {
        "id": "olMqAnQtX5NQ",
        "colab": {
          "base_uri": "https://localhost:8080/"
        },
        "outputId": "a831cba3-c482-4e38-f2de-232eea4fe04f"
      },
      "execution_count": null,
      "outputs": [
        {
          "output_type": "execute_result",
          "data": {
            "text/plain": [
              "(Parameter containing:\n",
              " tensor([[-0.6693,  0.6292]], requires_grad=True), Parameter containing:\n",
              " tensor([-0.3574], requires_grad=True))"
            ]
          },
          "metadata": {},
          "execution_count": 3
        }
      ]
    },
    {
      "cell_type": "code",
      "source": [
        "neuron.fc.weight.data = torch.tensor([[0.0, 0.0]])\n",
        "neuron.fc.bias.data = torch.tensor([0.0])"
      ],
      "metadata": {
        "id": "kAtwMX7HQ0aj"
      },
      "execution_count": null,
      "outputs": []
    },
    {
      "cell_type": "code",
      "source": [
        "x = torch.tensor([0.0, 0.0])\n",
        "neuron(x)"
      ],
      "metadata": {
        "id": "P27EdNkrXloh"
      },
      "execution_count": null,
      "outputs": []
    },
    {
      "cell_type": "markdown",
      "source": [
        "## **Задача 4**. Cделать нейрон, соответствующий оператору ИЛИ."
      ],
      "metadata": {
        "id": "MRuSrP7JQ00i"
      }
    },
    {
      "cell_type": "code",
      "source": [
        "neuron.fc.weight.data = torch.tensor([[0.0, 0.0]])\n",
        "neuron.fc.bias.data = torch.tensor([0.0])"
      ],
      "metadata": {
        "id": "23RuhFqbQ24-"
      },
      "execution_count": null,
      "outputs": []
    },
    {
      "cell_type": "code",
      "source": [
        "x = torch.tensor([0.0, 0.0])\n",
        "neuron(x)"
      ],
      "metadata": {
        "id": "i-BZHFqnXpLL"
      },
      "execution_count": null,
      "outputs": []
    },
    {
      "cell_type": "markdown",
      "source": [
        "## **Задача 5**. Cделать нейрон, соответствующий оператору XOR."
      ],
      "metadata": {
        "id": "1b95Z8u7Q3OL"
      }
    },
    {
      "cell_type": "code",
      "source": [
        "neuron.fc.weight.data = torch.tensor([[0.0, 0.0]])\n",
        "neuron.fc.bias.data = torch.tensor([0.0])"
      ],
      "metadata": {
        "id": "hWP7ee7tjCGv"
      },
      "execution_count": null,
      "outputs": []
    },
    {
      "cell_type": "code",
      "source": [
        "x = torch.tensor([0.0, 0.0])\n",
        "neuron(x)"
      ],
      "metadata": {
        "id": "HgDrZ7PBjGwJ"
      },
      "execution_count": null,
      "outputs": []
    },
    {
      "cell_type": "markdown",
      "source": [
        "## **Вопрос 1**. Какие нейронные сети могут иметь только линейную разделяющую поверхность?"
      ],
      "metadata": {
        "id": "OiPV2u5zfwyo"
      }
    },
    {
      "cell_type": "markdown",
      "source": [],
      "metadata": {
        "id": "eNi4IwB8f9yK"
      }
    },
    {
      "cell_type": "markdown",
      "source": [
        "## **Вопрос 2**. Имеет ли смысл соединять полносвязанные нейроны (нейроны, которые принимают на вход все выходы предыдущего слоя) с линейной функцией активации в многослойную нейронную сеть?"
      ],
      "metadata": {
        "id": "uEf1aXsdgLBh"
      }
    },
    {
      "cell_type": "markdown",
      "source": [],
      "metadata": {
        "id": "Jy06MWy-gQCh"
      }
    },
    {
      "cell_type": "markdown",
      "source": [
        "# Домашнее задание"
      ],
      "metadata": {
        "id": "DJ9Uxo7DEns4"
      }
    },
    {
      "cell_type": "markdown",
      "source": [
        "**Домашнее задание 1:** реализуйте XOR с помощью 3 нейронов. Запишите ответ в виде выражения, состоящего из объектов neuron() – моделей нейрона с пороговой функцией активации, внутри скобок может быть что угодно. Входы верхнего уровня называются x1 и x2. Пример фрагмента записи: neuron(1*x1 + 5*x2 - 0.1) + neuron(x1) (ответ будет выглядеть чуть сложнее, но других символов вроде && не потребуется)."
      ],
      "metadata": {
        "id": "me6riR-YEuYg"
      }
    },
    {
      "cell_type": "markdown",
      "source": [
        "**Домашнее задание2:** нарисуйте backward граф для выражения `a*b+c*d`. [Теория и пример оформления](https://www.youtube.com/watch?v=MswxJw-8PvE). Сравните полученные теоретические значения с аттрибутами grad у исходных тензоров."
      ],
      "metadata": {
        "id": "UQmVNc2kEyQP"
      }
    },
    {
      "cell_type": "code",
      "source": [
        "a = torch.tensor([2.0], requires_grad=True)\n",
        "b = torch.tensor([4.0], requires_grad=True)\n",
        "c = torch.tensor([1.0], requires_grad=True)\n",
        "d = torch.tensor([5.0], requires_grad=False)"
      ],
      "metadata": {
        "id": "rHAT-rNxnh-X"
      },
      "execution_count": null,
      "outputs": []
    },
    {
      "cell_type": "code",
      "source": [
        "print(a.grad)"
      ],
      "metadata": {
        "id": "yQUF6a8rnjyF"
      },
      "execution_count": null,
      "outputs": []
    },
    {
      "cell_type": "code",
      "source": [
        "loss = a*b + c*d\n",
        "loss.backward()"
      ],
      "metadata": {
        "id": "WQewq5DCnnPF"
      },
      "execution_count": null,
      "outputs": []
    },
    {
      "cell_type": "code",
      "source": [
        "print(a.grad)"
      ],
      "metadata": {
        "id": "tDxWZCwQnojN"
      },
      "execution_count": null,
      "outputs": []
    },
    {
      "cell_type": "markdown",
      "source": [
        "# Рекомендуемые ссылки"
      ],
      "metadata": {
        "id": "_Z2Ot37UODKM"
      }
    },
    {
      "cell_type": "markdown",
      "source": [
        "- [Нейронные сети и компьютерное зрение, Samsung AI Center, часть 1](https://stepik.org/course/50352/syllabus)\n",
        "- [Cимулятор](https://playground.tensorflow.org/) нейроннов и неронных сетей"
      ],
      "metadata": {
        "id": "SnFY95T7kNji"
      }
    }
  ]
}