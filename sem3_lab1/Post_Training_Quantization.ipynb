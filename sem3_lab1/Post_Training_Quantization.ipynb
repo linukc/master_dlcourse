{
  "nbformat": 4,
  "nbformat_minor": 0,
  "metadata": {
    "colab": {
      "provenance": []
    },
    "kernelspec": {
      "name": "python3",
      "display_name": "Python 3"
    },
    "language_info": {
      "name": "python"
    }
  },
  "cells": [
    {
      "cell_type": "code",
      "source": [
        "!pip list | grep torch"
      ],
      "metadata": {
        "colab": {
          "base_uri": "https://localhost:8080/"
        },
        "id": "6ypQKMC0QIjA",
        "outputId": "e7b66373-b4b3-471e-cf11-365c804401cd"
      },
      "execution_count": null,
      "outputs": [
        {
          "output_type": "stream",
          "name": "stdout",
          "text": [
            "torch                            2.0.1+cu118\n",
            "torchaudio                       2.0.2+cu118\n",
            "torchdata                        0.6.1\n",
            "torchsummary                     1.5.1\n",
            "torchtext                        0.15.2\n",
            "torchvision                      0.15.2+cu118\n"
          ]
        }
      ]
    },
    {
      "cell_type": "code",
      "source": [
        "import torch"
      ],
      "metadata": {
        "id": "NhEMHX1V4IwM"
      },
      "execution_count": null,
      "outputs": []
    },
    {
      "cell_type": "markdown",
      "source": [
        "*   https://pytorch.org/blog/quantization-in-practice/\n",
        "*   https://pytorch.org/docs/stable/quantization.html\n",
        "*   https://pytorch.org/docs/stable/quantization-support.html"
      ],
      "metadata": {
        "id": "RoMW3Ruptax1"
      }
    },
    {
      "cell_type": "markdown",
      "source": [
        "### Mapping function and Quantization Parameters"
      ],
      "metadata": {
        "id": "gbqyoRrl7A0y"
      }
    },
    {
      "cell_type": "code",
      "source": [
        "# r - float tensor, r' - int tensor\n",
        "# S [scaling factor] = (beta - alpha) / (beta_q - alpha_q)\n",
        "# Z [zero point] =  -(alpha / S - alpha_q)\n",
        "\n",
        "def quantize(float_tensor, scale, z):\n",
        "  # Q(r) = round(r/S + Z)\n",
        "  return torch.round(float_tensor / scale + z)\n",
        "\n",
        "def dequantize(int_tensor, scale, z):\n",
        "  # r' = (Q(r) - Z) * S\n",
        "  return (int_tensor - z) * scale"
      ],
      "metadata": {
        "id": "XbgzwD7M1KW8"
      },
      "execution_count": null,
      "outputs": []
    },
    {
      "cell_type": "code",
      "source": [
        "from torch.ao.quantization.observer import MinMaxObserver, MovingAverageMinMaxObserver, HistogramObserver\n",
        "\n",
        "C, L = 3, 4\n",
        "normal = torch.distributions.normal.Normal(0,1)\n",
        "inputs = normal.sample((C, L))\n",
        "print(inputs)"
      ],
      "metadata": {
        "colab": {
          "base_uri": "https://localhost:8080/"
        },
        "id": "FBAf6XZi1KXs",
        "outputId": "9405c6e2-cba4-4ba4-b26c-d26e66675c21"
      },
      "execution_count": null,
      "outputs": [
        {
          "output_type": "stream",
          "name": "stdout",
          "text": [
            "tensor([[-0.1357,  1.6480,  2.1760,  0.3836],\n",
            "        [-0.4254,  1.1738,  0.0382, -0.7709],\n",
            "        [ 0.4722,  0.1590, -0.2300, -0.0625]])\n"
          ]
        }
      ]
    },
    {
      "cell_type": "code",
      "source": [
        "observers = [MinMaxObserver(), MovingAverageMinMaxObserver(), HistogramObserver()]\n",
        "for obs in observers:\n",
        "  obs(inputs)\n",
        "  print(obs.__class__.__name__, obs.calculate_qparams())"
      ],
      "metadata": {
        "colab": {
          "base_uri": "https://localhost:8080/"
        },
        "id": "sPanD_eQ4TZl",
        "outputId": "11631cd8-48e6-4420-c5a1-f27ab7d30e5b"
      },
      "execution_count": null,
      "outputs": [
        {
          "output_type": "stream",
          "name": "stdout",
          "text": [
            "MinMaxObserver (tensor([0.0116]), tensor([67], dtype=torch.int32))\n",
            "MovingAverageMinMaxObserver (tensor([0.0116]), tensor([67], dtype=torch.int32))\n",
            "HistogramObserver (tensor([0.0116]), tensor([67], dtype=torch.int32))\n"
          ]
        }
      ]
    },
    {
      "cell_type": "code",
      "source": [
        "scale, z = observers[0].calculate_qparams()\n",
        "reconstruction_error = torch.abs(dequantize(quantize(inputs, scale, z), scale, z) - inputs)\n",
        "reconstruction_error"
      ],
      "metadata": {
        "colab": {
          "base_uri": "https://localhost:8080/"
        },
        "id": "RZf3OgNQ49Aj",
        "outputId": "751cbca2-af60-4ce3-cb99-96dcbaa378f4"
      },
      "execution_count": null,
      "outputs": [
        {
          "output_type": "execute_result",
          "data": {
            "text/plain": [
              "tensor([[0.0030, 0.0046, 0.0034, 0.0023],\n",
              "        [0.0022, 0.0049, 0.0035, 0.0034],\n",
              "        [0.0016, 0.0028, 0.0012, 0.0047]])"
            ]
          },
          "metadata": {},
          "execution_count": 48
        }
      ]
    },
    {
      "cell_type": "markdown",
      "source": [
        "### Affine and Symmetric Quantization Schemes"
      ],
      "metadata": {
        "id": "vb5qUkHP8sUE"
      }
    },
    {
      "cell_type": "code",
      "source": [
        "import numpy as np\n",
        "import matplotlib.pyplot as plt\n",
        "\n",
        "\n",
        "def get_symmetric_range(x):\n",
        "  beta = torch.max(x.max(), x.min().abs())\n",
        "  return -beta.item(), beta.item()\n",
        "\n",
        "def get_affine_range(x):\n",
        "  return x.min().item(), x.max().item()\n",
        "\n",
        "def plot(plt, data, scheme):\n",
        "  boundaries = get_affine_range(data) if scheme == 'affine' else get_symmetric_range(data)\n",
        "  a, _, _ = plt.hist(data, density=True, bins=100)\n",
        "  ymin, ymax = np.quantile(a[a>0], [0.25, 0.95])\n",
        "  plt.vlines(x=boundaries, ls='--', colors='purple', ymin=ymin, ymax=ymax)"
      ],
      "metadata": {
        "id": "x8cv_y6f8tT3"
      },
      "execution_count": null,
      "outputs": []
    },
    {
      "cell_type": "code",
      "source": [
        "act =  torch.distributions.pareto.Pareto(1, 10).sample((1, 1024))\n",
        "weights = torch.distributions.normal.Normal(0, 0.12).sample((3, 64, 7, 7)).flatten()\n",
        "\n",
        "fig, axs = plt.subplots(2,2)\n",
        "plot(axs[0, 0], act, 'affine')\n",
        "axs[0, 0].set_title(\"Activation, Affine-Quantized\")\n",
        "\n",
        "plot(axs[0, 1], act, 'symmetric')\n",
        "axs[0, 1].set_title(\"Activation, Symmetric-Quantized\")\n",
        "\n",
        "plot(axs[1, 0], weights, 'affine')\n",
        "axs[1, 0].set_title(\"Weights, Affine-Quantized\")\n",
        "\n",
        "plot(axs[1, 1], weights, 'symmetric')\n",
        "axs[1, 1].set_title(\"Weights, Symmetric-Quantized\")\n",
        "\n",
        "fig.tight_layout()\n",
        "plt.show()"
      ],
      "metadata": {
        "colab": {
          "base_uri": "https://localhost:8080/",
          "height": 486
        },
        "id": "NTMv0kcB8128",
        "outputId": "d40b40e0-c957-408e-8f86-7c45d113ca39"
      },
      "execution_count": null,
      "outputs": [
        {
          "output_type": "display_data",
          "data": {
            "text/plain": [
              "<Figure size 640x480 with 4 Axes>"
            ],
            "image/png": "[encoded data removed]"
          },
          "metadata": {}
        }
      ]
    },
    {
      "cell_type": "code",
      "source": [
        "for qscheme in [torch.per_tensor_affine, torch.per_tensor_symmetric]:\n",
        "  obs = MovingAverageMinMaxObserver(qscheme=qscheme)\n",
        "  obs(inputs)\n",
        "  print(f\"Qscheme: {qscheme} | {obs.calculate_qparams()}\")"
      ],
      "metadata": {
        "colab": {
          "base_uri": "https://localhost:8080/"
        },
        "id": "bej5FWvR-UDK",
        "outputId": "879b1b21-394c-41b8-ab15-dfd311693a51"
      },
      "execution_count": null,
      "outputs": [
        {
          "output_type": "stream",
          "name": "stdout",
          "text": [
            "Qscheme: torch.per_tensor_affine | (tensor([0.0116]), tensor([67], dtype=torch.int32))\n",
            "Qscheme: torch.per_tensor_symmetric | (tensor([0.0171]), tensor([128]))\n"
          ]
        }
      ]
    },
    {
      "cell_type": "markdown",
      "source": [
        "### Per-Tensor and Per-Channel Quantization Schemes"
      ],
      "metadata": {
        "id": "wc4Zd5M99fTo"
      }
    },
    {
      "cell_type": "code",
      "source": [
        "from torch.ao.quantization.observer import MovingAveragePerChannelMinMaxObserver\n",
        "\n",
        "obs = MovingAveragePerChannelMinMaxObserver(ch_axis = 0)  # calculate qparams for all `C` channels separately\n",
        "obs(inputs)\n",
        "print(obs.calculate_qparams())"
      ],
      "metadata": {
        "colab": {
          "base_uri": "https://localhost:8080/"
        },
        "id": "3Dltyo4q9l-4",
        "outputId": "4d74a75c-d5c5-4ad2-cb1e-e6d561ae93b9"
      },
      "execution_count": null,
      "outputs": [
        {
          "output_type": "stream",
          "name": "stdout",
          "text": [
            "(tensor([0.0091, 0.0076, 0.0028]), tensor([ 15, 101,  84], dtype=torch.int32))\n"
          ]
        }
      ]
    },
    {
      "cell_type": "markdown",
      "source": [
        "For weights quantization, symmetric-per-channel quantization provides better accuracies; per-tensor quantization performs poorly, possibly due to high variance in conv weights across channels from batchnorm folding.\n",
        "[https://arxiv.org/abs/2004.09602]"
      ],
      "metadata": {
        "id": "oOd8W97_AAMW"
      }
    },
    {
      "cell_type": "markdown",
      "source": [
        "https://github.com/pytorch/pytorch/blob/748d9d24940cd17938df963456c90fa1a13f3932/torch/ao/quantization/observer.py#L258"
      ],
      "metadata": {
        "id": "XvWTOGgv9gmI"
      }
    },
    {
      "cell_type": "markdown",
      "source": [
        "### Backend Engine"
      ],
      "metadata": {
        "id": "MiBMYYJMBC0A"
      }
    },
    {
      "cell_type": "code",
      "source": [
        "backend = 'fbgemm' #'fbgemm' if x86 else 'qnnpack'\n",
        "qconfig = torch.ao.quantization.get_default_qconfig(backend)\n",
        "torch.backends.quantized.engine = backend"
      ],
      "metadata": {
        "id": "9OgF7U86BDw7"
      },
      "execution_count": null,
      "outputs": []
    },
    {
      "cell_type": "markdown",
      "source": [
        "GPUs - via TensorRT and cuDNN\n",
        "https://pytorch.org/docs/stable/quantization.html#note-for-native-cpu-backends"
      ],
      "metadata": {
        "id": "atxxYA28Bcvz"
      }
    },
    {
      "cell_type": "markdown",
      "source": [
        "### QConfig"
      ],
      "metadata": {
        "id": "Jk-uxMCWBpRl"
      }
    },
    {
      "cell_type": "code",
      "source": [
        "my_qconfig = torch.ao.quantization.QConfig(\n",
        "  activation=MovingAverageMinMaxObserver.with_args(qscheme=torch.per_tensor_affine),\n",
        "  weight=MovingAveragePerChannelMinMaxObserver.with_args(qscheme=torch.qint8))\n",
        "\n",
        "my_qconfig"
      ],
      "metadata": {
        "colab": {
          "base_uri": "https://localhost:8080/"
        },
        "id": "z3xygBpkBqKW",
        "outputId": "be31dafd-49f8-49d7-e1ae-e20cbbe81779"
      },
      "execution_count": null,
      "outputs": [
        {
          "output_type": "execute_result",
          "data": {
            "text/plain": [
              "QConfig(activation=functools.partial(<class 'torch.ao.quantization.observer.MovingAverageMinMaxObserver'>, qscheme=torch.per_tensor_affine){}, weight=functools.partial(<class 'torch.ao.quantization.observer.MovingAveragePerChannelMinMaxObserver'>, qscheme=torch.qint8){})"
            ]
          },
          "metadata": {},
          "execution_count": 54
        }
      ]
    },
    {
      "cell_type": "markdown",
      "source": [
        "### Eager Mode v/s FX Graph Mode"
      ],
      "metadata": {
        "id": "8mh00mEaV4wy"
      }
    },
    {
      "cell_type": "markdown",
      "source": [
        "*    Eager Mode Quantization is a beta feature. User needs to do fusion and specify where quantization and dequantization happens manually, also it only supports modules and not functionals.\n",
        "*    FX Graph Mode Quantization is a new automated quantization framework in PyTorch, and currently it’s a prototype feature. It improves upon Eager Mode Quantization by adding support for functionals and automating the quantization process, although people might need to refactor the model to make the model compatible with FX Graph Mode Quantization (symbolically traceable with torch.fx)\n",
        "\n",
        "\n",
        "\n",
        "\n"
      ],
      "metadata": {
        "id": "ZLkEva02V_Co"
      }
    },
    {
      "cell_type": "markdown",
      "source": [
        "FX Graph Mode automatically fuses eligible modules, inserts Quant/DeQuant stubs, calibrates the model and returns a quantized module - all in two method calls - but only for networks that are symbolic traceable. The examples below contain the calls using Eager Mode and FX Graph Mode for comparison.\n",
        "https://pytorch.org/docs/stable/fx.html#torch.fx.symbolic_trace"
      ],
      "metadata": {
        "id": "nWjnQot3Wzg-"
      }
    },
    {
      "cell_type": "code",
      "source": [
        "def f(a, b):\n",
        "    if b == True:\n",
        "        return a\n",
        "    else:\n",
        "        return a * 2"
      ],
      "metadata": {
        "id": "el4bJKgIV6y7"
      },
      "execution_count": null,
      "outputs": []
    },
    {
      "cell_type": "code",
      "source": [
        "f = torch.fx.symbolic_trace(f, concrete_args={'b': False})\n",
        "assert f(3, False) == 6"
      ],
      "metadata": {
        "id": "PkVCexZefVIX"
      },
      "execution_count": null,
      "outputs": []
    },
    {
      "cell_type": "markdown",
      "source": [
        "https://pytorch.org/docs/stable/fx.html"
      ],
      "metadata": {
        "id": "Temh_oTBfjE8"
      }
    },
    {
      "cell_type": "markdown",
      "source": [
        "### Post-Training Dynamic/Weight-only Quantization"
      ],
      "metadata": {
        "id": "lfxsmoBtXOgb"
      }
    },
    {
      "cell_type": "markdown",
      "source": [
        "Here the model’s weights are pre-quantized; the activations are quantized on-the-fly (“dynamic”) during inference. The simplest of all approaches, it has a one line API call in torch.quantization.quantize_dynamic. Currently only Linear and Recurrent (LSTM, GRU, RNN) layers are supported for dynamic quantization\n",
        "\n",
        "\n",
        "\n",
        "*   Can result in higher accuracies since the clipping range is exactly calibrated for each input\n",
        "*   Calibrating and quantizing the activations at each layer during runtime can add to the compute overhead\n",
        "\n"
      ],
      "metadata": {
        "id": "APgH-cqYdx6O"
      }
    },
    {
      "cell_type": "code",
      "source": [
        "from torch import nn\n",
        "\n",
        "# toy model\n",
        "m = nn.Sequential(\n",
        "  nn.Conv2d(2, 64, (8,)),\n",
        "  nn.ReLU(),\n",
        "  nn.Linear(16, 10),\n",
        "  nn.LSTM(10, 10))\n",
        "\n",
        "m.eval()"
      ],
      "metadata": {
        "colab": {
          "base_uri": "https://localhost:8080/"
        },
        "id": "CqIHv8efWt2l",
        "outputId": "cf19e33e-f5b8-4a69-d449-55130505abc7"
      },
      "execution_count": null,
      "outputs": [
        {
          "output_type": "execute_result",
          "data": {
            "text/plain": [
              "Sequential(\n",
              "  (0): Conv2d(2, 64, kernel_size=(8,), stride=(1, 1))\n",
              "  (1): ReLU()\n",
              "  (2): Linear(in_features=16, out_features=10, bias=True)\n",
              "  (3): LSTM(10, 10)\n",
              ")"
            ]
          },
          "metadata": {},
          "execution_count": 58
        }
      ]
    },
    {
      "cell_type": "code",
      "source": [
        "## EAGER MODE\n",
        "from torch.ao.quantization import quantize_dynamic\n",
        "\n",
        "model_quantized = quantize_dynamic(\n",
        "    model=m, qconfig_spec={nn.LSTM, nn.Linear}, dtype=torch.qint8, inplace=False\n",
        ")"
      ],
      "metadata": {
        "id": "2jhhTCrvXYv4"
      },
      "execution_count": null,
      "outputs": []
    },
    {
      "cell_type": "code",
      "source": [
        "## FX MODE\n",
        "from torch.ao.quantization import quantize_fx\n",
        "\n",
        "example_inputs = (torch.randn(1, 3, 224, 224),)\n",
        "qconfig_dict = {\"\": torch.ao.quantization.default_dynamic_qconfig}  # An empty key denotes the default applied to all modules\n",
        "model_prepared = quantize_fx.prepare_fx(m, qconfig_dict, example_inputs)\n",
        "model_quantized = quantize_fx.convert_fx(model_prepared)"
      ],
      "metadata": {
        "colab": {
          "base_uri": "https://localhost:8080/"
        },
        "id": "PC5aJPPgXaO_",
        "outputId": "4b7fb87c-c3f6-4463-c6db-86a069b29bf1"
      },
      "execution_count": null,
      "outputs": [
        {
          "output_type": "stream",
          "name": "stderr",
          "text": [
            "/usr/local/lib/python3.10/dist-packages/torch/ao/quantization/fx/prepare.py:1536: UserWarning: Passing a QConfig dictionary to prepare is deprecated and will not be supported in a future version. Please pass in a QConfigMapping instead.\n",
            "  warnings.warn(\n",
            "/usr/local/lib/python3.10/dist-packages/torch/ao/nn/quantized/reference/modules/rnn.py:320: UserWarning: To copy construct from a tensor, it is recommended to use sourceTensor.clone().detach() or sourceTensor.clone().detach().requires_grad_(True), rather than torch.tensor(sourceTensor).\n",
            "  torch.tensor(weight_qparams[\"scale\"], dtype=torch.float, device=device))\n",
            "/usr/local/lib/python3.10/dist-packages/torch/ao/nn/quantized/reference/modules/rnn.py:323: UserWarning: To copy construct from a tensor, it is recommended to use sourceTensor.clone().detach() or sourceTensor.clone().detach().requires_grad_(True), rather than torch.tensor(sourceTensor).\n",
            "  torch.tensor(weight_qparams[\"zero_point\"], dtype=torch.int, device=device))\n"
          ]
        }
      ]
    },
    {
      "cell_type": "markdown",
      "source": [
        "### Post-Training Static Quantization (PTQ)"
      ],
      "metadata": {
        "id": "a_Dd8gxLaNmy"
      }
    },
    {
      "cell_type": "markdown",
      "source": [
        "PTQ also pre-quantizes model weights but instead of calibrating activations on-the-fly, the clipping range is pre-calibrated and fixed (“static”) using validation data. Activations stay in quantized precision between operations during inference. About 100 mini-batches of representative data are sufficient to calibrate the observers\n",
        "\n",
        "*   Static quantization has faster inference than dynamic quantization because it eliminates the float<->int conversion costs between layers\n",
        "*   Static quantized models may need regular re-calibration to stay robust against distribution-drift\n",
        "\n"
      ],
      "metadata": {
        "id": "bCZcZdAIdTzg"
      }
    },
    {
      "cell_type": "code",
      "source": [
        "# Static quantization of a model consists of the following steps:\n",
        "\n",
        "#     Fuse modules\n",
        "#     Insert Quant/DeQuant Stubs\n",
        "#     Prepare the fused module (insert observers before and after layers)\n",
        "#     Calibrate the prepared module (pass it representative data)\n",
        "#     Convert the calibrated module (replace with quantized version)\n",
        "\n",
        "import torch\n",
        "from torch import nn\n",
        "import copy\n",
        "\n",
        "backend = \"fbgemm\"  # running on a x86 CPU. Use \"qnnpack\" if running on ARM.\n",
        "\n",
        "model = nn.Sequential(\n",
        "     nn.Conv2d(2, 64, 3),\n",
        "     nn.ReLU(),\n",
        "     nn.Conv2d(64, 128, 3),\n",
        "     nn.ReLU()\n",
        ")"
      ],
      "metadata": {
        "id": "3v3vGj4WaQYV"
      },
      "execution_count": null,
      "outputs": []
    },
    {
      "cell_type": "code",
      "source": [
        "## EAGER MODE\n",
        "m = copy.deepcopy(model)\n",
        "m.eval()\n",
        "\n",
        "\"\"\"Fuse\n",
        "- Inplace fusion replaces the first module in the sequence with the fused module, and the rest with identity modules\n",
        "\"\"\"\n",
        "torch.ao.quantization.fuse_modules(m, ['0','1'], inplace=True) # fuse first Conv-ReLU pair\n",
        "torch.ao.quantization.fuse_modules(m, ['2','3'], inplace=True) # fuse second Conv-ReLU pair\n",
        "\n",
        "\"\"\"Insert stubs\"\"\"\n",
        "m = nn.Sequential(torch.ao.quantization.QuantStub(),\n",
        "                  *m,\n",
        "                  torch.ao.quantization.DeQuantStub())\n",
        "\n",
        "\"\"\"Prepare\"\"\"\n",
        "m.qconfig = torch.ao.quantization.get_default_qconfig(backend)\n",
        "torch.ao.quantization.prepare(m, inplace=True)\n",
        "\n",
        "\"\"\"Calibrate\n",
        "- This example uses random data for convenience. Use representative (validation) data instead.\n",
        "\"\"\"\n",
        "with torch.inference_mode():\n",
        "  for _ in range(10):\n",
        "    x = torch.rand(1, 2, 28, 28)\n",
        "    m(x)\n",
        "\n",
        "\"\"\"Convert\"\"\"\n",
        "torch.ao.quantization.convert(m, inplace=True)\n",
        "\n",
        "\"\"\"Check\"\"\"\n",
        "print(m[1].weight().element_size()) # 1 byte instead of 4 bytes for FP32"
      ],
      "metadata": {
        "colab": {
          "base_uri": "https://localhost:8080/"
        },
        "id": "kgNoxdlneyuM",
        "outputId": "b3d29694-ec6d-49f8-85f2-958161e3a788"
      },
      "execution_count": null,
      "outputs": [
        {
          "output_type": "stream",
          "name": "stderr",
          "text": [
            "/usr/local/lib/python3.10/dist-packages/torch/ao/quantization/observer.py:214: UserWarning: Please use quant_min and quant_max to specify the range for observers.                     reduce_range will be deprecated in a future release of PyTorch.\n",
            "  warnings.warn(\n"
          ]
        },
        {
          "output_type": "stream",
          "name": "stdout",
          "text": [
            "1\n"
          ]
        }
      ]
    },
    {
      "cell_type": "code",
      "source": [
        "m[1].weight()"
      ],
      "metadata": {
        "colab": {
          "base_uri": "https://localhost:8080/"
        },
        "id": "wmyPkO1Bi-Tw",
        "outputId": "9e0fb1c5-de2d-4678-8ac1-cf0f93d89c82"
      },
      "execution_count": null,
      "outputs": [
        {
          "output_type": "execute_result",
          "data": {
            "text/plain": [
              "tensor([[[[-0.1192, -0.0650,  0.1987],\n",
              "          [ 0.2294,  0.1680,  0.2276],\n",
              "          [ 0.0434, -0.1319, -0.2222]],\n",
              "\n",
              "         [[-0.0145,  0.0289, -0.1788],\n",
              "          [ 0.0668,  0.0289,  0.1048],\n",
              "          [ 0.0903, -0.0939, -0.0596]]],\n",
              "\n",
              "\n",
              "        [[[ 0.1885,  0.0091,  0.1577],\n",
              "          [-0.1613,  0.2030,  0.2048],\n",
              "          [-0.0816,  0.1359, -0.0072]],\n",
              "\n",
              "         [[ 0.2302,  0.0888, -0.1522],\n",
              "          [-0.1812, -0.0526,  0.2066],\n",
              "          [-0.1341,  0.0127, -0.1975]]],\n",
              "\n",
              "\n",
              "        [[[ 0.2119, -0.0054, -0.1419],\n",
              "          [ 0.0647, -0.0377,  0.0431],\n",
              "          [ 0.1329,  0.0808,  0.0287]],\n",
              "\n",
              "         [[-0.1455, -0.1131, -0.1113],\n",
              "          [ 0.1473,  0.2191,  0.0503],\n",
              "          [-0.0521,  0.1311, -0.2299]]],\n",
              "\n",
              "\n",
              "        ...,\n",
              "\n",
              "\n",
              "        [[[ 0.0789, -0.2133,  0.1058],\n",
              "          [-0.1506, -0.2295, -0.0287],\n",
              "          [-0.1470, -0.1524,  0.1506]],\n",
              "\n",
              "         [[-0.1255,  0.1345,  0.0323],\n",
              "          [ 0.0376, -0.0197, -0.0574],\n",
              "          [-0.1219, -0.2133,  0.1542]]],\n",
              "\n",
              "\n",
              "        [[[-0.1906,  0.1122, -0.0428],\n",
              "          [-0.1835,  0.1318,  0.2263],\n",
              "          [-0.0820, -0.1354, -0.2031]],\n",
              "\n",
              "         [[ 0.1942, -0.1960, -0.0944],\n",
              "          [ 0.0053,  0.1247, -0.0998],\n",
              "          [ 0.0855,  0.2067, -0.2085]]],\n",
              "\n",
              "\n",
              "        [[[ 0.0390, -0.1562,  0.2254],\n",
              "          [-0.0692,  0.0621,  0.1721],\n",
              "          [ 0.1491,  0.1686, -0.0941]],\n",
              "\n",
              "         [[ 0.0550, -0.0053,  0.1455],\n",
              "          [-0.0035, -0.0532, -0.1828],\n",
              "          [ 0.1242,  0.1970,  0.0319]]]], size=(64, 2, 3, 3),\n",
              "       dtype=torch.qint8, quantization_scheme=torch.per_channel_affine,\n",
              "       scale=tensor([0.0018, 0.0018, 0.0018, 0.0018, 0.0018, 0.0018, 0.0017, 0.0018, 0.0018,\n",
              "        0.0017, 0.0018, 0.0018, 0.0017, 0.0018, 0.0018, 0.0018, 0.0017, 0.0016,\n",
              "        0.0017, 0.0015, 0.0018, 0.0018, 0.0018, 0.0016, 0.0017, 0.0018, 0.0018,\n",
              "        0.0018, 0.0018, 0.0018, 0.0018, 0.0017, 0.0016, 0.0018, 0.0018, 0.0017,\n",
              "        0.0018, 0.0017, 0.0018, 0.0018, 0.0018, 0.0018, 0.0017, 0.0016, 0.0018,\n",
              "        0.0018, 0.0015, 0.0017, 0.0015, 0.0018, 0.0018, 0.0018, 0.0018, 0.0018,\n",
              "        0.0018, 0.0017, 0.0018, 0.0017, 0.0018, 0.0017, 0.0015, 0.0018, 0.0018,\n",
              "        0.0018], dtype=torch.float64),\n",
              "       zero_point=tensor([0, 0, 0, 0, 0, 0, 0, 0, 0, 0, 0, 0, 0, 0, 0, 0, 0, 0, 0, 0, 0, 0, 0, 0,\n",
              "        0, 0, 0, 0, 0, 0, 0, 0, 0, 0, 0, 0, 0, 0, 0, 0, 0, 0, 0, 0, 0, 0, 0, 0,\n",
              "        0, 0, 0, 0, 0, 0, 0, 0, 0, 0, 0, 0, 0, 0, 0, 0]),\n",
              "       axis=0)"
            ]
          },
          "metadata": {},
          "execution_count": 5
        }
      ]
    },
    {
      "cell_type": "code",
      "source": [
        "## FX GRAPH\n",
        "from torch.ao.quantization import quantize_fx\n",
        "\n",
        "m = copy.deepcopy(model)\n",
        "m.eval()\n",
        "qconfig_dict = {\"\": torch.ao.quantization.get_default_qconfig(backend)}\n",
        "\n",
        "# Prepare\n",
        "example_inputs = (torch.randn(1, 3, 224, 224),)\n",
        "model_prepared = quantize_fx.prepare_fx(m, qconfig_dict, example_inputs)\n",
        "\n",
        "# Calibrate - Use representative (validation) data.\n",
        "with torch.inference_mode():\n",
        "  for _ in range(10):\n",
        "    x = torch.rand(1, 2, 28, 28)\n",
        "    model_prepared(x)\n",
        "\n",
        "# quantize\n",
        "model_quantized = quantize_fx.convert_fx(model_prepared)"
      ],
      "metadata": {
        "colab": {
          "base_uri": "https://localhost:8080/"
        },
        "id": "L8a-ihuEe13L",
        "outputId": "b78dca5f-ab3e-4583-d08d-98288744b807"
      },
      "execution_count": null,
      "outputs": [
        {
          "output_type": "stream",
          "name": "stderr",
          "text": [
            "/usr/local/lib/python3.10/dist-packages/torch/ao/quantization/fx/prepare.py:1536: UserWarning: Passing a QConfig dictionary to prepare is deprecated and will not be supported in a future version. Please pass in a QConfigMapping instead.\n",
            "  warnings.warn(\n",
            "/usr/local/lib/python3.10/dist-packages/torch/ao/quantization/observer.py:214: UserWarning: Please use quant_min and quant_max to specify the range for observers.                     reduce_range will be deprecated in a future release of PyTorch.\n",
            "  warnings.warn(\n"
          ]
        }
      ]
    },
    {
      "cell_type": "markdown",
      "source": [
        "### SENSITIVITY ANALYSIS"
      ],
      "metadata": {
        "id": "wT-qggJdacLr"
      }
    },
    {
      "cell_type": "code",
      "source": [
        "# ONE-AT-A-TIME SENSITIVITY ANALYSIS\n",
        "\n",
        "for quantized_layer, _ in model.named_modules():\n",
        "  print(\"Only quantizing layer: \", quantized_layer)\n",
        "\n",
        "  # The module_name key allows module-specific qconfigs.\n",
        "  qconfig_dict = {\"\": None,\n",
        "  \"module_name\":[(quantized_layer, torch.quantization.get_default_qconfig(backend))]}\n",
        "\n",
        "  example_inputs = (torch.randn(1, 3, 224, 224),)\n",
        "  model_prepared = quantize_fx.prepare_fx(model, qconfig_dict, example_inputs)\n",
        "  # calibrate\n",
        "  model_quantized = quantize_fx.convert_fx(model_prepared)\n",
        "  # evaluate(model)"
      ],
      "metadata": {
        "colab": {
          "base_uri": "https://localhost:8080/"
        },
        "id": "tD294D_Tac3K",
        "outputId": "3bec1cd8-b4e9-461e-c660-5fe379be1179"
      },
      "execution_count": null,
      "outputs": [
        {
          "output_type": "stream",
          "name": "stdout",
          "text": [
            "Only quantizing layer:  \n",
            "Only quantizing layer:  0\n",
            "Only quantizing layer:  1\n",
            "Only quantizing layer:  2\n",
            "Only quantizing layer:  3\n"
          ]
        }
      ]
    },
    {
      "cell_type": "markdown",
      "source": [
        " Numeric Suite - https://pytorch.org/tutorials/prototype/numeric_suite_tutorial.html"
      ],
      "metadata": {
        "id": "9dXAIoKwbCFl"
      }
    },
    {
      "cell_type": "code",
      "source": [
        "import numpy as np\n",
        "import torch\n",
        "import torch.nn as nn\n",
        "import torchvision\n",
        "from torchvision import datasets\n",
        "import torchvision.transforms as transforms\n",
        "import os\n",
        "import torch.ao.quantization\n",
        "import torch.ao.ns._numeric_suite as ns\n",
        "from torch.ao.quantization import (\n",
        "    default_eval_fn,\n",
        "    default_qconfig,\n",
        "    quantize,\n",
        ")"
      ],
      "metadata": {
        "id": "N7FfZtQdbV90"
      },
      "execution_count": null,
      "outputs": []
    },
    {
      "cell_type": "code",
      "source": [
        "float_model = torchvision.models.quantization.resnet18(pretrained=True, quantize=False)\n",
        "float_model.to('cpu')\n",
        "float_model.eval()\n",
        "float_model.fuse_model()\n",
        "float_model.qconfig = torch.quantization.default_qconfig\n",
        "img_data = (torch.rand(2, 3, 10, 10, dtype=torch.float), torch.randint(0, 1, (2,), dtype=torch.long))\n",
        "qmodel = quantize(float_model, default_eval_fn, [[img_data]], inplace=False)"
      ],
      "metadata": {
        "id": "jm-ESg6obWWp"
      },
      "execution_count": null,
      "outputs": []
    },
    {
      "cell_type": "code",
      "source": [
        "def compute_error(x, y):\n",
        "    Ps = torch.norm(x)\n",
        "    Pn = torch.norm(x - y)\n",
        "    return 20 * torch.log10(Ps/Pn)\n",
        "\n",
        "wt_compare_dict = ns.compare_weights(float_model.state_dict(), qmodel.state_dict())\n",
        "for key in wt_compare_dict:\n",
        "    print(key, compute_error(wt_compare_dict[key]['float'], wt_compare_dict[key]['quantized'].dequantize()))\n",
        "\n",
        "print(\"---\")\n",
        "\n",
        "act_compare_dict = ns.compare_model_outputs(float_model, qmodel, img_data[0])\n",
        "for key in act_compare_dict:\n",
        "    print(key, compute_error(act_compare_dict[key]['float'][0], act_compare_dict[key]['quantized'][0].dequantize()))\n"
      ],
      "metadata": {
        "colab": {
          "base_uri": "https://localhost:8080/"
        },
        "id": "QKZEOpfPbMNu",
        "outputId": "4c74f046-1594-4f5b-cfd7-38b51f329a1c"
      },
      "execution_count": null,
      "outputs": [
        {
          "output_type": "stream",
          "name": "stdout",
          "text": [
            "conv1.weight tensor(31.6638)\n",
            "layer1.0.conv1.weight tensor(30.6450)\n",
            "layer1.0.conv2.weight tensor(31.1528)\n",
            "layer1.1.conv1.weight tensor(32.1438)\n",
            "layer1.1.conv2.weight tensor(31.2477)\n",
            "layer2.0.conv1.weight tensor(30.9890)\n",
            "layer2.0.conv2.weight tensor(28.8233)\n",
            "layer2.0.downsample.0.weight tensor(31.5558)\n",
            "layer2.1.conv1.weight tensor(30.7668)\n",
            "layer2.1.conv2.weight tensor(28.4516)\n",
            "layer3.0.conv1.weight tensor(30.9247)\n",
            "layer3.0.conv2.weight tensor(26.6841)\n",
            "layer3.0.downsample.0.weight tensor(28.7825)\n",
            "layer3.1.conv1.weight tensor(28.9707)\n",
            "layer3.1.conv2.weight tensor(25.6784)\n",
            "layer4.0.conv1.weight tensor(26.8495)\n",
            "layer4.0.conv2.weight tensor(25.8394)\n",
            "layer4.0.downsample.0.weight tensor(28.6355)\n",
            "layer4.1.conv1.weight tensor(26.8758)\n",
            "layer4.1.conv2.weight tensor(28.4319)\n",
            "fc._packed_params._packed_params tensor(32.6505)\n",
            "---\n",
            "conv1.stats tensor(37.4411, grad_fn=<MulBackward0>)\n",
            "layer1.0.conv1.stats tensor(29.6032, grad_fn=<MulBackward0>)\n",
            "layer1.0.conv2.stats tensor(28.3895, grad_fn=<MulBackward0>)\n",
            "layer1.0.add_relu.stats tensor(31.8408, grad_fn=<MulBackward0>)\n",
            "layer1.1.conv1.stats tensor(29.1966, grad_fn=<MulBackward0>)\n",
            "layer1.1.conv2.stats tensor(25.3061, grad_fn=<MulBackward0>)\n",
            "layer1.1.add_relu.stats tensor(28.9989, grad_fn=<MulBackward0>)\n",
            "layer2.0.conv1.stats tensor(26.2547, grad_fn=<MulBackward0>)\n",
            "layer2.0.conv2.stats tensor(26.3159, grad_fn=<MulBackward0>)\n",
            "layer2.0.downsample.0.stats tensor(21.8628, grad_fn=<MulBackward0>)\n",
            "layer2.0.add_relu.stats tensor(25.7588, grad_fn=<MulBackward0>)\n",
            "layer2.1.conv1.stats tensor(25.3852, grad_fn=<MulBackward0>)\n",
            "layer2.1.conv2.stats tensor(24.6284, grad_fn=<MulBackward0>)\n",
            "layer2.1.add_relu.stats tensor(25.7878, grad_fn=<MulBackward0>)\n",
            "layer3.0.conv1.stats tensor(26.6457, grad_fn=<MulBackward0>)\n",
            "layer3.0.conv2.stats tensor(26.6580, grad_fn=<MulBackward0>)\n",
            "layer3.0.downsample.0.stats tensor(24.8511, grad_fn=<MulBackward0>)\n",
            "layer3.0.add_relu.stats tensor(24.7550, grad_fn=<MulBackward0>)\n",
            "layer3.1.conv1.stats tensor(29.9616, grad_fn=<MulBackward0>)\n",
            "layer3.1.conv2.stats tensor(25.6695, grad_fn=<MulBackward0>)\n",
            "layer3.1.add_relu.stats tensor(25.3829, grad_fn=<MulBackward0>)\n",
            "layer4.0.conv1.stats tensor(27.0312, grad_fn=<MulBackward0>)\n",
            "layer4.0.conv2.stats tensor(27.1815, grad_fn=<MulBackward0>)\n",
            "layer4.0.downsample.0.stats tensor(22.7665, grad_fn=<MulBackward0>)\n",
            "layer4.0.add_relu.stats tensor(21.4375, grad_fn=<MulBackward0>)\n",
            "layer4.1.conv1.stats tensor(27.0220, grad_fn=<MulBackward0>)\n",
            "layer4.1.conv2.stats tensor(18.7704, grad_fn=<MulBackward0>)\n",
            "layer4.1.add_relu.stats tensor(19.1204, grad_fn=<MulBackward0>)\n",
            "fc.stats tensor(21.6713, grad_fn=<MulBackward0>)\n",
            "quant.stats tensor(48.0328)\n"
          ]
        }
      ]
    },
    {
      "cell_type": "code",
      "source": [
        "import matplotlib.pyplot as plt\n",
        "\n",
        "f = wt_compare_dict['conv1.weight']['float'].flatten()\n",
        "plt.hist(f, bins = 100)\n",
        "\n",
        "q = wt_compare_dict['conv1.weight']['quantized'].flatten().dequantize()\n",
        "plt.hist(q, bins = 100)\n",
        "plt.title(\"Quantized model weights of conv1\")\n",
        "plt.show()"
      ],
      "metadata": {
        "colab": {
          "base_uri": "https://localhost:8080/",
          "height": 452
        },
        "id": "eYUaWoAyeL7a",
        "outputId": "d6706d68-1d63-42f4-ee3f-05a519ad46b9"
      },
      "execution_count": null,
      "outputs": [
        {
          "output_type": "display_data",
          "data": {
            "text/plain": [
              "<Figure size 640x480 with 1 Axes>"
            ],
            "image/png": "[encoded data removed]"
          },
          "metadata": {}
        }
      ]
    },
    {
      "cell_type": "markdown",
      "source": [
        "### RECOMMENDATIONS FOR YOUR WORKFLOW"
      ],
      "metadata": {
        "id": "_YQ7S0iIb8cz"
      }
    },
    {
      "cell_type": "markdown",
      "source": [
        "![](https://drive.google.com/uc?export=view&id=1ij7GElwiKFNmJ221aKpkDRwMj5i-2DLh)"
      ],
      "metadata": {
        "id": "P-cxT3iwb9jU"
      }
    },
    {
      "cell_type": "markdown",
      "source": [
        "\n",
        "\n",
        "*   Large (10M+ parameters) models are more robust to quantization error\n",
        "*   Quantizing a model from a FP32 checkpoint provides better accuracy than training an INT8 model from scratch\n",
        "*   Dynamic Quantization is an easy first step, especially if your model has many Linear or Recurrent layers\n",
        "*   Use symmetric-per-channel quantization with MinMax observers for quantizing weights. Use affine-per-tensor quantization with MovingAverageMinMax observers for quantizing activations\n",
        "*   Use metrics like SQNR to identify which layers are most suscpetible to quantization error. Turn off quantization on these layers"
      ],
      "metadata": {
        "id": "vBbyE61acqr6"
      }
    },
    {
      "cell_type": "markdown",
      "source": [
        "Eager mode https://pytorch.org/docs/stable/quantization.html#eager-mode-quantization\n",
        "\n",
        "\n",
        "\n",
        "*   https://pytorch.org/docs/stable/quantization.html#post-training-dynamic-quantization\n",
        "*   https://pytorch.org/docs/stable/quantization.html#post-training-static-quantization\n",
        "\n",
        "\n",
        "FX Graph https://pytorch.org/docs/stable/quantization.html#prototype-fx-graph-mode-quantization\n",
        "\n",
        "\n",
        "\n",
        "*   https://pytorch.org/tutorials/prototype/fx_graph_mode_ptq_static.html\n",
        "*   https://pytorch.org/tutorials/prototype/fx_graph_mode_ptq_dynamic.html\n",
        "\n",
        "\n",
        "\n"
      ],
      "metadata": {
        "id": "dZkMfDNCp9f1"
      }
    },
    {
      "cell_type": "markdown",
      "source": [
        "### Neural Network Compression Framework (NNCF)"
      ],
      "metadata": {
        "id": "BI8kSIybQcEQ"
      }
    },
    {
      "cell_type": "code",
      "source": [
        "!git clone https://github.com/openvinotoolkit/nncf"
      ],
      "metadata": {
        "id": "P7q1Gh6YQfhu",
        "colab": {
          "base_uri": "https://localhost:8080/"
        },
        "outputId": "29be0508-a8aa-47b6-fb70-b4c415adb0bf"
      },
      "execution_count": null,
      "outputs": [
        {
          "output_type": "stream",
          "name": "stdout",
          "text": [
            "Cloning into 'nncf'...\n",
            "remote: Enumerating objects: 47284, done.\u001b[K\n",
            "remote: Counting objects: 100% (6170/6170), done.\u001b[K\n",
            "remote: Compressing objects: 100% (2248/2248), done.\u001b[K\n",
            "remote: Total 47284 (delta 3294), reused 5398 (delta 2909), pack-reused 41114\u001b[K\n",
            "Receiving objects: 100% (47284/47284), 39.55 MiB | 26.35 MiB/s, done.\n",
            "Resolving deltas: 100% (31350/31350), done.\n",
            "Filtering content: 100% (142/142), 32.00 MiB | 18.07 MiB/s, done.\n"
          ]
        }
      ]
    },
    {
      "cell_type": "code",
      "source": [
        "# %%capture\n",
        "%cd nncf\n",
        "!pip install .[torch]\n",
        "%cd /content"
      ],
      "metadata": {
        "id": "7inenttGuOti",
        "colab": {
          "base_uri": "https://localhost:8080/",
          "height": 1000
        },
        "outputId": "d08f9842-921d-4e6f-ec83-5a0373e6553f"
      },
      "execution_count": null,
      "outputs": [
        {
          "output_type": "stream",
          "name": "stdout",
          "text": [
            "/content/nncf\n",
            "Processing /content/nncf\n",
            "  Preparing metadata (setup.py) ... \u001b[?25l\u001b[?25hdone\n",
            "Collecting pymoo@ git+https://github.com/anyoptimization/pymoo.git@695cb26923903f872c7256a9013609769f3cc2bd (from nncf==2.5.0.dev0+9c30388f)\n",
            "  Cloning https://github.com/anyoptimization/pymoo.git (to revision 695cb26923903f872c7256a9013609769f3cc2bd) to /tmp/pip-install-bhxstqg6/pymoo_e66377a95ce74813841ab1a8bb972ab7\n",
            "  Running command git clone --filter=blob:none --quiet https://github.com/anyoptimization/pymoo.git /tmp/pip-install-bhxstqg6/pymoo_e66377a95ce74813841ab1a8bb972ab7\n",
            "  Running command git rev-parse -q --verify 'sha^695cb26923903f872c7256a9013609769f3cc2bd'\n",
            "  Running command git fetch -q https://github.com/anyoptimization/pymoo.git 695cb26923903f872c7256a9013609769f3cc2bd\n",
            "  Running command git checkout -q 695cb26923903f872c7256a9013609769f3cc2bd\n",
            "  Resolved https://github.com/anyoptimization/pymoo.git to commit 695cb26923903f872c7256a9013609769f3cc2bd\n",
            "  Preparing metadata (setup.py) ... \u001b[?25l\u001b[?25hdone\n",
            "Requirement already satisfied: jsonschema>=3.2.0 in /usr/local/lib/python3.10/dist-packages (from nncf==2.5.0.dev0+9c30388f) (4.19.0)\n",
            "Collecting jstyleson>=0.0.2 (from nncf==2.5.0.dev0+9c30388f)\n",
            "  Downloading jstyleson-0.0.2.tar.gz (2.0 kB)\n",
            "  Preparing metadata (setup.py) ... \u001b[?25l\u001b[?25hdone\n",
            "Requirement already satisfied: natsort>=7.1.0 in /usr/local/lib/python3.10/dist-packages (from nncf==2.5.0.dev0+9c30388f) (8.4.0)\n",
            "Collecting networkx<=2.8.2,>=2.6 (from nncf==2.5.0.dev0+9c30388f)\n",
            "  Downloading networkx-2.8.2-py3-none-any.whl (2.0 MB)\n",
            "\u001b[2K     \u001b[90m━━━━━━━━━━━━━━━━━━━━━━━━━━━━━━━━━━━━━━━━\u001b[0m \u001b[32m2.0/2.0 MB\u001b[0m \u001b[31m8.5 MB/s\u001b[0m eta \u001b[36m0:00:00\u001b[0m\n",
            "\u001b[?25hCollecting ninja<1.11,>=1.10.0.post2 (from nncf==2.5.0.dev0+9c30388f)\n",
            "  Downloading ninja-1.10.2.4-py2.py3-none-manylinux_2_5_x86_64.manylinux1_x86_64.whl (120 kB)\n",
            "\u001b[2K     \u001b[90m━━━━━━━━━━━━━━━━━━━━━━━━━━━━━━━━━━━━━━\u001b[0m \u001b[32m120.7/120.7 kB\u001b[0m \u001b[31m13.4 MB/s\u001b[0m eta \u001b[36m0:00:00\u001b[0m\n",
            "\u001b[?25hRequirement already satisfied: numpy<1.25,>=1.19.1 in /usr/local/lib/python3.10/dist-packages (from nncf==2.5.0.dev0+9c30388f) (1.23.5)\n",
            "Collecting openvino-telemetry>=2023.1.1 (from nncf==2.5.0.dev0+9c30388f)\n",
            "  Downloading openvino_telemetry-2023.1.1-py3-none-any.whl (21 kB)\n",
            "Requirement already satisfied: packaging>=20.0 in /usr/local/lib/python3.10/dist-packages (from nncf==2.5.0.dev0+9c30388f) (23.1)\n",
            "Requirement already satisfied: pandas<2.1,>=1.1.5 in /usr/local/lib/python3.10/dist-packages (from nncf==2.5.0.dev0+9c30388f) (1.5.3)\n",
            "Requirement already satisfied: psutil in /usr/local/lib/python3.10/dist-packages (from nncf==2.5.0.dev0+9c30388f) (5.9.5)\n",
            "Requirement already satisfied: pydot>=1.4.1 in /usr/local/lib/python3.10/dist-packages (from nncf==2.5.0.dev0+9c30388f) (1.4.2)\n",
            "Collecting pyparsing<3.0 (from nncf==2.5.0.dev0+9c30388f)\n",
            "  Downloading pyparsing-2.4.7-py2.py3-none-any.whl (67 kB)\n",
            "\u001b[2K     \u001b[90m━━━━━━━━━━━━━━━━━━━━━━━━━━━━━━━━━━━━━━━━\u001b[0m \u001b[32m67.8/67.8 kB\u001b[0m \u001b[31m9.2 MB/s\u001b[0m eta \u001b[36m0:00:00\u001b[0m\n",
            "\u001b[?25hRequirement already satisfied: scikit-learn>=0.24.0 in /usr/local/lib/python3.10/dist-packages (from nncf==2.5.0.dev0+9c30388f) (1.2.2)\n",
            "Requirement already satisfied: scipy<1.11,>=1.3.2 in /usr/local/lib/python3.10/dist-packages (from nncf==2.5.0.dev0+9c30388f) (1.10.1)\n",
            "Collecting texttable>=1.6.3 (from nncf==2.5.0.dev0+9c30388f)\n",
            "  Downloading texttable-1.6.7-py2.py3-none-any.whl (10 kB)\n",
            "Requirement already satisfied: tqdm>=4.54.1 in /usr/local/lib/python3.10/dist-packages (from nncf==2.5.0.dev0+9c30388f) (4.66.1)\n",
            "Requirement already satisfied: torch<2.1,>=1.13.0 in /usr/local/lib/python3.10/dist-packages (from nncf==2.5.0.dev0+9c30388f) (2.0.1+cu118)\n",
            "Requirement already satisfied: attrs>=22.2.0 in /usr/local/lib/python3.10/dist-packages (from jsonschema>=3.2.0->nncf==2.5.0.dev0+9c30388f) (23.1.0)\n",
            "Requirement already satisfied: jsonschema-specifications>=2023.03.6 in /usr/local/lib/python3.10/dist-packages (from jsonschema>=3.2.0->nncf==2.5.0.dev0+9c30388f) (2023.7.1)\n",
            "Requirement already satisfied: referencing>=0.28.4 in /usr/local/lib/python3.10/dist-packages (from jsonschema>=3.2.0->nncf==2.5.0.dev0+9c30388f) (0.30.2)\n",
            "Requirement already satisfied: rpds-py>=0.7.1 in /usr/local/lib/python3.10/dist-packages (from jsonschema>=3.2.0->nncf==2.5.0.dev0+9c30388f) (0.9.2)\n",
            "Requirement already satisfied: python-dateutil>=2.8.1 in /usr/local/lib/python3.10/dist-packages (from pandas<2.1,>=1.1.5->nncf==2.5.0.dev0+9c30388f) (2.8.2)\n",
            "Requirement already satisfied: pytz>=2020.1 in /usr/local/lib/python3.10/dist-packages (from pandas<2.1,>=1.1.5->nncf==2.5.0.dev0+9c30388f) (2023.3)\n",
            "Requirement already satisfied: joblib>=1.1.1 in /usr/local/lib/python3.10/dist-packages (from scikit-learn>=0.24.0->nncf==2.5.0.dev0+9c30388f) (1.3.2)\n",
            "Requirement already satisfied: threadpoolctl>=2.0.0 in /usr/local/lib/python3.10/dist-packages (from scikit-learn>=0.24.0->nncf==2.5.0.dev0+9c30388f) (3.2.0)\n",
            "Requirement already satisfied: filelock in /usr/local/lib/python3.10/dist-packages (from torch<2.1,>=1.13.0->nncf==2.5.0.dev0+9c30388f) (3.12.2)\n",
            "Requirement already satisfied: typing-extensions in /usr/local/lib/python3.10/dist-packages (from torch<2.1,>=1.13.0->nncf==2.5.0.dev0+9c30388f) (4.7.1)\n",
            "Requirement already satisfied: sympy in /usr/local/lib/python3.10/dist-packages (from torch<2.1,>=1.13.0->nncf==2.5.0.dev0+9c30388f) (1.12)\n",
            "Requirement already satisfied: jinja2 in /usr/local/lib/python3.10/dist-packages (from torch<2.1,>=1.13.0->nncf==2.5.0.dev0+9c30388f) (3.1.2)\n",
            "Requirement already satisfied: triton==2.0.0 in /usr/local/lib/python3.10/dist-packages (from torch<2.1,>=1.13.0->nncf==2.5.0.dev0+9c30388f) (2.0.0)\n",
            "Requirement already satisfied: cmake in /usr/local/lib/python3.10/dist-packages (from triton==2.0.0->torch<2.1,>=1.13.0->nncf==2.5.0.dev0+9c30388f) (3.27.2)\n",
            "Requirement already satisfied: lit in /usr/local/lib/python3.10/dist-packages (from triton==2.0.0->torch<2.1,>=1.13.0->nncf==2.5.0.dev0+9c30388f) (16.0.6)\n",
            "Requirement already satisfied: matplotlib>=3 in /usr/local/lib/python3.10/dist-packages (from pymoo@ git+https://github.com/anyoptimization/pymoo.git@695cb26923903f872c7256a9013609769f3cc2bd->nncf==2.5.0.dev0+9c30388f) (3.7.1)\n",
            "Requirement already satisfied: autograd>=1.4 in /usr/local/lib/python3.10/dist-packages (from pymoo@ git+https://github.com/anyoptimization/pymoo.git@695cb26923903f872c7256a9013609769f3cc2bd->nncf==2.5.0.dev0+9c30388f) (1.6.2)\n",
            "Collecting cma==3.2.2 (from pymoo@ git+https://github.com/anyoptimization/pymoo.git@695cb26923903f872c7256a9013609769f3cc2bd->nncf==2.5.0.dev0+9c30388f)\n",
            "  Downloading cma-3.2.2-py2.py3-none-any.whl (249 kB)\n",
            "\u001b[2K     \u001b[90m━━━━━━━━━━━━━━━━━━━━━━━━━━━━━━━━━━━━━━\u001b[0m \u001b[32m249.1/249.1 kB\u001b[0m \u001b[31m12.9 MB/s\u001b[0m eta \u001b[36m0:00:00\u001b[0m\n",
            "\u001b[?25hCollecting alive-progress (from pymoo@ git+https://github.com/anyoptimization/pymoo.git@695cb26923903f872c7256a9013609769f3cc2bd->nncf==2.5.0.dev0+9c30388f)\n",
            "  Downloading alive_progress-3.1.4-py3-none-any.whl (75 kB)\n",
            "\u001b[2K     \u001b[90m━━━━━━━━━━━━━━━━━━━━━━━━━━━━━━━━━━━━━━━━\u001b[0m \u001b[32m75.9/75.9 kB\u001b[0m \u001b[31m9.5 MB/s\u001b[0m eta \u001b[36m0:00:00\u001b[0m\n",
            "\u001b[?25hCollecting dill (from pymoo@ git+https://github.com/anyoptimization/pymoo.git@695cb26923903f872c7256a9013609769f3cc2bd->nncf==2.5.0.dev0+9c30388f)\n",
            "  Downloading dill-0.3.7-py3-none-any.whl (115 kB)\n",
            "\u001b[2K     \u001b[90m━━━━━━━━━━━━━━━━━━━━━━━━━━━━━━━━━━━━━━\u001b[0m \u001b[32m115.3/115.3 kB\u001b[0m \u001b[31m12.5 MB/s\u001b[0m eta \u001b[36m0:00:00\u001b[0m\n",
            "\u001b[?25hCollecting Deprecated (from pymoo@ git+https://github.com/anyoptimization/pymoo.git@695cb26923903f872c7256a9013609769f3cc2bd->nncf==2.5.0.dev0+9c30388f)\n",
            "  Downloading Deprecated-1.2.14-py2.py3-none-any.whl (9.6 kB)\n",
            "Requirement already satisfied: future>=0.15.2 in /usr/local/lib/python3.10/dist-packages (from autograd>=1.4->pymoo@ git+https://github.com/anyoptimization/pymoo.git@695cb26923903f872c7256a9013609769f3cc2bd->nncf==2.5.0.dev0+9c30388f) (0.18.3)\n",
            "Requirement already satisfied: contourpy>=1.0.1 in /usr/local/lib/python3.10/dist-packages (from matplotlib>=3->pymoo@ git+https://github.com/anyoptimization/pymoo.git@695cb26923903f872c7256a9013609769f3cc2bd->nncf==2.5.0.dev0+9c30388f) (1.1.0)\n",
            "Requirement already satisfied: cycler>=0.10 in /usr/local/lib/python3.10/dist-packages (from matplotlib>=3->pymoo@ git+https://github.com/anyoptimization/pymoo.git@695cb26923903f872c7256a9013609769f3cc2bd->nncf==2.5.0.dev0+9c30388f) (0.11.0)\n",
            "Requirement already satisfied: fonttools>=4.22.0 in /usr/local/lib/python3.10/dist-packages (from matplotlib>=3->pymoo@ git+https://github.com/anyoptimization/pymoo.git@695cb26923903f872c7256a9013609769f3cc2bd->nncf==2.5.0.dev0+9c30388f) (4.42.1)\n",
            "Requirement already satisfied: kiwisolver>=1.0.1 in /usr/local/lib/python3.10/dist-packages (from matplotlib>=3->pymoo@ git+https://github.com/anyoptimization/pymoo.git@695cb26923903f872c7256a9013609769f3cc2bd->nncf==2.5.0.dev0+9c30388f) (1.4.4)\n",
            "Requirement already satisfied: pillow>=6.2.0 in /usr/local/lib/python3.10/dist-packages (from matplotlib>=3->pymoo@ git+https://github.com/anyoptimization/pymoo.git@695cb26923903f872c7256a9013609769f3cc2bd->nncf==2.5.0.dev0+9c30388f) (9.4.0)\n",
            "Requirement already satisfied: six>=1.5 in /usr/local/lib/python3.10/dist-packages (from python-dateutil>=2.8.1->pandas<2.1,>=1.1.5->nncf==2.5.0.dev0+9c30388f) (1.16.0)\n",
            "Collecting about-time==4.2.1 (from alive-progress->pymoo@ git+https://github.com/anyoptimization/pymoo.git@695cb26923903f872c7256a9013609769f3cc2bd->nncf==2.5.0.dev0+9c30388f)\n",
            "  Downloading about_time-4.2.1-py3-none-any.whl (13 kB)\n",
            "Collecting grapheme==0.6.0 (from alive-progress->pymoo@ git+https://github.com/anyoptimization/pymoo.git@695cb26923903f872c7256a9013609769f3cc2bd->nncf==2.5.0.dev0+9c30388f)\n",
            "  Downloading grapheme-0.6.0.tar.gz (207 kB)\n",
            "\u001b[2K     \u001b[90m━━━━━━━━━━━━━━━━━━━━━━━━━━━━━━━━━━━━━━\u001b[0m \u001b[32m207.3/207.3 kB\u001b[0m \u001b[31m10.8 MB/s\u001b[0m eta \u001b[36m0:00:00\u001b[0m\n",
            "\u001b[?25h  Preparing metadata (setup.py) ... \u001b[?25l\u001b[?25hdone\n",
            "Requirement already satisfied: wrapt<2,>=1.10 in /usr/local/lib/python3.10/dist-packages (from Deprecated->pymoo@ git+https://github.com/anyoptimization/pymoo.git@695cb26923903f872c7256a9013609769f3cc2bd->nncf==2.5.0.dev0+9c30388f) (1.14.1)\n",
            "Requirement already satisfied: MarkupSafe>=2.0 in /usr/local/lib/python3.10/dist-packages (from jinja2->torch<2.1,>=1.13.0->nncf==2.5.0.dev0+9c30388f) (2.1.3)\n",
            "Requirement already satisfied: mpmath>=0.19 in /usr/local/lib/python3.10/dist-packages (from sympy->torch<2.1,>=1.13.0->nncf==2.5.0.dev0+9c30388f) (1.3.0)\n",
            "Building wheels for collected packages: jstyleson, nncf, pymoo, grapheme\n",
            "  Building wheel for jstyleson (setup.py) ... \u001b[?25l\u001b[?25hdone\n",
            "  Created wheel for jstyleson: filename=jstyleson-0.0.2-py3-none-any.whl size=2384 sha256=731c8f5d4e87d4b4b37c2c6e764851e58559577e373cdd7ca490376de7c59072\n",
            "  Stored in directory: /root/.cache/pip/wheels/12/51/c6/a1e751db88203e11c6d9ffe4683ca3d8c14b1479639bec1006\n",
            "  Building wheel for nncf (setup.py) ... \u001b[?25l\u001b[?25hdone\n",
            "  Created wheel for nncf: filename=nncf-2.5.0.dev0+9c30388f-py3-none-any.whl size=1139920 sha256=11a9ec27c986971b284afe501015fe351dbeab9dedd2788560bfddc44046ed39\n",
            "  Stored in directory: /tmp/pip-ephem-wheel-cache-xho9uta8/wheels/dd/e6/7b/14fe3a58e08fb43dadb909606dbb961f65984f671c4e72abb0\n",
            "  Building wheel for pymoo (setup.py) ... \u001b[?25l\u001b[?25hdone\n",
            "  Created wheel for pymoo: filename=pymoo-0.6.0.1-cp310-cp310-linux_x86_64.whl size=3225993 sha256=5eb6e5e256d054b4467fe46879cab5790055ab59592a99d8194ca2e78d9db159\n",
            "  Stored in directory: /root/.cache/pip/wheels/30/76/84/56f244b9306940b915c56642523019ec6846a50b9aca36076d\n",
            "  Building wheel for grapheme (setup.py) ... \u001b[?25l\u001b[?25hdone\n",
            "  Created wheel for grapheme: filename=grapheme-0.6.0-py3-none-any.whl size=210079 sha256=2b8e2af51c47ac28afb30241a254a521ce7cd5865ac4188e3457d7bc8794fa93\n",
            "  Stored in directory: /root/.cache/pip/wheels/01/e1/49/37e6bde9886439057450c494a79b0bef8bbe897a54aebfc757\n",
            "Successfully built jstyleson nncf pymoo grapheme\n",
            "Installing collected packages: texttable, openvino-telemetry, ninja, jstyleson, grapheme, pyparsing, networkx, dill, Deprecated, cma, about-time, alive-progress, pymoo, nncf\n",
            "  Attempting uninstall: pyparsing\n",
            "    Found existing installation: pyparsing 3.1.1\n",
            "    Uninstalling pyparsing-3.1.1:\n",
            "      Successfully uninstalled pyparsing-3.1.1\n",
            "  Attempting uninstall: networkx\n",
            "    Found existing installation: networkx 3.1\n",
            "    Uninstalling networkx-3.1:\n",
            "      Successfully uninstalled networkx-3.1\n",
            "Successfully installed Deprecated-1.2.14 about-time-4.2.1 alive-progress-3.1.4 cma-3.2.2 dill-0.3.7 grapheme-0.6.0 jstyleson-0.0.2 networkx-2.8.2 ninja-1.10.2.4 nncf-2.5.0.dev0+9c30388f openvino-telemetry-2023.1.1 pymoo-0.6.0.1 pyparsing-2.4.7 texttable-1.6.7\n"
          ]
        },
        {
          "output_type": "display_data",
          "data": {
            "application/vnd.colab-display-data+json": {
              "pip_warning": {
                "packages": [
                  "pyparsing"
                ]
              }
            }
          },
          "metadata": {}
        },
        {
          "output_type": "stream",
          "name": "stdout",
          "text": [
            "/content\n"
          ]
        }
      ]
    },
    {
      "cell_type": "code",
      "source": [
        "import torch\n",
        "import nncf.torch  # Important - must be imported before any other external package that depends on torch"
      ],
      "metadata": {
        "id": "VwLu99qZ3IEl",
        "colab": {
          "base_uri": "https://localhost:8080/"
        },
        "outputId": "c017febe-b1b2-4e43-9ec1-d4a520c7ffd6"
      },
      "execution_count": null,
      "outputs": [
        {
          "output_type": "stream",
          "name": "stdout",
          "text": [
            "INFO:nncf:NNCF initialized successfully. Supported frameworks detected: torch, tensorflow\n"
          ]
        },
        {
          "output_type": "stream",
          "name": "stderr",
          "text": [
            "No CUDA runtime is found, using CUDA_HOME='/usr/local/cuda'\n"
          ]
        }
      ]
    },
    {
      "cell_type": "markdown",
      "source": [
        "https://github.com/openvinotoolkit/nncf/tree/develop\n",
        "https://github.com/openvinotoolkit/nncf/blob/develop/docs/compression_algorithms/Quantization.md\n",
        "https://github.com/openvinotoolkit/nncf/blob/develop/examples/torch/classification/configs/quantization/inception_v3_imagenet_int8.json"
      ],
      "metadata": {
        "id": "XwXZ_Te7El1C"
      }
    },
    {
      "cell_type": "markdown",
      "source": [
        "**Задание на первую лабораторную работу**: реализовать Post Training Quantization для предобученной float32 torch2 модели на выбранном наборе данных. Квантизация обязательно должна проводиться с использованием калибровочной подвыборки. К результатам лабораторной прилагаются мини результаты исследования влияния гиперпараметров квантизации (см. начало ноутбка). Необходимо показать разные варианты с учетом и без SENSITIVITY анализа. Разрешается использовать дополнительные фреймворки после обсуждения. Важно наличие таблиц скорость / качество."
      ],
      "metadata": {
        "id": "Ysq3_CdFoNuu"
      }
    },
    {
      "cell_type": "markdown",
      "source": [],
      "metadata": {
        "id": "-lB1lqhx_QqQ"
      }
    }
  ]
}